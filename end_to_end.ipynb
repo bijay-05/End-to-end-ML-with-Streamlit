{
  "nbformat": 4,
  "nbformat_minor": 0,
  "metadata": {
    "colab": {
      "name": "end-to-end.ipynb",
      "provenance": [],
      "collapsed_sections": []
    },
    "kernelspec": {
      "name": "python3",
      "display_name": "Python 3"
    },
    "language_info": {
      "name": "python"
    }
  },
  "cells": [
    {
      "cell_type": "markdown",
      "source": [
        "# Let's build an End to End ML project with Python and Streamlit\n"
      ],
      "metadata": {
        "id": "P2qAf9FwOmWC"
      }
    },
    {
      "cell_type": "markdown",
      "source": [
        "# Steps to be followed\n",
        "Our diabetes prediction system will involve below major 6 steps.\n",
        "\n",
        "**1. Understanding Business Problem and getting data**\n",
        "\n",
        "**2. Visualizing the data**\n",
        "\n",
        "**3. Feature Engineering**\n",
        "\n",
        "**4. Training Models**\n",
        "\n",
        "**5. Deploying Model with Streamlit**\n",
        "\n",
        "\n",
        "## Understanding Business Problem and Getting Data\n",
        "\n",
        "Our Business Problem belongs to Medical Science domain i.e. *predicting if a patient is diabetic or not*. According to CDC, more than 34 million people in the United States itself have diabetes, and 1 in 5 of them don’t know they have it. This fact in itself is more than sufficient to build a production level system which can help actual patients who might be having Diabetes and not knowing it. So let’s clearly state our objective.\n",
        "\n",
        "We’ve stated our problem which we need to keep in mind for our entire project lifecycle. Now the main challenge is to get the data. In real life scenario, to get the data for our business problem is the real challenge. This alone might consume a lot of time in your project. Sometimes there is actually no data for you to start with and sometimes it is so messy that you’ll be dedicating 80% of project time to clean your data (`Feature Engineering`) .\n",
        "\n",
        "Fortunately, the dataset required for our problem is available on Kaggle. Dataset name is **Pima Indians Diabetes Database** collected from from the National Institute of Diabetes and Digestive and Kidney Disease. This dataset is small with `9` features and `768` observations which is enough to show how can we solve this problem.\n",
        "\n",
        "It is very important to know about each and every feature in your data. Consult the domain specialist if required to know about all the features . This will make Feature Engineering step easier and less time consuming. Here’s a brief description of all the features which I’m referring from data source itself for you to follow along.\n",
        "1. : Pregnancies: Number of times pregnant\n",
        "2. : Glucose: Plasma glucose concentration a 2 hours in an oral glucose tolerance test.\n",
        "3. : BloodPressure: Diastolic blood pressure (`mm Hg`)\n",
        "4. : SkinThickness: Triceps skin fold thickness (`mm`)\n",
        "5. : Insulin: 2-Hour serum insulin (`mu U/ml`)\n",
        "6. : BMI: Body mass index (`weight in kg/(height in m)²`)\n",
        "7. : DiabetesPedigreeFunction: Diabetes pedigree function\n",
        "8. : Age: Age (`years`)\n",
        "9. : Outcome: Class variable (`0 or 1`), 268 of 768 are 1, the others are 0.\n",
        "\n",
        "\n",
        "\n",
        "\n",
        "We start by importing `opendatasets` module to get the data from Kaggle."
      ],
      "metadata": {
        "id": "v4rHMmoYOydK"
      }
    },
    {
      "cell_type": "code",
      "source": [
        "!pip install opendatasets"
      ],
      "metadata": {
        "colab": {
          "base_uri": "https://localhost:8080/"
        },
        "id": "9hvs05w0Rtmx",
        "outputId": "356af607-86ed-416a-e85d-881dc7665b5c"
      },
      "execution_count": null,
      "outputs": [
        {
          "output_type": "stream",
          "name": "stdout",
          "text": [
            "Collecting opendatasets\n",
            "  Downloading opendatasets-0.1.20-py3-none-any.whl (14 kB)\n",
            "Requirement already satisfied: kaggle in /usr/local/lib/python3.7/dist-packages (from opendatasets) (1.5.12)\n",
            "Requirement already satisfied: tqdm in /usr/local/lib/python3.7/dist-packages (from opendatasets) (4.62.3)\n",
            "Requirement already satisfied: click in /usr/local/lib/python3.7/dist-packages (from opendatasets) (7.1.2)\n",
            "Requirement already satisfied: certifi in /usr/local/lib/python3.7/dist-packages (from kaggle->opendatasets) (2021.10.8)\n",
            "Requirement already satisfied: python-dateutil in /usr/local/lib/python3.7/dist-packages (from kaggle->opendatasets) (2.8.2)\n",
            "Requirement already satisfied: six>=1.10 in /usr/local/lib/python3.7/dist-packages (from kaggle->opendatasets) (1.15.0)\n",
            "Requirement already satisfied: urllib3 in /usr/local/lib/python3.7/dist-packages (from kaggle->opendatasets) (1.24.3)\n",
            "Requirement already satisfied: requests in /usr/local/lib/python3.7/dist-packages (from kaggle->opendatasets) (2.23.0)\n",
            "Requirement already satisfied: python-slugify in /usr/local/lib/python3.7/dist-packages (from kaggle->opendatasets) (5.0.2)\n",
            "Requirement already satisfied: text-unidecode>=1.3 in /usr/local/lib/python3.7/dist-packages (from python-slugify->kaggle->opendatasets) (1.3)\n",
            "Requirement already satisfied: idna<3,>=2.5 in /usr/local/lib/python3.7/dist-packages (from requests->kaggle->opendatasets) (2.10)\n",
            "Requirement already satisfied: chardet<4,>=3.0.2 in /usr/local/lib/python3.7/dist-packages (from requests->kaggle->opendatasets) (3.0.4)\n",
            "Installing collected packages: opendatasets\n",
            "Successfully installed opendatasets-0.1.20\n"
          ]
        }
      ]
    },
    {
      "cell_type": "code",
      "source": [
        "import opendatasets as od"
      ],
      "metadata": {
        "id": "Ea9o7NgaOuAB"
      },
      "execution_count": null,
      "outputs": []
    },
    {
      "cell_type": "code",
      "source": [
        "od.download('https://www.kaggle.com/uciml/pima-indians-diabetes-database')"
      ],
      "metadata": {
        "colab": {
          "base_uri": "https://localhost:8080/"
        },
        "id": "_YpT5pAIRsAj",
        "outputId": "f9e5d24d-232c-444a-8640-48c22c806889"
      },
      "execution_count": null,
      "outputs": [
        {
          "output_type": "stream",
          "name": "stdout",
          "text": [
            "Downloading pima-indians-diabetes-database.zip to ./pima-indians-diabetes-database\n"
          ]
        },
        {
          "output_type": "stream",
          "name": "stderr",
          "text": [
            "100%|██████████| 8.91k/8.91k [00:00<00:00, 1.47MB/s]"
          ]
        },
        {
          "output_type": "stream",
          "name": "stdout",
          "text": [
            "\n"
          ]
        },
        {
          "output_type": "stream",
          "name": "stderr",
          "text": [
            "\n"
          ]
        }
      ]
    },
    {
      "cell_type": "code",
      "source": [
        "import numpy as np\n",
        "import pandas as pd\n",
        "import seaborn as sns\n",
        "import matplotlib.pyplot as plt\n",
        "import matplotlib\n",
        "%matplotlib inline"
      ],
      "metadata": {
        "id": "kFNZZMivR2X5"
      },
      "execution_count": null,
      "outputs": []
    },
    {
      "cell_type": "markdown",
      "source": [
        "We read the data from `csv` file into `pandas DataFrame`."
      ],
      "metadata": {
        "id": "fdwJJQKeFByd"
      }
    },
    {
      "cell_type": "code",
      "source": [
        "df = pd.read_csv('/content/pima-indians-diabetes-database/diabetes.csv')"
      ],
      "metadata": {
        "id": "3Rhdlt5vSrD5"
      },
      "execution_count": null,
      "outputs": []
    },
    {
      "cell_type": "code",
      "source": [
        "print(df.columns)"
      ],
      "metadata": {
        "colab": {
          "base_uri": "https://localhost:8080/"
        },
        "id": "KymrWhyhU5iy",
        "outputId": "e546cec8-3e15-42e3-8824-835e6346120f"
      },
      "execution_count": null,
      "outputs": [
        {
          "output_type": "stream",
          "name": "stdout",
          "text": [
            "Index(['Pregnancies', 'Glucose', 'BloodPressure', 'SkinThickness', 'Insulin',\n",
            "       'BMI', 'DiabetesPedigreeFunction', 'Age', 'Outcome'],\n",
            "      dtype='object')\n"
          ]
        }
      ]
    },
    {
      "cell_type": "code",
      "source": [
        "df['Outcome'].value_counts()"
      ],
      "metadata": {
        "colab": {
          "base_uri": "https://localhost:8080/"
        },
        "id": "GmHiUt3MWOiy",
        "outputId": "dfb6e487-bf99-4f34-820b-c6fd5c0892a9"
      },
      "execution_count": null,
      "outputs": [
        {
          "output_type": "execute_result",
          "data": {
            "text/plain": [
              "0    500\n",
              "1    268\n",
              "Name: Outcome, dtype: int64"
            ]
          },
          "metadata": {},
          "execution_count": 17
        }
      ]
    },
    {
      "cell_type": "markdown",
      "source": [
        "## Visualizing the data\n",
        "Visualizing the data gives the information about distribution of the data and relation between different variables and target column. Let's plot some figures inorder to get a better overview of the data."
      ],
      "metadata": {
        "id": "KuLgQ4mwKEzS"
      }
    },
    {
      "cell_type": "code",
      "source": [
        "plt = sns.distplot(df['Pregnancies'])\n",
        "plt.set_title('Pregnancies Distribution', fontdict={'fontsize':10})\n",
        "plt.set_xlabel('Pregnancy Class', fontdict={'fontsize':9})\n",
        "plt.set_ylabel('Freq/Dist', fontdict={'fontsize':9})\n",
        "# we have right skewed plot for pregnancy"
      ],
      "metadata": {
        "colab": {
          "base_uri": "https://localhost:8080/",
          "height": 364
        },
        "id": "XaZfuJ3mVDh6",
        "outputId": "1bcc2dc1-6dd9-4c50-c67c-8fbfc2082032"
      },
      "execution_count": null,
      "outputs": [
        {
          "output_type": "stream",
          "name": "stderr",
          "text": [
            "/usr/local/lib/python3.7/dist-packages/seaborn/distributions.py:2619: FutureWarning: `distplot` is a deprecated function and will be removed in a future version. Please adapt your code to use either `displot` (a figure-level function with similar flexibility) or `histplot` (an axes-level function for histograms).\n",
            "  warnings.warn(msg, FutureWarning)\n"
          ]
        },
        {
          "output_type": "execute_result",
          "data": {
            "text/plain": [
              "Text(0, 0.5, 'Freq/Dist')"
            ]
          },
          "metadata": {},
          "execution_count": 18
        },
        {
          "output_type": "display_data",
          "data": {
            "image/png": "[encoded data removed]",
            "text/plain": [
              "<Figure size 432x288 with 1 Axes>"
            ]
          },
          "metadata": {
            "needs_background": "light"
          }
        }
      ]
    },
    {
      "cell_type": "code",
      "source": [
        "df['Pregnancies'].value_counts()"
      ],
      "metadata": {
        "colab": {
          "base_uri": "https://localhost:8080/"
        },
        "id": "7z8htl0cXsgD",
        "outputId": "a12acdd3-37eb-41ee-c427-72022b0e5f5f"
      },
      "execution_count": null,
      "outputs": [
        {
          "output_type": "execute_result",
          "data": {
            "text/plain": [
              "1     135\n",
              "0     111\n",
              "2     103\n",
              "3      75\n",
              "4      68\n",
              "5      57\n",
              "6      50\n",
              "7      45\n",
              "8      38\n",
              "9      28\n",
              "10     24\n",
              "11     11\n",
              "13     10\n",
              "12      9\n",
              "14      2\n",
              "15      1\n",
              "17      1\n",
              "Name: Pregnancies, dtype: int64"
            ]
          },
          "metadata": {},
          "execution_count": 19
        }
      ]
    },
    {
      "cell_type": "markdown",
      "source": [
        "**17 Pregnancies looks like an outlier**"
      ],
      "metadata": {
        "id": "SUaZS_vEX1P9"
      }
    },
    {
      "cell_type": "code",
      "source": [
        "sns.countplot(x='Pregnancies', data=df, hue='Outcome')"
      ],
      "metadata": {
        "colab": {
          "base_uri": "https://localhost:8080/",
          "height": 296
        },
        "id": "JEFIZXr0YDTR",
        "outputId": "a014f009-c061-400f-d752-37245ab59a1a"
      },
      "execution_count": null,
      "outputs": [
        {
          "output_type": "execute_result",
          "data": {
            "text/plain": [
              "<matplotlib.axes._subplots.AxesSubplot at 0x7f04b3d1df90>"
            ]
          },
          "metadata": {},
          "execution_count": 20
        },
        {
          "output_type": "display_data",
          "data": {
            "image/png": "[encoded data removed]",
            "text/plain": [
              "<Figure size 432x288 with 1 Axes>"
            ]
          },
          "metadata": {
            "needs_background": "light"
          }
        }
      ]
    },
    {
      "cell_type": "code",
      "source": [
        "# defining a function for our plot1 which we will use for our other variables as well\n",
        "# this plot is for distribution of the variable\n",
        "def plot1(data):\n",
        "  plt1 = sns.distplot(data)\n",
        "  plt1.set_title(data.name +'Distribution', fontdict={'fontsize':11})\n",
        "  plt1.set_xlabel(data.name +'Class', fontdict={'fontsize':9})\n",
        "  plt1.set_ylabel('Count/Dist.', fontdict={'fontsize':9})"
      ],
      "metadata": {
        "id": "fA19bTGWYRSC"
      },
      "execution_count": null,
      "outputs": []
    },
    {
      "cell_type": "code",
      "source": [
        "plot1(df['Glucose'])"
      ],
      "metadata": {
        "colab": {
          "base_uri": "https://localhost:8080/",
          "height": 347
        },
        "id": "5PruP-cSZFsr",
        "outputId": "f787c104-1fd6-4a3f-887c-b70e20701495"
      },
      "execution_count": null,
      "outputs": [
        {
          "output_type": "stream",
          "name": "stderr",
          "text": [
            "/usr/local/lib/python3.7/dist-packages/seaborn/distributions.py:2619: FutureWarning: `distplot` is a deprecated function and will be removed in a future version. Please adapt your code to use either `displot` (a figure-level function with similar flexibility) or `histplot` (an axes-level function for histograms).\n",
            "  warnings.warn(msg, FutureWarning)\n"
          ]
        },
        {
          "output_type": "display_data",
          "data": {
            "image/png": "[encoded data removed]",
            "text/plain": [
              "<Figure size 432x288 with 1 Axes>"
            ]
          },
          "metadata": {
            "needs_background": "light"
          }
        }
      ]
    },
    {
      "cell_type": "code",
      "source": [
        "# plot to compare distribution of a variable with diabetic or non-diabetic\n",
        "def plot2(df, var):\n",
        "  plt2 = sns.distplot(df[df.Outcome==False][var.name], color='green', label='Non-diabetic')\n",
        "  sns.distplot(df[df.Outcome==True][var.name], color='red', label='Diabetic')\n",
        "  plt2.set_title('Distribution of ' + var.name, fontdict={'fontsize':11})\n",
        "  plt2.set_xlabel(var.name, fontdict={'fontsize':9})\n",
        "  plt2.set_ylabel('Count/Dist.', fontdict={'fontsize':9})\n",
        "  plt2.axes.legend(loc=0)\n",
        "\n"
      ],
      "metadata": {
        "id": "WFhCVWImS4lZ"
      },
      "execution_count": null,
      "outputs": []
    },
    {
      "cell_type": "code",
      "source": [
        "plot2(df, df['Glucose'])\n",
        "# clearly diabetic and non-diabetic patient's glucose level are overlapping\n",
        "# between 90-120 approx"
      ],
      "metadata": {
        "colab": {
          "base_uri": "https://localhost:8080/",
          "height": 381
        },
        "id": "XwcSl_7CUqWa",
        "outputId": "bb7e4d27-3deb-41b3-c45a-fa6c782fdd08"
      },
      "execution_count": null,
      "outputs": [
        {
          "output_type": "stream",
          "name": "stderr",
          "text": [
            "/usr/local/lib/python3.7/dist-packages/seaborn/distributions.py:2619: FutureWarning: `distplot` is a deprecated function and will be removed in a future version. Please adapt your code to use either `displot` (a figure-level function with similar flexibility) or `histplot` (an axes-level function for histograms).\n",
            "  warnings.warn(msg, FutureWarning)\n",
            "/usr/local/lib/python3.7/dist-packages/seaborn/distributions.py:2619: FutureWarning: `distplot` is a deprecated function and will be removed in a future version. Please adapt your code to use either `displot` (a figure-level function with similar flexibility) or `histplot` (an axes-level function for histograms).\n",
            "  warnings.warn(msg, FutureWarning)\n"
          ]
        },
        {
          "output_type": "display_data",
          "data": {
            "image/png": "[encoded data removed]",
            "text/plain": [
              "<Figure size 432x288 with 1 Axes>"
            ]
          },
          "metadata": {
            "needs_background": "light"
          }
        }
      ]
    },
    {
      "cell_type": "code",
      "source": [
        "plot1(df['BloodPressure'])"
      ],
      "metadata": {
        "colab": {
          "base_uri": "https://localhost:8080/",
          "height": 347
        },
        "id": "k_J3bSlMVThS",
        "outputId": "96cca4cf-8dd0-4f21-e87d-6e9bf5ee9d55"
      },
      "execution_count": null,
      "outputs": [
        {
          "output_type": "stream",
          "name": "stderr",
          "text": [
            "/usr/local/lib/python3.7/dist-packages/seaborn/distributions.py:2619: FutureWarning: `distplot` is a deprecated function and will be removed in a future version. Please adapt your code to use either `displot` (a figure-level function with similar flexibility) or `histplot` (an axes-level function for histograms).\n",
            "  warnings.warn(msg, FutureWarning)\n"
          ]
        },
        {
          "output_type": "display_data",
          "data": {
            "image/png": "[encoded data removed]",
            "text/plain": [
              "<Figure size 432x288 with 1 Axes>"
            ]
          },
          "metadata": {
            "needs_background": "light"
          }
        }
      ]
    },
    {
      "cell_type": "code",
      "source": [
        "plot2(df, df['BloodPressure'])\n",
        "# that's almost complete ovelapping"
      ],
      "metadata": {
        "colab": {
          "base_uri": "https://localhost:8080/",
          "height": 381
        },
        "id": "jczaIcFmakor",
        "outputId": "0b4cfb8d-a976-42de-a1f5-21d0a26b49e6"
      },
      "execution_count": null,
      "outputs": [
        {
          "output_type": "stream",
          "name": "stderr",
          "text": [
            "/usr/local/lib/python3.7/dist-packages/seaborn/distributions.py:2619: FutureWarning: `distplot` is a deprecated function and will be removed in a future version. Please adapt your code to use either `displot` (a figure-level function with similar flexibility) or `histplot` (an axes-level function for histograms).\n",
            "  warnings.warn(msg, FutureWarning)\n",
            "/usr/local/lib/python3.7/dist-packages/seaborn/distributions.py:2619: FutureWarning: `distplot` is a deprecated function and will be removed in a future version. Please adapt your code to use either `displot` (a figure-level function with similar flexibility) or `histplot` (an axes-level function for histograms).\n",
            "  warnings.warn(msg, FutureWarning)\n"
          ]
        },
        {
          "output_type": "display_data",
          "data": {
            "image/png": "[encoded data removed]",
            "text/plain": [
              "<Figure size 432x288 with 1 Axes>"
            ]
          },
          "metadata": {
            "needs_background": "light"
          }
        }
      ]
    },
    {
      "cell_type": "code",
      "source": [
        "plot1(df.SkinThickness)"
      ],
      "metadata": {
        "colab": {
          "base_uri": "https://localhost:8080/",
          "height": 347
        },
        "id": "kG5RQxDgaosz",
        "outputId": "ee584a2b-f476-44ac-b3ed-369a3e9215df"
      },
      "execution_count": null,
      "outputs": [
        {
          "output_type": "stream",
          "name": "stderr",
          "text": [
            "/usr/local/lib/python3.7/dist-packages/seaborn/distributions.py:2619: FutureWarning: `distplot` is a deprecated function and will be removed in a future version. Please adapt your code to use either `displot` (a figure-level function with similar flexibility) or `histplot` (an axes-level function for histograms).\n",
            "  warnings.warn(msg, FutureWarning)\n"
          ]
        },
        {
          "output_type": "display_data",
          "data": {
            "image/png": "[encoded data removed]",
            "text/plain": [
              "<Figure size 432x288 with 1 Axes>"
            ]
          },
          "metadata": {
            "needs_background": "light"
          }
        }
      ]
    },
    {
      "cell_type": "code",
      "source": [
        "plot2(df, df.SkinThickness)\n",
        "# here also we have an overlapping"
      ],
      "metadata": {
        "colab": {
          "base_uri": "https://localhost:8080/",
          "height": 381
        },
        "id": "XiG41YYRa0iL",
        "outputId": "66c46137-2f73-46c5-b075-8c927359695e"
      },
      "execution_count": null,
      "outputs": [
        {
          "output_type": "stream",
          "name": "stderr",
          "text": [
            "/usr/local/lib/python3.7/dist-packages/seaborn/distributions.py:2619: FutureWarning: `distplot` is a deprecated function and will be removed in a future version. Please adapt your code to use either `displot` (a figure-level function with similar flexibility) or `histplot` (an axes-level function for histograms).\n",
            "  warnings.warn(msg, FutureWarning)\n",
            "/usr/local/lib/python3.7/dist-packages/seaborn/distributions.py:2619: FutureWarning: `distplot` is a deprecated function and will be removed in a future version. Please adapt your code to use either `displot` (a figure-level function with similar flexibility) or `histplot` (an axes-level function for histograms).\n",
            "  warnings.warn(msg, FutureWarning)\n"
          ]
        },
        {
          "output_type": "display_data",
          "data": {
            "image/png": "[encoded data removed]",
            "text/plain": [
              "<Figure size 432x288 with 1 Axes>"
            ]
          },
          "metadata": {
            "needs_background": "light"
          }
        }
      ]
    },
    {
      "cell_type": "code",
      "source": [
        "plot1(df.Insulin)\n",
        "# Insulin follows almost power law distribution\n",
        "# maximum values are 0"
      ],
      "metadata": {
        "colab": {
          "base_uri": "https://localhost:8080/",
          "height": 347
        },
        "id": "l0JovVTRa44l",
        "outputId": "9b118656-3661-481d-aa23-4333d41b739a"
      },
      "execution_count": null,
      "outputs": [
        {
          "output_type": "stream",
          "name": "stderr",
          "text": [
            "/usr/local/lib/python3.7/dist-packages/seaborn/distributions.py:2619: FutureWarning: `distplot` is a deprecated function and will be removed in a future version. Please adapt your code to use either `displot` (a figure-level function with similar flexibility) or `histplot` (an axes-level function for histograms).\n",
            "  warnings.warn(msg, FutureWarning)\n"
          ]
        },
        {
          "output_type": "display_data",
          "data": {
            "image/png": "[encoded data removed]",
            "text/plain": [
              "<Figure size 432x288 with 1 Axes>"
            ]
          },
          "metadata": {
            "needs_background": "light"
          }
        }
      ]
    },
    {
      "cell_type": "code",
      "source": [
        "plot2(df, df.Insulin)"
      ],
      "metadata": {
        "colab": {
          "base_uri": "https://localhost:8080/",
          "height": 381
        },
        "id": "5Hp3FC2ma8ez",
        "outputId": "e12af1b1-397b-42d9-a247-f3dc3bb80335"
      },
      "execution_count": null,
      "outputs": [
        {
          "output_type": "stream",
          "name": "stderr",
          "text": [
            "/usr/local/lib/python3.7/dist-packages/seaborn/distributions.py:2619: FutureWarning: `distplot` is a deprecated function and will be removed in a future version. Please adapt your code to use either `displot` (a figure-level function with similar flexibility) or `histplot` (an axes-level function for histograms).\n",
            "  warnings.warn(msg, FutureWarning)\n",
            "/usr/local/lib/python3.7/dist-packages/seaborn/distributions.py:2619: FutureWarning: `distplot` is a deprecated function and will be removed in a future version. Please adapt your code to use either `displot` (a figure-level function with similar flexibility) or `histplot` (an axes-level function for histograms).\n",
            "  warnings.warn(msg, FutureWarning)\n"
          ]
        },
        {
          "output_type": "display_data",
          "data": {
            "image/png": "[encoded data removed]",
            "text/plain": [
              "<Figure size 432x288 with 1 Axes>"
            ]
          },
          "metadata": {
            "needs_background": "light"
          }
        }
      ]
    },
    {
      "cell_type": "code",
      "source": [
        "plot1(df.BMI)"
      ],
      "metadata": {
        "colab": {
          "base_uri": "https://localhost:8080/",
          "height": 347
        },
        "id": "pqRDbHvcbSTz",
        "outputId": "dc6e7f80-f407-46dc-fe30-a081a28f1e47"
      },
      "execution_count": null,
      "outputs": [
        {
          "output_type": "stream",
          "name": "stderr",
          "text": [
            "/usr/local/lib/python3.7/dist-packages/seaborn/distributions.py:2619: FutureWarning: `distplot` is a deprecated function and will be removed in a future version. Please adapt your code to use either `displot` (a figure-level function with similar flexibility) or `histplot` (an axes-level function for histograms).\n",
            "  warnings.warn(msg, FutureWarning)\n"
          ]
        },
        {
          "output_type": "display_data",
          "data": {
            "image/png": "[encoded data removed]",
            "text/plain": [
              "<Figure size 432x288 with 1 Axes>"
            ]
          },
          "metadata": {
            "needs_background": "light"
          }
        }
      ]
    },
    {
      "cell_type": "code",
      "source": [
        "plot2(df, df.BMI)"
      ],
      "metadata": {
        "colab": {
          "base_uri": "https://localhost:8080/",
          "height": 381
        },
        "id": "g5S6RG1dbV27",
        "outputId": "c472b4f5-f82e-45a3-c7a7-74af9f1b9e0a"
      },
      "execution_count": null,
      "outputs": [
        {
          "output_type": "stream",
          "name": "stderr",
          "text": [
            "/usr/local/lib/python3.7/dist-packages/seaborn/distributions.py:2619: FutureWarning: `distplot` is a deprecated function and will be removed in a future version. Please adapt your code to use either `displot` (a figure-level function with similar flexibility) or `histplot` (an axes-level function for histograms).\n",
            "  warnings.warn(msg, FutureWarning)\n",
            "/usr/local/lib/python3.7/dist-packages/seaborn/distributions.py:2619: FutureWarning: `distplot` is a deprecated function and will be removed in a future version. Please adapt your code to use either `displot` (a figure-level function with similar flexibility) or `histplot` (an axes-level function for histograms).\n",
            "  warnings.warn(msg, FutureWarning)\n"
          ]
        },
        {
          "output_type": "display_data",
          "data": {
            "image/png": "[encoded data removed]",
            "text/plain": [
              "<Figure size 432x288 with 1 Axes>"
            ]
          },
          "metadata": {
            "needs_background": "light"
          }
        }
      ]
    },
    {
      "cell_type": "code",
      "source": [
        "plot1(df.DiabetesPedigreeFunction)"
      ],
      "metadata": {
        "colab": {
          "base_uri": "https://localhost:8080/",
          "height": 347
        },
        "id": "cp3lh7YwbXtr",
        "outputId": "30025653-d7c6-48f1-bd8c-3dc5f7728162"
      },
      "execution_count": null,
      "outputs": [
        {
          "output_type": "stream",
          "name": "stderr",
          "text": [
            "/usr/local/lib/python3.7/dist-packages/seaborn/distributions.py:2619: FutureWarning: `distplot` is a deprecated function and will be removed in a future version. Please adapt your code to use either `displot` (a figure-level function with similar flexibility) or `histplot` (an axes-level function for histograms).\n",
            "  warnings.warn(msg, FutureWarning)\n"
          ]
        },
        {
          "output_type": "display_data",
          "data": {
            "image/png": "[encoded data removed]",
            "text/plain": [
              "<Figure size 432x288 with 1 Axes>"
            ]
          },
          "metadata": {
            "needs_background": "light"
          }
        }
      ]
    },
    {
      "cell_type": "code",
      "source": [
        "plot2(df, df.DiabetesPedigreeFunction)"
      ],
      "metadata": {
        "colab": {
          "base_uri": "https://localhost:8080/",
          "height": 381
        },
        "id": "Eh1VDUDrbkz8",
        "outputId": "fc945bba-ff1c-4e60-d48b-ab68baeb850f"
      },
      "execution_count": null,
      "outputs": [
        {
          "output_type": "stream",
          "name": "stderr",
          "text": [
            "/usr/local/lib/python3.7/dist-packages/seaborn/distributions.py:2619: FutureWarning: `distplot` is a deprecated function and will be removed in a future version. Please adapt your code to use either `displot` (a figure-level function with similar flexibility) or `histplot` (an axes-level function for histograms).\n",
            "  warnings.warn(msg, FutureWarning)\n",
            "/usr/local/lib/python3.7/dist-packages/seaborn/distributions.py:2619: FutureWarning: `distplot` is a deprecated function and will be removed in a future version. Please adapt your code to use either `displot` (a figure-level function with similar flexibility) or `histplot` (an axes-level function for histograms).\n",
            "  warnings.warn(msg, FutureWarning)\n"
          ]
        },
        {
          "output_type": "display_data",
          "data": {
            "image/png": "[encoded data removed]",
            "text/plain": [
              "<Figure size 432x288 with 1 Axes>"
            ]
          },
          "metadata": {
            "needs_background": "light"
          }
        }
      ]
    },
    {
      "cell_type": "code",
      "source": [
        "plot1(df.Age)"
      ],
      "metadata": {
        "colab": {
          "base_uri": "https://localhost:8080/",
          "height": 347
        },
        "id": "gdluHxkJbm-z",
        "outputId": "4be48ec8-e5e5-4e7b-d4cf-d21a167916a7"
      },
      "execution_count": null,
      "outputs": [
        {
          "output_type": "stream",
          "name": "stderr",
          "text": [
            "/usr/local/lib/python3.7/dist-packages/seaborn/distributions.py:2619: FutureWarning: `distplot` is a deprecated function and will be removed in a future version. Please adapt your code to use either `displot` (a figure-level function with similar flexibility) or `histplot` (an axes-level function for histograms).\n",
            "  warnings.warn(msg, FutureWarning)\n"
          ]
        },
        {
          "output_type": "display_data",
          "data": {
            "image/png": "[encoded data removed]",
            "text/plain": [
              "<Figure size 432x288 with 1 Axes>"
            ]
          },
          "metadata": {
            "needs_background": "light"
          }
        }
      ]
    },
    {
      "cell_type": "code",
      "source": [
        "plot2(df, df.Age)\n",
        "# this can be a good observation\n",
        "# people between 40-50 are more prone to diabetes as total number of people in that age group are less\n",
        "# non-diabetic"
      ],
      "metadata": {
        "colab": {
          "base_uri": "https://localhost:8080/",
          "height": 381
        },
        "id": "ulw_LY0Lbphz",
        "outputId": "8ff13ca7-38cc-4b45-f763-46c54f9f2cff"
      },
      "execution_count": null,
      "outputs": [
        {
          "output_type": "stream",
          "name": "stderr",
          "text": [
            "/usr/local/lib/python3.7/dist-packages/seaborn/distributions.py:2619: FutureWarning: `distplot` is a deprecated function and will be removed in a future version. Please adapt your code to use either `displot` (a figure-level function with similar flexibility) or `histplot` (an axes-level function for histograms).\n",
            "  warnings.warn(msg, FutureWarning)\n",
            "/usr/local/lib/python3.7/dist-packages/seaborn/distributions.py:2619: FutureWarning: `distplot` is a deprecated function and will be removed in a future version. Please adapt your code to use either `displot` (a figure-level function with similar flexibility) or `histplot` (an axes-level function for histograms).\n",
            "  warnings.warn(msg, FutureWarning)\n"
          ]
        },
        {
          "output_type": "display_data",
          "data": {
            "image/png": "[encoded data removed]",
            "text/plain": [
              "<Figure size 432x288 with 1 Axes>"
            ]
          },
          "metadata": {
            "needs_background": "light"
          }
        }
      ]
    },
    {
      "cell_type": "markdown",
      "source": [
        "### Co-relation"
      ],
      "metadata": {
        "id": "9TB13fEqcKqr"
      }
    },
    {
      "cell_type": "code",
      "source": [
        "plt.figure(dpi = 125, figsize=(5,4))\n",
        "mask = np.triu(df.corr())\n",
        "# np.triu returns lower triangle for our heatmap as we donot need upper map\n",
        "sns.heatmap(df.corr(), mask=mask, fmt=\".1f\", annot=True, lw=0.1, cmap='YlGnBu')\n",
        "plt.title('Correlation Map')\n",
        "plt.show()\n",
        "# considering outcome variable, skinthickness and insulin are least correlated\n",
        "# other variables are also not much correlated\n",
        "# one thing that we can make through this is that, we cannot linealy separate our data"
      ],
      "metadata": {
        "colab": {
          "base_uri": "https://localhost:8080/",
          "height": 686
        },
        "id": "h4kr9JZMcKFj",
        "outputId": "44ae322b-5003-4e84-bec6-54cd5aecaadc"
      },
      "execution_count": null,
      "outputs": [
        {
          "output_type": "display_data",
          "data": {
            "image/png": "[encoded data removed]",
            "text/plain": [
              "<Figure size 625x500 with 2 Axes>"
            ]
          },
          "metadata": {
            "needs_background": "light"
          }
        }
      ]
    },
    {
      "cell_type": "code",
      "source": [
        ""
      ],
      "metadata": {
        "id": "3gqa38sXbwqj"
      },
      "execution_count": null,
      "outputs": []
    },
    {
      "cell_type": "markdown",
      "source": [
        "## Feature Engineering\n",
        "Here, we are going to tweak our features alittle bit. We will see if there are any null values and, if there are any then, remove them. Also we are going to normalize our data before we feed it into the model so the training of model doesnot take longer time."
      ],
      "metadata": {
        "id": "ViaIOgPWj2DZ"
      }
    },
    {
      "cell_type": "code",
      "source": [
        "# set seed for reproducibility\n",
        "Seed = 20\n",
        "np.random.seed(Seed)"
      ],
      "metadata": {
        "id": "Vr6G3_d29nEG"
      },
      "execution_count": null,
      "outputs": []
    },
    {
      "cell_type": "code",
      "source": [
        "df.head(10)"
      ],
      "metadata": {
        "colab": {
          "base_uri": "https://localhost:8080/",
          "height": 407
        },
        "id": "d44m3Bsg9-Af",
        "outputId": "2365fa3e-8769-416f-b26f-00e1b3397f8f"
      },
      "execution_count": null,
      "outputs": [
        {
          "output_type": "execute_result",
          "data": {
            "text/html": [
              "\n",
              "  <div id=\"df-46dcff9e-9941-4b08-a851-be5ae79dbb4b\">\n",
              "    <div class=\"colab-df-container\">\n",
              "      <div>\n",
              "<style scoped>\n",
              "    .dataframe tbody tr th:only-of-type {\n",
              "        vertical-align: middle;\n",
              "    }\n",
              "\n",
              "    .dataframe tbody tr th {\n",
              "        vertical-align: top;\n",
              "    }\n",
              "\n",
              "    .dataframe thead th {\n",
              "        text-align: right;\n",
              "    }\n",
              "</style>\n",
              "<table border=\"1\" class=\"dataframe\">\n",
              "  <thead>\n",
              "    <tr style=\"text-align: right;\">\n",
              "      <th></th>\n",
              "      <th>Pregnancies</th>\n",
              "      <th>Glucose</th>\n",
              "      <th>BloodPressure</th>\n",
              "      <th>SkinThickness</th>\n",
              "      <th>Insulin</th>\n",
              "      <th>BMI</th>\n",
              "      <th>DiabetesPedigreeFunction</th>\n",
              "      <th>Age</th>\n",
              "      <th>Outcome</th>\n",
              "    </tr>\n",
              "  </thead>\n",
              "  <tbody>\n",
              "    <tr>\n",
              "      <th>0</th>\n",
              "      <td>6</td>\n",
              "      <td>148</td>\n",
              "      <td>72</td>\n",
              "      <td>35</td>\n",
              "      <td>0</td>\n",
              "      <td>33.6</td>\n",
              "      <td>0.627</td>\n",
              "      <td>50</td>\n",
              "      <td>1</td>\n",
              "    </tr>\n",
              "    <tr>\n",
              "      <th>1</th>\n",
              "      <td>1</td>\n",
              "      <td>85</td>\n",
              "      <td>66</td>\n",
              "      <td>29</td>\n",
              "      <td>0</td>\n",
              "      <td>26.6</td>\n",
              "      <td>0.351</td>\n",
              "      <td>31</td>\n",
              "      <td>0</td>\n",
              "    </tr>\n",
              "    <tr>\n",
              "      <th>2</th>\n",
              "      <td>8</td>\n",
              "      <td>183</td>\n",
              "      <td>64</td>\n",
              "      <td>0</td>\n",
              "      <td>0</td>\n",
              "      <td>23.3</td>\n",
              "      <td>0.672</td>\n",
              "      <td>32</td>\n",
              "      <td>1</td>\n",
              "    </tr>\n",
              "    <tr>\n",
              "      <th>3</th>\n",
              "      <td>1</td>\n",
              "      <td>89</td>\n",
              "      <td>66</td>\n",
              "      <td>23</td>\n",
              "      <td>94</td>\n",
              "      <td>28.1</td>\n",
              "      <td>0.167</td>\n",
              "      <td>21</td>\n",
              "      <td>0</td>\n",
              "    </tr>\n",
              "    <tr>\n",
              "      <th>4</th>\n",
              "      <td>0</td>\n",
              "      <td>137</td>\n",
              "      <td>40</td>\n",
              "      <td>35</td>\n",
              "      <td>168</td>\n",
              "      <td>43.1</td>\n",
              "      <td>2.288</td>\n",
              "      <td>33</td>\n",
              "      <td>1</td>\n",
              "    </tr>\n",
              "    <tr>\n",
              "      <th>5</th>\n",
              "      <td>5</td>\n",
              "      <td>116</td>\n",
              "      <td>74</td>\n",
              "      <td>0</td>\n",
              "      <td>0</td>\n",
              "      <td>25.6</td>\n",
              "      <td>0.201</td>\n",
              "      <td>30</td>\n",
              "      <td>0</td>\n",
              "    </tr>\n",
              "    <tr>\n",
              "      <th>6</th>\n",
              "      <td>3</td>\n",
              "      <td>78</td>\n",
              "      <td>50</td>\n",
              "      <td>32</td>\n",
              "      <td>88</td>\n",
              "      <td>31.0</td>\n",
              "      <td>0.248</td>\n",
              "      <td>26</td>\n",
              "      <td>1</td>\n",
              "    </tr>\n",
              "    <tr>\n",
              "      <th>7</th>\n",
              "      <td>10</td>\n",
              "      <td>115</td>\n",
              "      <td>0</td>\n",
              "      <td>0</td>\n",
              "      <td>0</td>\n",
              "      <td>35.3</td>\n",
              "      <td>0.134</td>\n",
              "      <td>29</td>\n",
              "      <td>0</td>\n",
              "    </tr>\n",
              "    <tr>\n",
              "      <th>8</th>\n",
              "      <td>2</td>\n",
              "      <td>197</td>\n",
              "      <td>70</td>\n",
              "      <td>45</td>\n",
              "      <td>543</td>\n",
              "      <td>30.5</td>\n",
              "      <td>0.158</td>\n",
              "      <td>53</td>\n",
              "      <td>1</td>\n",
              "    </tr>\n",
              "    <tr>\n",
              "      <th>9</th>\n",
              "      <td>8</td>\n",
              "      <td>125</td>\n",
              "      <td>96</td>\n",
              "      <td>0</td>\n",
              "      <td>0</td>\n",
              "      <td>0.0</td>\n",
              "      <td>0.232</td>\n",
              "      <td>54</td>\n",
              "      <td>1</td>\n",
              "    </tr>\n",
              "  </tbody>\n",
              "</table>\n",
              "</div>\n",
              "      <button class=\"colab-df-convert\" onclick=\"convertToInteractive('df-46dcff9e-9941-4b08-a851-be5ae79dbb4b')\"\n",
              "              title=\"Convert this dataframe to an interactive table.\"\n",
              "              style=\"display:none;\">\n",
              "        \n",
              "  <svg xmlns=\"http://www.w3.org/2000/svg\" height=\"24px\"viewBox=\"0 0 24 24\"\n",
              "       width=\"24px\">\n",
              "    <path d=\"M0 0h24v24H0V0z\" fill=\"none\"/>\n",
              "    <path d=\"M18.56 5.44l.94 2.06.94-2.06 2.06-.94-2.06-.94-.94-2.06-.94 2.06-2.06.94zm-11 1L8.5 8.5l.94-2.06 2.06-.94-2.06-.94L8.5 2.5l-.94 2.06-2.06.94zm10 10l.94 2.06.94-2.06 2.06-.94-2.06-.94-.94-2.06-.94 2.06-2.06.94z\"/><path d=\"M17.41 7.96l-1.37-1.37c-.4-.4-.92-.59-1.43-.59-.52 0-1.04.2-1.43.59L10.3 9.45l-7.72 7.72c-.78.78-.78 2.05 0 2.83L4 21.41c.39.39.9.59 1.41.59.51 0 1.02-.2 1.41-.59l7.78-7.78 2.81-2.81c.8-.78.8-2.07 0-2.86zM5.41 20L4 18.59l7.72-7.72 1.47 1.35L5.41 20z\"/>\n",
              "  </svg>\n",
              "      </button>\n",
              "      \n",
              "  <style>\n",
              "    .colab-df-container {\n",
              "      display:flex;\n",
              "      flex-wrap:wrap;\n",
              "      gap: 12px;\n",
              "    }\n",
              "\n",
              "    .colab-df-convert {\n",
              "      background-color: #E8F0FE;\n",
              "      border: none;\n",
              "      border-radius: 50%;\n",
              "      cursor: pointer;\n",
              "      display: none;\n",
              "      fill: #1967D2;\n",
              "      height: 32px;\n",
              "      padding: 0 0 0 0;\n",
              "      width: 32px;\n",
              "    }\n",
              "\n",
              "    .colab-df-convert:hover {\n",
              "      background-color: #E2EBFA;\n",
              "      box-shadow: 0px 1px 2px rgba(60, 64, 67, 0.3), 0px 1px 3px 1px rgba(60, 64, 67, 0.15);\n",
              "      fill: #174EA6;\n",
              "    }\n",
              "\n",
              "    [theme=dark] .colab-df-convert {\n",
              "      background-color: #3B4455;\n",
              "      fill: #D2E3FC;\n",
              "    }\n",
              "\n",
              "    [theme=dark] .colab-df-convert:hover {\n",
              "      background-color: #434B5C;\n",
              "      box-shadow: 0px 1px 3px 1px rgba(0, 0, 0, 0.15);\n",
              "      filter: drop-shadow(0px 1px 2px rgba(0, 0, 0, 0.3));\n",
              "      fill: #FFFFFF;\n",
              "    }\n",
              "  </style>\n",
              "\n",
              "      <script>\n",
              "        const buttonEl =\n",
              "          document.querySelector('#df-46dcff9e-9941-4b08-a851-be5ae79dbb4b button.colab-df-convert');\n",
              "        buttonEl.style.display =\n",
              "          google.colab.kernel.accessAllowed ? 'block' : 'none';\n",
              "\n",
              "        async function convertToInteractive(key) {\n",
              "          const element = document.querySelector('#df-46dcff9e-9941-4b08-a851-be5ae79dbb4b');\n",
              "          const dataTable =\n",
              "            await google.colab.kernel.invokeFunction('convertToInteractive',\n",
              "                                                     [key], {});\n",
              "          if (!dataTable) return;\n",
              "\n",
              "          const docLinkHtml = 'Like what you see? Visit the ' +\n",
              "            '<a target=\"_blank\" href=https://colab.research.google.com/notebooks/data_table.ipynb>data table notebook</a>'\n",
              "            + ' to learn more about interactive tables.';\n",
              "          element.innerHTML = '';\n",
              "          dataTable['output_type'] = 'display_data';\n",
              "          await google.colab.output.renderOutput(dataTable, element);\n",
              "          const docLink = document.createElement('div');\n",
              "          docLink.innerHTML = docLinkHtml;\n",
              "          element.appendChild(docLink);\n",
              "        }\n",
              "      </script>\n",
              "    </div>\n",
              "  </div>\n",
              "  "
            ],
            "text/plain": [
              "   Pregnancies  Glucose  BloodPressure  ...  DiabetesPedigreeFunction  Age  Outcome\n",
              "0            6      148             72  ...                     0.627   50        1\n",
              "1            1       85             66  ...                     0.351   31        0\n",
              "2            8      183             64  ...                     0.672   32        1\n",
              "3            1       89             66  ...                     0.167   21        0\n",
              "4            0      137             40  ...                     2.288   33        1\n",
              "5            5      116             74  ...                     0.201   30        0\n",
              "6            3       78             50  ...                     0.248   26        1\n",
              "7           10      115              0  ...                     0.134   29        0\n",
              "8            2      197             70  ...                     0.158   53        1\n",
              "9            8      125             96  ...                     0.232   54        1\n",
              "\n",
              "[10 rows x 9 columns]"
            ]
          },
          "metadata": {},
          "execution_count": 9
        }
      ]
    },
    {
      "cell_type": "code",
      "source": [
        "print('Total zero Glucose values: ' + str(768-df['Glucose'].astype(bool).sum(axis=0)))\n",
        "print('Total 0 BP values:' + str(768-df['BloodPressure'].astype(bool).sum(axis=0)))\n",
        "print('Total 0 skinthickness values:' + str(768-df['SkinThickness'].astype(bool).sum(axis=0)))\n",
        "print('Total 0 Insulin values:' + str(768-df['Insulin'].astype(bool).sum(axis=0)))\n",
        "print('Total 0 DiabetesPedig.. values:' + str(768-df['DiabetesPedigreeFunction'].astype(bool).sum(axis=0)))\n",
        "print('Total 0 age values:' + str(768-df['Age'].astype(bool).sum(axis=0)))\n"
      ],
      "metadata": {
        "colab": {
          "base_uri": "https://localhost:8080/"
        },
        "id": "4cG3YvFf-Ajm",
        "outputId": "5b7a970b-2f5b-4408-e2fb-9b5305eec85c"
      },
      "execution_count": null,
      "outputs": [
        {
          "output_type": "stream",
          "name": "stdout",
          "text": [
            "Total zero Glucose values: 5\n",
            "Total 0 BP values:35\n",
            "Total 0 skinthickness values:227\n",
            "Total 0 Insulin values:374\n",
            "Total 0 DiabetesPedig.. values:0\n",
            "Total 0 age values:0\n"
          ]
        }
      ]
    },
    {
      "cell_type": "code",
      "source": [
        "def replace_zero(df):\n",
        "  df_nan = df.copy(deep=True)\n",
        "  cols = ['Glucose', 'BloodPressure', 'SkinThickness', 'Insulin', 'BMI']\n",
        "  df_nan[cols] = df_nan[cols].replace({0:np.nan})\n",
        "  return df_nan\n",
        "\n",
        "df_nan = replace_zero(df)"
      ],
      "metadata": {
        "id": "v1z97Ec6_QfH"
      },
      "execution_count": null,
      "outputs": []
    },
    {
      "cell_type": "code",
      "source": [
        "df_nan.isnull().sum()"
      ],
      "metadata": {
        "colab": {
          "base_uri": "https://localhost:8080/"
        },
        "id": "vvBVKOQXEp-s",
        "outputId": "b18cbe18-4db4-4e01-aae4-2be397bcada2"
      },
      "execution_count": null,
      "outputs": [
        {
          "output_type": "execute_result",
          "data": {
            "text/plain": [
              "Pregnancies                   0\n",
              "Glucose                       5\n",
              "BloodPressure                35\n",
              "SkinThickness               227\n",
              "Insulin                     374\n",
              "BMI                          11\n",
              "DiabetesPedigreeFunction      0\n",
              "Age                           0\n",
              "Outcome                       0\n",
              "dtype: int64"
            ]
          },
          "metadata": {},
          "execution_count": 8
        }
      ]
    },
    {
      "cell_type": "code",
      "source": [
        "df_nan.isnull().values.any()"
      ],
      "metadata": {
        "colab": {
          "base_uri": "https://localhost:8080/"
        },
        "id": "bc15gBmtEwJ6",
        "outputId": "f9048217-bbe8-43d8-963f-b20fb7e4811a"
      },
      "execution_count": null,
      "outputs": [
        {
          "output_type": "execute_result",
          "data": {
            "text/plain": [
              "True"
            ]
          },
          "metadata": {},
          "execution_count": 9
        }
      ]
    },
    {
      "cell_type": "markdown",
      "source": [
        "There are multiple strategies to handle Null values. There is simple `mean`, `median` or `mode` replacement methods that you can use which is standard approach. Amongst these, median replacement is a better approach as 1 outlier can significantly impact mean value whereas `median` is more robust in these situation.\n",
        "\n",
        "In our scenario, `median` replacement seemed to be an ideal case. Almost all variables had few missing values and median value was used."
      ],
      "metadata": {
        "id": "9i2_fH2-hSHd"
      }
    },
    {
      "cell_type": "code",
      "source": [
        "def find_median(df, var):\n",
        "  temp = df[df[var].notnull()]\n",
        "  temp = df[[var, 'Outcome']].groupby('Outcome')[[var]].median().reset_index()\n",
        "  return temp\n",
        "\n",
        "# replacing null values\n",
        "def replace_null(df, var):\n",
        "  median_df = find_median(df, var)\n",
        "  var0 = median_df[var].iloc[0]\n",
        "  var1 = median_df[var].iloc[1]\n",
        "  df.loc[(df['Outcome']==0) & (df[var].isnull()), var] = var0\n",
        "  df.loc[(df['Outcome']==1) & (df[var].isnull()), var] = var1\n",
        "  return df[var].isnull().sum()"
      ],
      "metadata": {
        "id": "FBdT5EFoGuzK"
      },
      "execution_count": null,
      "outputs": []
    },
    {
      "cell_type": "code",
      "source": [
        "print(str(replace_null(df_nan, 'Glucose'))+ ' Nulls for Glucose')\n",
        "print(str(replace_null(df_nan, 'SkinThickness'))+ ' Nulls for SkinThickness')\n",
        "print(str(replace_null(df_nan, 'Insulin'))+ ' Nulls for Insulin')\n",
        "print(str(replace_null(df_nan, 'BMI'))+ ' Nulls for BMI')\n",
        "print(str(replace_null(df_nan, 'BloodPressure'))+ ' Nulls for BloodPressure')"
      ],
      "metadata": {
        "colab": {
          "base_uri": "https://localhost:8080/"
        },
        "id": "1UngL04KfKdG",
        "outputId": "59b92c8f-028c-400a-f6fb-eded1249e799"
      },
      "execution_count": null,
      "outputs": [
        {
          "output_type": "stream",
          "name": "stdout",
          "text": [
            "0 Nulls for Glucose\n",
            "0 Nulls for SkinThickness\n",
            "0 Nulls for Insulin\n",
            "0 Nulls for BMI\n",
            "0 Nulls for BloodPressure\n"
          ]
        }
      ]
    },
    {
      "cell_type": "markdown",
      "source": [
        "### Normalizing the data"
      ],
      "metadata": {
        "id": "wFBWCAVvLO6i"
      }
    },
    {
      "cell_type": "code",
      "source": [
        "# we need to scale our data uniformly\n",
        "from sklearn.preprocessing import StandardScaler\n",
        "\n",
        "def std_scalar(df):\n",
        "  std_X = StandardScaler()\n",
        "  x = pd.DataFrame(std_X.fit_transform(df.drop(['Outcome'], axis=1)),\n",
        "                    columns=['Pregnancies', 'Glucose', 'BloodPressure', 'Insulin', 'BMI', 'Age',\n",
        "                              'DiabetesPedigreeFuntion', 'Age'])\n",
        "  y = df['Outcome']\n",
        "  return x,y"
      ],
      "metadata": {
        "id": "CtxgvVkvfzxM"
      },
      "execution_count": null,
      "outputs": []
    },
    {
      "cell_type": "code",
      "source": [
        "X,Y = std_scalar(df_nan)\n",
        "X.describe()"
      ],
      "metadata": {
        "colab": {
          "base_uri": "https://localhost:8080/",
          "height": 364
        },
        "id": "kYzxT_HGiwLt",
        "outputId": "684adae1-5d4f-46ca-d44b-8ffc7bc05ce7"
      },
      "execution_count": null,
      "outputs": [
        {
          "output_type": "execute_result",
          "data": {
            "text/html": [
              "\n",
              "  <div id=\"df-491f5a11-edc9-443c-90a7-6c1afced58e8\">\n",
              "    <div class=\"colab-df-container\">\n",
              "      <div>\n",
              "<style scoped>\n",
              "    .dataframe tbody tr th:only-of-type {\n",
              "        vertical-align: middle;\n",
              "    }\n",
              "\n",
              "    .dataframe tbody tr th {\n",
              "        vertical-align: top;\n",
              "    }\n",
              "\n",
              "    .dataframe thead th {\n",
              "        text-align: right;\n",
              "    }\n",
              "</style>\n",
              "<table border=\"1\" class=\"dataframe\">\n",
              "  <thead>\n",
              "    <tr style=\"text-align: right;\">\n",
              "      <th></th>\n",
              "      <th>Pregnancies</th>\n",
              "      <th>Glucose</th>\n",
              "      <th>BloodPressure</th>\n",
              "      <th>Insulin</th>\n",
              "      <th>BMI</th>\n",
              "      <th>Age</th>\n",
              "      <th>DiabetesPedigreeFuntion</th>\n",
              "      <th>Age</th>\n",
              "    </tr>\n",
              "  </thead>\n",
              "  <tbody>\n",
              "    <tr>\n",
              "      <th>count</th>\n",
              "      <td>7.680000e+02</td>\n",
              "      <td>7.680000e+02</td>\n",
              "      <td>7.680000e+02</td>\n",
              "      <td>7.680000e+02</td>\n",
              "      <td>7.680000e+02</td>\n",
              "      <td>7.680000e+02</td>\n",
              "      <td>7.680000e+02</td>\n",
              "      <td>7.680000e+02</td>\n",
              "    </tr>\n",
              "    <tr>\n",
              "      <th>mean</th>\n",
              "      <td>2.544261e-17</td>\n",
              "      <td>1.604619e-16</td>\n",
              "      <td>-3.685926e-16</td>\n",
              "      <td>-3.928426e-17</td>\n",
              "      <td>-8.601337e-18</td>\n",
              "      <td>1.054567e-16</td>\n",
              "      <td>2.462585e-16</td>\n",
              "      <td>1.857600e-16</td>\n",
              "    </tr>\n",
              "    <tr>\n",
              "      <th>std</th>\n",
              "      <td>1.000652e+00</td>\n",
              "      <td>1.000652e+00</td>\n",
              "      <td>1.000652e+00</td>\n",
              "      <td>1.000652e+00</td>\n",
              "      <td>1.000652e+00</td>\n",
              "      <td>1.000652e+00</td>\n",
              "      <td>1.000652e+00</td>\n",
              "      <td>1.000652e+00</td>\n",
              "    </tr>\n",
              "    <tr>\n",
              "      <th>min</th>\n",
              "      <td>-1.141852e+00</td>\n",
              "      <td>-2.551447e+00</td>\n",
              "      <td>-3.999727e+00</td>\n",
              "      <td>-2.486187e+00</td>\n",
              "      <td>-1.434747e+00</td>\n",
              "      <td>-2.070186e+00</td>\n",
              "      <td>-1.189553e+00</td>\n",
              "      <td>-1.041549e+00</td>\n",
              "    </tr>\n",
              "    <tr>\n",
              "      <th>25%</th>\n",
              "      <td>-8.448851e-01</td>\n",
              "      <td>-7.202356e-01</td>\n",
              "      <td>-6.934382e-01</td>\n",
              "      <td>-4.603073e-01</td>\n",
              "      <td>-4.408430e-01</td>\n",
              "      <td>-7.176590e-01</td>\n",
              "      <td>-6.889685e-01</td>\n",
              "      <td>-7.862862e-01</td>\n",
              "    </tr>\n",
              "    <tr>\n",
              "      <th>50%</th>\n",
              "      <td>-2.509521e-01</td>\n",
              "      <td>-1.536274e-01</td>\n",
              "      <td>-3.218035e-02</td>\n",
              "      <td>-1.226607e-01</td>\n",
              "      <td>-4.408430e-01</td>\n",
              "      <td>-5.593870e-02</td>\n",
              "      <td>-3.001282e-01</td>\n",
              "      <td>-3.608474e-01</td>\n",
              "    </tr>\n",
              "    <tr>\n",
              "      <th>75%</th>\n",
              "      <td>6.399473e-01</td>\n",
              "      <td>6.100618e-01</td>\n",
              "      <td>6.290775e-01</td>\n",
              "      <td>3.275348e-01</td>\n",
              "      <td>3.116039e-01</td>\n",
              "      <td>6.057816e-01</td>\n",
              "      <td>4.662269e-01</td>\n",
              "      <td>6.602056e-01</td>\n",
              "    </tr>\n",
              "    <tr>\n",
              "      <th>max</th>\n",
              "      <td>3.906578e+00</td>\n",
              "      <td>2.539814e+00</td>\n",
              "      <td>4.100681e+00</td>\n",
              "      <td>7.868309e+00</td>\n",
              "      <td>7.909072e+00</td>\n",
              "      <td>5.041489e+00</td>\n",
              "      <td>5.883565e+00</td>\n",
              "      <td>4.063716e+00</td>\n",
              "    </tr>\n",
              "  </tbody>\n",
              "</table>\n",
              "</div>\n",
              "      <button class=\"colab-df-convert\" onclick=\"convertToInteractive('df-491f5a11-edc9-443c-90a7-6c1afced58e8')\"\n",
              "              title=\"Convert this dataframe to an interactive table.\"\n",
              "              style=\"display:none;\">\n",
              "        \n",
              "  <svg xmlns=\"http://www.w3.org/2000/svg\" height=\"24px\"viewBox=\"0 0 24 24\"\n",
              "       width=\"24px\">\n",
              "    <path d=\"M0 0h24v24H0V0z\" fill=\"none\"/>\n",
              "    <path d=\"M18.56 5.44l.94 2.06.94-2.06 2.06-.94-2.06-.94-.94-2.06-.94 2.06-2.06.94zm-11 1L8.5 8.5l.94-2.06 2.06-.94-2.06-.94L8.5 2.5l-.94 2.06-2.06.94zm10 10l.94 2.06.94-2.06 2.06-.94-2.06-.94-.94-2.06-.94 2.06-2.06.94z\"/><path d=\"M17.41 7.96l-1.37-1.37c-.4-.4-.92-.59-1.43-.59-.52 0-1.04.2-1.43.59L10.3 9.45l-7.72 7.72c-.78.78-.78 2.05 0 2.83L4 21.41c.39.39.9.59 1.41.59.51 0 1.02-.2 1.41-.59l7.78-7.78 2.81-2.81c.8-.78.8-2.07 0-2.86zM5.41 20L4 18.59l7.72-7.72 1.47 1.35L5.41 20z\"/>\n",
              "  </svg>\n",
              "      </button>\n",
              "      \n",
              "  <style>\n",
              "    .colab-df-container {\n",
              "      display:flex;\n",
              "      flex-wrap:wrap;\n",
              "      gap: 12px;\n",
              "    }\n",
              "\n",
              "    .colab-df-convert {\n",
              "      background-color: #E8F0FE;\n",
              "      border: none;\n",
              "      border-radius: 50%;\n",
              "      cursor: pointer;\n",
              "      display: none;\n",
              "      fill: #1967D2;\n",
              "      height: 32px;\n",
              "      padding: 0 0 0 0;\n",
              "      width: 32px;\n",
              "    }\n",
              "\n",
              "    .colab-df-convert:hover {\n",
              "      background-color: #E2EBFA;\n",
              "      box-shadow: 0px 1px 2px rgba(60, 64, 67, 0.3), 0px 1px 3px 1px rgba(60, 64, 67, 0.15);\n",
              "      fill: #174EA6;\n",
              "    }\n",
              "\n",
              "    [theme=dark] .colab-df-convert {\n",
              "      background-color: #3B4455;\n",
              "      fill: #D2E3FC;\n",
              "    }\n",
              "\n",
              "    [theme=dark] .colab-df-convert:hover {\n",
              "      background-color: #434B5C;\n",
              "      box-shadow: 0px 1px 3px 1px rgba(0, 0, 0, 0.15);\n",
              "      filter: drop-shadow(0px 1px 2px rgba(0, 0, 0, 0.3));\n",
              "      fill: #FFFFFF;\n",
              "    }\n",
              "  </style>\n",
              "\n",
              "      <script>\n",
              "        const buttonEl =\n",
              "          document.querySelector('#df-491f5a11-edc9-443c-90a7-6c1afced58e8 button.colab-df-convert');\n",
              "        buttonEl.style.display =\n",
              "          google.colab.kernel.accessAllowed ? 'block' : 'none';\n",
              "\n",
              "        async function convertToInteractive(key) {\n",
              "          const element = document.querySelector('#df-491f5a11-edc9-443c-90a7-6c1afced58e8');\n",
              "          const dataTable =\n",
              "            await google.colab.kernel.invokeFunction('convertToInteractive',\n",
              "                                                     [key], {});\n",
              "          if (!dataTable) return;\n",
              "\n",
              "          const docLinkHtml = 'Like what you see? Visit the ' +\n",
              "            '<a target=\"_blank\" href=https://colab.research.google.com/notebooks/data_table.ipynb>data table notebook</a>'\n",
              "            + ' to learn more about interactive tables.';\n",
              "          element.innerHTML = '';\n",
              "          dataTable['output_type'] = 'display_data';\n",
              "          await google.colab.output.renderOutput(dataTable, element);\n",
              "          const docLink = document.createElement('div');\n",
              "          docLink.innerHTML = docLinkHtml;\n",
              "          element.appendChild(docLink);\n",
              "        }\n",
              "      </script>\n",
              "    </div>\n",
              "  </div>\n",
              "  "
            ],
            "text/plain": [
              "        Pregnancies       Glucose  ...  DiabetesPedigreeFuntion           Age\n",
              "count  7.680000e+02  7.680000e+02  ...             7.680000e+02  7.680000e+02\n",
              "mean   2.544261e-17  1.604619e-16  ...             2.462585e-16  1.857600e-16\n",
              "std    1.000652e+00  1.000652e+00  ...             1.000652e+00  1.000652e+00\n",
              "min   -1.141852e+00 -2.551447e+00  ...            -1.189553e+00 -1.041549e+00\n",
              "25%   -8.448851e-01 -7.202356e-01  ...            -6.889685e-01 -7.862862e-01\n",
              "50%   -2.509521e-01 -1.536274e-01  ...            -3.001282e-01 -3.608474e-01\n",
              "75%    6.399473e-01  6.100618e-01  ...             4.662269e-01  6.602056e-01\n",
              "max    3.906578e+00  2.539814e+00  ...             5.883565e+00  4.063716e+00\n",
              "\n",
              "[8 rows x 8 columns]"
            ]
          },
          "metadata": {},
          "execution_count": 15
        }
      ]
    },
    {
      "cell_type": "code",
      "source": [
        "Y.head()"
      ],
      "metadata": {
        "colab": {
          "base_uri": "https://localhost:8080/"
        },
        "id": "0fqbTc4NkPvG",
        "outputId": "f41f2c6e-b6dd-4d58-eb32-299a793d94fe"
      },
      "execution_count": null,
      "outputs": [
        {
          "output_type": "execute_result",
          "data": {
            "text/plain": [
              "0    1\n",
              "1    0\n",
              "2    1\n",
              "3    0\n",
              "4    1\n",
              "Name: Outcome, dtype: int64"
            ]
          },
          "metadata": {},
          "execution_count": 16
        }
      ]
    },
    {
      "cell_type": "markdown",
      "source": [
        "## Training models\n",
        "We will train few machine learning models and compare the metrics of each model and dump the best model into `.pkl` file."
      ],
      "metadata": {
        "id": "LeGPrpphLVKD"
      }
    },
    {
      "cell_type": "markdown",
      "source": [
        "### Training and testing data\n",
        "We need training data inorder to train the model and testing data to see how the model is performing on the data which it has not seen before. The model's performance on training and testing data indicates whether the model is generalizing well or not.\n",
        "\n",
        "We will be using `train_test_split` function from `sklearn.model_selection` to split our data into training and testing data."
      ],
      "metadata": {
        "id": "Z-U2229uLpZa"
      }
    },
    {
      "cell_type": "code",
      "source": [
        "# keep train size as 0.8\n",
        "from sklearn.model_selection import train_test_split\n",
        "\n",
        "X_train, X_test, Y_train, Y_test = train_test_split(X,Y, test_size=0.2, random_state=20, stratify=Y)"
      ],
      "metadata": {
        "id": "uliA59p6kYKl"
      },
      "execution_count": null,
      "outputs": []
    },
    {
      "cell_type": "markdown",
      "source": [
        "### KNN Model"
      ],
      "metadata": {
        "id": "uIrUJzSPNbX7"
      }
    },
    {
      "cell_type": "code",
      "source": [
        "# we are good to go with baseline model\n",
        "#KNN\n",
        "from sklearn.neighbors import KNeighborsClassifier\n",
        "\n",
        "test_scores = []\n",
        "train_scores = []\n",
        "for i in range(5,15):\n",
        "  neigh = KNeighborsClassifier(n_neighbors=i)\n",
        "  neigh.fit(X_train, Y_train)\n",
        "  train_scores.append(neigh.score(X_train, Y_train))\n",
        "  test_scores.append(neigh.score(X_test, Y_test))"
      ],
      "metadata": {
        "id": "OnvZ1rBGl7hX"
      },
      "execution_count": null,
      "outputs": []
    },
    {
      "cell_type": "code",
      "source": [
        "print('Max train_score is ' + str(max(train_scores)*100) + 'for k = ' +\n",
        "       str(train_scores.index(max(train_scores))+5))"
      ],
      "metadata": {
        "colab": {
          "base_uri": "https://localhost:8080/"
        },
        "id": "9_uyRjgbmwlu",
        "outputId": "f4060e6a-4c81-4e15-bfb4-b8f641b7767c"
      },
      "execution_count": null,
      "outputs": [
        {
          "output_type": "stream",
          "name": "stdout",
          "text": [
            "Max train_score is 85.66775244299674for k = 5\n"
          ]
        }
      ]
    },
    {
      "cell_type": "code",
      "source": [
        "print('Max test_score is ' + str(max(test_scores)*100) + 'for k = '+\n",
        "       str(test_scores.index(max(test_scores)) +5 ))"
      ],
      "metadata": {
        "colab": {
          "base_uri": "https://localhost:8080/"
        },
        "id": "Qeu0mhfCnbWW",
        "outputId": "5cf016d1-f690-4485-ecae-733e5cc749bc"
      },
      "execution_count": null,
      "outputs": [
        {
          "output_type": "stream",
          "name": "stdout",
          "text": [
            "Max test_score is 87.01298701298701for k = 13\n"
          ]
        }
      ]
    },
    {
      "cell_type": "markdown",
      "source": [
        "### Logistic Regression"
      ],
      "metadata": {
        "id": "2kAcmqbMoHXH"
      }
    },
    {
      "cell_type": "code",
      "source": [
        "from sklearn.linear_model import LogisticRegression\n",
        "\n",
        "log_model = LogisticRegression(random_state=20, penalty='l2').fit(X_train, Y_train)\n",
        "log_pred = LogisticRegression(X_test)\n",
        "log_model.score(X_test, Y_test)"
      ],
      "metadata": {
        "colab": {
          "base_uri": "https://localhost:8080/"
        },
        "id": "M-3Pe4lbn1yX",
        "outputId": "8fe1b739-5afa-4b7b-86b3-ebd0a679c75f"
      },
      "execution_count": null,
      "outputs": [
        {
          "output_type": "execute_result",
          "data": {
            "text/plain": [
              "0.8311688311688312"
            ]
          },
          "metadata": {},
          "execution_count": 33
        }
      ]
    },
    {
      "cell_type": "markdown",
      "source": [
        "### SVM (Support Vector Machine) Model"
      ],
      "metadata": {
        "id": "V5-71MTFo9H_"
      }
    },
    {
      "cell_type": "code",
      "source": [
        "from sklearn import svm\n",
        "\n",
        "svm_model = svm.SVC().fit(X_train, Y_train)\n",
        "svm_pred = svm_model.predict(X_test)\n",
        "svm_model.score(X_test, Y_test)"
      ],
      "metadata": {
        "colab": {
          "base_uri": "https://localhost:8080/"
        },
        "id": "fsah-03zolWf",
        "outputId": "c8918093-2d99-4e23-c356-2537c7ddca52"
      },
      "execution_count": null,
      "outputs": [
        {
          "output_type": "execute_result",
          "data": {
            "text/plain": [
              "0.8896103896103896"
            ]
          },
          "metadata": {},
          "execution_count": 19
        }
      ]
    },
    {
      "cell_type": "code",
      "source": [
        "# function to evaluate model performance\n",
        "def model_perf(pred, Y_test):\n",
        "  cmp_list=[]\n",
        "  for i,j in zip(pred, Y_test):\n",
        "    if i==j:\n",
        "      cmp_list.append(1)\n",
        "    else:\n",
        "      cmp_list.append(0)\n",
        "  return cmp_list"
      ],
      "metadata": {
        "id": "724ap6dfpr_3"
      },
      "execution_count": null,
      "outputs": []
    },
    {
      "cell_type": "code",
      "source": [
        "cmp_list = model_perf(svm_pred, Y_test)"
      ],
      "metadata": {
        "id": "3NkGfAr4qJ_H"
      },
      "execution_count": null,
      "outputs": []
    },
    {
      "cell_type": "code",
      "source": [
        "print('Model accuracy confirmation: ' + str(cmp_list.count(1)/len(Y_test)))"
      ],
      "metadata": {
        "colab": {
          "base_uri": "https://localhost:8080/"
        },
        "id": "q4UnLwREqO6_",
        "outputId": "77dee986-daea-4569-a856-743c21037327"
      },
      "execution_count": null,
      "outputs": [
        {
          "output_type": "stream",
          "name": "stdout",
          "text": [
            "Model accuracy confirmation: 0.8896103896103896\n"
          ]
        }
      ]
    },
    {
      "cell_type": "markdown",
      "source": [
        "### Random Forest\n"
      ],
      "metadata": {
        "id": "k7tXH5vhq8GY"
      }
    },
    {
      "cell_type": "code",
      "source": [
        "from sklearn.ensemble import RandomForestClassifier\n",
        "\n",
        "rf_model = RandomForestClassifier(max_depth=2, random_state=20).fit(X_train, Y_train)\n",
        "rf_pred = rf_model.predict(X_test)\n",
        "rf_model.score(X_test, Y_test)"
      ],
      "metadata": {
        "colab": {
          "base_uri": "https://localhost:8080/"
        },
        "id": "ZfuaA9fuqbUX",
        "outputId": "5d1da25a-90d7-4e8d-eaf6-804c59734bf3"
      },
      "execution_count": null,
      "outputs": [
        {
          "output_type": "execute_result",
          "data": {
            "text/plain": [
              "0.8571428571428571"
            ]
          },
          "metadata": {},
          "execution_count": 38
        }
      ]
    },
    {
      "cell_type": "markdown",
      "source": [
        "### Sequential Neural Network"
      ],
      "metadata": {
        "id": "VI1CgHN7r_vH"
      }
    },
    {
      "cell_type": "code",
      "source": [
        "import tensorflow as tf"
      ],
      "metadata": {
        "id": "4CNfyWqGsDLg"
      },
      "execution_count": null,
      "outputs": []
    },
    {
      "cell_type": "code",
      "source": [
        "def build_model():\n",
        "  model = tf.keras.Sequential([\n",
        "    tf.keras.layers.Dense(8, activation='relu', input_shape=[len(X_train.keys())]),\n",
        "    tf.keras.layers.Dense(4, activation='relu'),\n",
        "    tf.keras.layers.Dense(2, activation='relu'),\n",
        "    tf.keras.layers.Dense(1, activation='sigmoid')\n",
        "  ])\n",
        "\n",
        "  optimizer = tf.keras.optimizers.Adam(learning_rate=0.01, beta_1=0.9, beta_2=0.999, epsilon=1e-7)\n",
        "\n",
        "  model.compile(loss='binary_crossentropy', optimizer=optimizer, metrics=['accuracy'])\n",
        "\n",
        "  return model"
      ],
      "metadata": {
        "id": "Ub_QkXfJsGe3"
      },
      "execution_count": null,
      "outputs": []
    },
    {
      "cell_type": "code",
      "source": [
        "neural_model = build_model()"
      ],
      "metadata": {
        "id": "mHZCKse8tHM4"
      },
      "execution_count": null,
      "outputs": []
    },
    {
      "cell_type": "code",
      "source": [
        "neural_model.summary()"
      ],
      "metadata": {
        "colab": {
          "base_uri": "https://localhost:8080/"
        },
        "id": "8p5Ii3aatKSv",
        "outputId": "82af09c0-1cf1-4dfa-aae4-4ca19386f4de"
      },
      "execution_count": null,
      "outputs": [
        {
          "output_type": "stream",
          "name": "stdout",
          "text": [
            "Model: \"sequential\"\n",
            "_________________________________________________________________\n",
            " Layer (type)                Output Shape              Param #   \n",
            "=================================================================\n",
            " dense (Dense)               (None, 8)                 72        \n",
            "                                                                 \n",
            " dense_1 (Dense)             (None, 4)                 36        \n",
            "                                                                 \n",
            " dense_2 (Dense)             (None, 2)                 10        \n",
            "                                                                 \n",
            " dense_3 (Dense)             (None, 1)                 3         \n",
            "                                                                 \n",
            "=================================================================\n",
            "Total params: 121\n",
            "Trainable params: 121\n",
            "Non-trainable params: 0\n",
            "_________________________________________________________________\n"
          ]
        }
      ]
    },
    {
      "cell_type": "code",
      "source": [
        "# keeping epochs high as dataset is small\n",
        "EPOCHS = 1000\n",
        "neural_pred = neural_model.fit(X_train, Y_train, epochs=EPOCHS, validation_split=0.1, verbose=2)"
      ],
      "metadata": {
        "colab": {
          "base_uri": "https://localhost:8080/"
        },
        "id": "xrjcUm1ttNGP",
        "outputId": "1bc7db01-37d2-4291-ea8b-7d0a03a847d9"
      },
      "execution_count": null,
      "outputs": [
        {
          "output_type": "stream",
          "name": "stdout",
          "text": [
            "Epoch 1/1000\n",
            "18/18 - 2s - loss: 0.5912 - accuracy: 0.6449 - val_loss: 0.3947 - val_accuracy: 0.7419 - 2s/epoch - 97ms/step\n",
            "Epoch 2/1000\n",
            "18/18 - 0s - loss: 0.4966 - accuracy: 0.6413 - val_loss: 0.3470 - val_accuracy: 0.8548 - 75ms/epoch - 4ms/step\n",
            "Epoch 3/1000\n",
            "18/18 - 0s - loss: 0.4667 - accuracy: 0.8080 - val_loss: 0.3443 - val_accuracy: 0.8387 - 90ms/epoch - 5ms/step\n",
            "Epoch 4/1000\n",
            "18/18 - 0s - loss: 0.4461 - accuracy: 0.8116 - val_loss: 0.3349 - val_accuracy: 0.8387 - 76ms/epoch - 4ms/step\n",
            "Epoch 5/1000\n",
            "18/18 - 0s - loss: 0.4277 - accuracy: 0.8188 - val_loss: 0.3169 - val_accuracy: 0.8548 - 92ms/epoch - 5ms/step\n",
            "Epoch 6/1000\n",
            "18/18 - 0s - loss: 0.4129 - accuracy: 0.8170 - val_loss: 0.3049 - val_accuracy: 0.8548 - 108ms/epoch - 6ms/step\n",
            "Epoch 7/1000\n",
            "18/18 - 0s - loss: 0.4014 - accuracy: 0.8388 - val_loss: 0.2874 - val_accuracy: 0.8548 - 73ms/epoch - 4ms/step\n",
            "Epoch 8/1000\n",
            "18/18 - 0s - loss: 0.3842 - accuracy: 0.8478 - val_loss: 0.2760 - val_accuracy: 0.8710 - 76ms/epoch - 4ms/step\n",
            "Epoch 9/1000\n",
            "18/18 - 0s - loss: 0.3743 - accuracy: 0.8605 - val_loss: 0.2694 - val_accuracy: 0.8871 - 87ms/epoch - 5ms/step\n",
            "Epoch 10/1000\n",
            "18/18 - 0s - loss: 0.3622 - accuracy: 0.8641 - val_loss: 0.2624 - val_accuracy: 0.8871 - 121ms/epoch - 7ms/step\n",
            "Epoch 11/1000\n",
            "18/18 - 0s - loss: 0.3559 - accuracy: 0.8623 - val_loss: 0.2684 - val_accuracy: 0.8710 - 80ms/epoch - 4ms/step\n",
            "Epoch 12/1000\n",
            "18/18 - 0s - loss: 0.3490 - accuracy: 0.8678 - val_loss: 0.2639 - val_accuracy: 0.8710 - 87ms/epoch - 5ms/step\n",
            "Epoch 13/1000\n",
            "18/18 - 0s - loss: 0.3378 - accuracy: 0.8750 - val_loss: 0.2727 - val_accuracy: 0.8871 - 86ms/epoch - 5ms/step\n",
            "Epoch 14/1000\n",
            "18/18 - 0s - loss: 0.3255 - accuracy: 0.8895 - val_loss: 0.2748 - val_accuracy: 0.8871 - 91ms/epoch - 5ms/step\n",
            "Epoch 15/1000\n",
            "18/18 - 0s - loss: 0.3213 - accuracy: 0.8859 - val_loss: 0.2683 - val_accuracy: 0.8871 - 89ms/epoch - 5ms/step\n",
            "Epoch 16/1000\n",
            "18/18 - 0s - loss: 0.3128 - accuracy: 0.8895 - val_loss: 0.2682 - val_accuracy: 0.8871 - 96ms/epoch - 5ms/step\n",
            "Epoch 17/1000\n",
            "18/18 - 0s - loss: 0.3105 - accuracy: 0.8949 - val_loss: 0.2656 - val_accuracy: 0.8871 - 86ms/epoch - 5ms/step\n",
            "Epoch 18/1000\n",
            "18/18 - 0s - loss: 0.3072 - accuracy: 0.8841 - val_loss: 0.2666 - val_accuracy: 0.8871 - 83ms/epoch - 5ms/step\n",
            "Epoch 19/1000\n",
            "18/18 - 0s - loss: 0.3012 - accuracy: 0.8949 - val_loss: 0.2552 - val_accuracy: 0.9194 - 70ms/epoch - 4ms/step\n",
            "Epoch 20/1000\n",
            "18/18 - 0s - loss: 0.3020 - accuracy: 0.8949 - val_loss: 0.2739 - val_accuracy: 0.9032 - 91ms/epoch - 5ms/step\n",
            "Epoch 21/1000\n",
            "18/18 - 0s - loss: 0.2968 - accuracy: 0.8913 - val_loss: 0.2674 - val_accuracy: 0.9194 - 70ms/epoch - 4ms/step\n",
            "Epoch 22/1000\n",
            "18/18 - 0s - loss: 0.2932 - accuracy: 0.8895 - val_loss: 0.2808 - val_accuracy: 0.9032 - 71ms/epoch - 4ms/step\n",
            "Epoch 23/1000\n",
            "18/18 - 0s - loss: 0.2882 - accuracy: 0.8931 - val_loss: 0.2797 - val_accuracy: 0.9032 - 92ms/epoch - 5ms/step\n",
            "Epoch 24/1000\n",
            "18/18 - 0s - loss: 0.2849 - accuracy: 0.8967 - val_loss: 0.2882 - val_accuracy: 0.9032 - 100ms/epoch - 6ms/step\n",
            "Epoch 25/1000\n",
            "18/18 - 0s - loss: 0.2841 - accuracy: 0.8913 - val_loss: 0.2814 - val_accuracy: 0.9032 - 91ms/epoch - 5ms/step\n",
            "Epoch 26/1000\n",
            "18/18 - 0s - loss: 0.2820 - accuracy: 0.8949 - val_loss: 0.2791 - val_accuracy: 0.9194 - 77ms/epoch - 4ms/step\n",
            "Epoch 27/1000\n",
            "18/18 - 0s - loss: 0.2820 - accuracy: 0.8931 - val_loss: 0.2912 - val_accuracy: 0.9032 - 69ms/epoch - 4ms/step\n",
            "Epoch 28/1000\n",
            "18/18 - 0s - loss: 0.2748 - accuracy: 0.8913 - val_loss: 0.2801 - val_accuracy: 0.9194 - 88ms/epoch - 5ms/step\n",
            "Epoch 29/1000\n",
            "18/18 - 0s - loss: 0.2857 - accuracy: 0.8913 - val_loss: 0.2739 - val_accuracy: 0.9194 - 81ms/epoch - 4ms/step\n",
            "Epoch 30/1000\n",
            "18/18 - 0s - loss: 0.2703 - accuracy: 0.8967 - val_loss: 0.2940 - val_accuracy: 0.9194 - 76ms/epoch - 4ms/step\n",
            "Epoch 31/1000\n",
            "18/18 - 0s - loss: 0.2666 - accuracy: 0.8967 - val_loss: 0.3326 - val_accuracy: 0.8871 - 93ms/epoch - 5ms/step\n",
            "Epoch 32/1000\n",
            "18/18 - 0s - loss: 0.2846 - accuracy: 0.8913 - val_loss: 0.3297 - val_accuracy: 0.9194 - 94ms/epoch - 5ms/step\n",
            "Epoch 33/1000\n",
            "18/18 - 0s - loss: 0.2701 - accuracy: 0.8986 - val_loss: 0.3008 - val_accuracy: 0.9032 - 83ms/epoch - 5ms/step\n",
            "Epoch 34/1000\n",
            "18/18 - 0s - loss: 0.2588 - accuracy: 0.9004 - val_loss: 0.2972 - val_accuracy: 0.9032 - 78ms/epoch - 4ms/step\n",
            "Epoch 35/1000\n",
            "18/18 - 0s - loss: 0.2590 - accuracy: 0.9040 - val_loss: 0.3201 - val_accuracy: 0.9032 - 93ms/epoch - 5ms/step\n",
            "Epoch 36/1000\n",
            "18/18 - 0s - loss: 0.2573 - accuracy: 0.9040 - val_loss: 0.3065 - val_accuracy: 0.9032 - 88ms/epoch - 5ms/step\n",
            "Epoch 37/1000\n",
            "18/18 - 0s - loss: 0.2547 - accuracy: 0.9040 - val_loss: 0.3196 - val_accuracy: 0.9194 - 92ms/epoch - 5ms/step\n",
            "Epoch 38/1000\n",
            "18/18 - 0s - loss: 0.2490 - accuracy: 0.9058 - val_loss: 0.3059 - val_accuracy: 0.9194 - 76ms/epoch - 4ms/step\n",
            "Epoch 39/1000\n",
            "18/18 - 0s - loss: 0.2589 - accuracy: 0.9076 - val_loss: 0.3247 - val_accuracy: 0.9194 - 90ms/epoch - 5ms/step\n",
            "Epoch 40/1000\n",
            "18/18 - 0s - loss: 0.2459 - accuracy: 0.9040 - val_loss: 0.3375 - val_accuracy: 0.9194 - 74ms/epoch - 4ms/step\n",
            "Epoch 41/1000\n",
            "18/18 - 0s - loss: 0.2475 - accuracy: 0.9094 - val_loss: 0.3130 - val_accuracy: 0.9194 - 74ms/epoch - 4ms/step\n",
            "Epoch 42/1000\n",
            "18/18 - 0s - loss: 0.2562 - accuracy: 0.9076 - val_loss: 0.3584 - val_accuracy: 0.9194 - 82ms/epoch - 5ms/step\n",
            "Epoch 43/1000\n",
            "18/18 - 0s - loss: 0.2437 - accuracy: 0.9094 - val_loss: 0.3017 - val_accuracy: 0.9194 - 88ms/epoch - 5ms/step\n",
            "Epoch 44/1000\n",
            "18/18 - 0s - loss: 0.2386 - accuracy: 0.9149 - val_loss: 0.3443 - val_accuracy: 0.9032 - 72ms/epoch - 4ms/step\n",
            "Epoch 45/1000\n",
            "18/18 - 0s - loss: 0.2404 - accuracy: 0.9149 - val_loss: 0.3418 - val_accuracy: 0.9032 - 85ms/epoch - 5ms/step\n",
            "Epoch 46/1000\n",
            "18/18 - 0s - loss: 0.2381 - accuracy: 0.9149 - val_loss: 0.3561 - val_accuracy: 0.9194 - 92ms/epoch - 5ms/step\n",
            "Epoch 47/1000\n",
            "18/18 - 0s - loss: 0.2492 - accuracy: 0.9076 - val_loss: 0.3317 - val_accuracy: 0.9032 - 94ms/epoch - 5ms/step\n",
            "Epoch 48/1000\n",
            "18/18 - 0s - loss: 0.2357 - accuracy: 0.9149 - val_loss: 0.3428 - val_accuracy: 0.9032 - 95ms/epoch - 5ms/step\n",
            "Epoch 49/1000\n",
            "18/18 - 0s - loss: 0.2321 - accuracy: 0.9149 - val_loss: 0.3528 - val_accuracy: 0.9032 - 66ms/epoch - 4ms/step\n",
            "Epoch 50/1000\n",
            "18/18 - 0s - loss: 0.2299 - accuracy: 0.9185 - val_loss: 0.3690 - val_accuracy: 0.9194 - 92ms/epoch - 5ms/step\n",
            "Epoch 51/1000\n",
            "18/18 - 0s - loss: 0.2327 - accuracy: 0.9094 - val_loss: 0.3611 - val_accuracy: 0.9032 - 81ms/epoch - 5ms/step\n",
            "Epoch 52/1000\n",
            "18/18 - 0s - loss: 0.2252 - accuracy: 0.9239 - val_loss: 0.3711 - val_accuracy: 0.9032 - 75ms/epoch - 4ms/step\n",
            "Epoch 53/1000\n",
            "18/18 - 0s - loss: 0.2284 - accuracy: 0.9149 - val_loss: 0.3693 - val_accuracy: 0.9032 - 77ms/epoch - 4ms/step\n",
            "Epoch 54/1000\n",
            "18/18 - 0s - loss: 0.2282 - accuracy: 0.9185 - val_loss: 0.3582 - val_accuracy: 0.9032 - 80ms/epoch - 4ms/step\n",
            "Epoch 55/1000\n",
            "18/18 - 0s - loss: 0.2244 - accuracy: 0.9167 - val_loss: 0.4034 - val_accuracy: 0.8871 - 92ms/epoch - 5ms/step\n",
            "Epoch 56/1000\n",
            "18/18 - 0s - loss: 0.2226 - accuracy: 0.9203 - val_loss: 0.4061 - val_accuracy: 0.9194 - 120ms/epoch - 7ms/step\n",
            "Epoch 57/1000\n",
            "18/18 - 0s - loss: 0.2274 - accuracy: 0.9130 - val_loss: 0.4255 - val_accuracy: 0.8871 - 80ms/epoch - 4ms/step\n",
            "Epoch 58/1000\n",
            "18/18 - 0s - loss: 0.2374 - accuracy: 0.9130 - val_loss: 0.4395 - val_accuracy: 0.9032 - 74ms/epoch - 4ms/step\n",
            "Epoch 59/1000\n",
            "18/18 - 0s - loss: 0.2876 - accuracy: 0.8967 - val_loss: 0.3812 - val_accuracy: 0.9032 - 93ms/epoch - 5ms/step\n",
            "Epoch 60/1000\n",
            "18/18 - 0s - loss: 0.2632 - accuracy: 0.8967 - val_loss: 0.4149 - val_accuracy: 0.9194 - 74ms/epoch - 4ms/step\n",
            "Epoch 61/1000\n",
            "18/18 - 0s - loss: 0.2360 - accuracy: 0.9040 - val_loss: 0.4270 - val_accuracy: 0.9194 - 75ms/epoch - 4ms/step\n",
            "Epoch 62/1000\n",
            "18/18 - 0s - loss: 0.2331 - accuracy: 0.9094 - val_loss: 0.4186 - val_accuracy: 0.9032 - 73ms/epoch - 4ms/step\n",
            "Epoch 63/1000\n",
            "18/18 - 0s - loss: 0.2221 - accuracy: 0.9167 - val_loss: 0.4191 - val_accuracy: 0.9032 - 70ms/epoch - 4ms/step\n",
            "Epoch 64/1000\n",
            "18/18 - 0s - loss: 0.2198 - accuracy: 0.9221 - val_loss: 0.4167 - val_accuracy: 0.9194 - 87ms/epoch - 5ms/step\n",
            "Epoch 65/1000\n",
            "18/18 - 0s - loss: 0.2217 - accuracy: 0.9185 - val_loss: 0.4187 - val_accuracy: 0.9032 - 75ms/epoch - 4ms/step\n",
            "Epoch 66/1000\n",
            "18/18 - 0s - loss: 0.2188 - accuracy: 0.9221 - val_loss: 0.4018 - val_accuracy: 0.9194 - 74ms/epoch - 4ms/step\n",
            "Epoch 67/1000\n",
            "18/18 - 0s - loss: 0.2139 - accuracy: 0.9239 - val_loss: 0.4253 - val_accuracy: 0.9032 - 91ms/epoch - 5ms/step\n",
            "Epoch 68/1000\n",
            "18/18 - 0s - loss: 0.2124 - accuracy: 0.9203 - val_loss: 0.4308 - val_accuracy: 0.8871 - 100ms/epoch - 6ms/step\n",
            "Epoch 69/1000\n",
            "18/18 - 0s - loss: 0.2203 - accuracy: 0.9185 - val_loss: 0.4423 - val_accuracy: 0.9194 - 98ms/epoch - 5ms/step\n",
            "Epoch 70/1000\n",
            "18/18 - 0s - loss: 0.2165 - accuracy: 0.9221 - val_loss: 0.4338 - val_accuracy: 0.8871 - 77ms/epoch - 4ms/step\n",
            "Epoch 71/1000\n",
            "18/18 - 0s - loss: 0.2163 - accuracy: 0.9239 - val_loss: 0.4095 - val_accuracy: 0.9194 - 78ms/epoch - 4ms/step\n",
            "Epoch 72/1000\n",
            "18/18 - 0s - loss: 0.2199 - accuracy: 0.9185 - val_loss: 0.4628 - val_accuracy: 0.9032 - 78ms/epoch - 4ms/step\n",
            "Epoch 73/1000\n",
            "18/18 - 0s - loss: 0.2190 - accuracy: 0.9203 - val_loss: 0.4299 - val_accuracy: 0.8871 - 105ms/epoch - 6ms/step\n",
            "Epoch 74/1000\n",
            "18/18 - 0s - loss: 0.2153 - accuracy: 0.9221 - val_loss: 0.4548 - val_accuracy: 0.9194 - 75ms/epoch - 4ms/step\n",
            "Epoch 75/1000\n",
            "18/18 - 0s - loss: 0.2110 - accuracy: 0.9239 - val_loss: 0.4512 - val_accuracy: 0.9194 - 73ms/epoch - 4ms/step\n",
            "Epoch 76/1000\n",
            "18/18 - 0s - loss: 0.2045 - accuracy: 0.9293 - val_loss: 0.4519 - val_accuracy: 0.9032 - 81ms/epoch - 4ms/step\n",
            "Epoch 77/1000\n",
            "18/18 - 0s - loss: 0.2214 - accuracy: 0.9167 - val_loss: 0.4852 - val_accuracy: 0.8871 - 72ms/epoch - 4ms/step\n",
            "Epoch 78/1000\n",
            "18/18 - 0s - loss: 0.2367 - accuracy: 0.9149 - val_loss: 0.4436 - val_accuracy: 0.8871 - 93ms/epoch - 5ms/step\n",
            "Epoch 79/1000\n",
            "18/18 - 0s - loss: 0.2089 - accuracy: 0.9239 - val_loss: 0.4160 - val_accuracy: 0.9194 - 131ms/epoch - 7ms/step\n",
            "Epoch 80/1000\n",
            "18/18 - 0s - loss: 0.2192 - accuracy: 0.9185 - val_loss: 0.4553 - val_accuracy: 0.9032 - 102ms/epoch - 6ms/step\n",
            "Epoch 81/1000\n",
            "18/18 - 0s - loss: 0.2091 - accuracy: 0.9257 - val_loss: 0.4295 - val_accuracy: 0.9032 - 109ms/epoch - 6ms/step\n",
            "Epoch 82/1000\n",
            "18/18 - 0s - loss: 0.2069 - accuracy: 0.9221 - val_loss: 0.4373 - val_accuracy: 0.9032 - 113ms/epoch - 6ms/step\n",
            "Epoch 83/1000\n",
            "18/18 - 0s - loss: 0.2022 - accuracy: 0.9293 - val_loss: 0.4466 - val_accuracy: 0.9194 - 76ms/epoch - 4ms/step\n",
            "Epoch 84/1000\n",
            "18/18 - 0s - loss: 0.2100 - accuracy: 0.9221 - val_loss: 0.4189 - val_accuracy: 0.9194 - 75ms/epoch - 4ms/step\n",
            "Epoch 85/1000\n",
            "18/18 - 0s - loss: 0.2075 - accuracy: 0.9275 - val_loss: 0.4547 - val_accuracy: 0.9032 - 78ms/epoch - 4ms/step\n",
            "Epoch 86/1000\n",
            "18/18 - 0s - loss: 0.2091 - accuracy: 0.9257 - val_loss: 0.4488 - val_accuracy: 0.9032 - 85ms/epoch - 5ms/step\n",
            "Epoch 87/1000\n",
            "18/18 - 0s - loss: 0.2032 - accuracy: 0.9257 - val_loss: 0.4827 - val_accuracy: 0.9032 - 93ms/epoch - 5ms/step\n",
            "Epoch 88/1000\n",
            "18/18 - 0s - loss: 0.2026 - accuracy: 0.9257 - val_loss: 0.4337 - val_accuracy: 0.9194 - 99ms/epoch - 5ms/step\n",
            "Epoch 89/1000\n",
            "18/18 - 0s - loss: 0.2089 - accuracy: 0.9221 - val_loss: 0.5038 - val_accuracy: 0.9032 - 88ms/epoch - 5ms/step\n",
            "Epoch 90/1000\n",
            "18/18 - 0s - loss: 0.2051 - accuracy: 0.9257 - val_loss: 0.4236 - val_accuracy: 0.8710 - 89ms/epoch - 5ms/step\n",
            "Epoch 91/1000\n",
            "18/18 - 0s - loss: 0.2072 - accuracy: 0.9221 - val_loss: 0.5167 - val_accuracy: 0.9194 - 88ms/epoch - 5ms/step\n",
            "Epoch 92/1000\n",
            "18/18 - 0s - loss: 0.2140 - accuracy: 0.9185 - val_loss: 0.4983 - val_accuracy: 0.8548 - 72ms/epoch - 4ms/step\n",
            "Epoch 93/1000\n",
            "18/18 - 0s - loss: 0.2158 - accuracy: 0.9203 - val_loss: 0.5146 - val_accuracy: 0.9194 - 85ms/epoch - 5ms/step\n",
            "Epoch 94/1000\n",
            "18/18 - 0s - loss: 0.2170 - accuracy: 0.9203 - val_loss: 0.4991 - val_accuracy: 0.8548 - 87ms/epoch - 5ms/step\n",
            "Epoch 95/1000\n",
            "18/18 - 0s - loss: 0.2167 - accuracy: 0.9185 - val_loss: 0.5151 - val_accuracy: 0.9032 - 106ms/epoch - 6ms/step\n",
            "Epoch 96/1000\n",
            "18/18 - 0s - loss: 0.2036 - accuracy: 0.9221 - val_loss: 0.4692 - val_accuracy: 0.9032 - 73ms/epoch - 4ms/step\n",
            "Epoch 97/1000\n",
            "18/18 - 0s - loss: 0.2022 - accuracy: 0.9275 - val_loss: 0.5312 - val_accuracy: 0.9032 - 71ms/epoch - 4ms/step\n",
            "Epoch 98/1000\n",
            "18/18 - 0s - loss: 0.2000 - accuracy: 0.9275 - val_loss: 0.5065 - val_accuracy: 0.9032 - 64ms/epoch - 4ms/step\n",
            "Epoch 99/1000\n",
            "18/18 - 0s - loss: 0.1954 - accuracy: 0.9293 - val_loss: 0.5146 - val_accuracy: 0.9194 - 86ms/epoch - 5ms/step\n",
            "Epoch 100/1000\n",
            "18/18 - 0s - loss: 0.1988 - accuracy: 0.9257 - val_loss: 0.4824 - val_accuracy: 0.9194 - 113ms/epoch - 6ms/step\n",
            "Epoch 101/1000\n",
            "18/18 - 0s - loss: 0.2030 - accuracy: 0.9275 - val_loss: 0.4957 - val_accuracy: 0.9032 - 97ms/epoch - 5ms/step\n",
            "Epoch 102/1000\n",
            "18/18 - 0s - loss: 0.2297 - accuracy: 0.9094 - val_loss: 0.4802 - val_accuracy: 0.9032 - 84ms/epoch - 5ms/step\n",
            "Epoch 103/1000\n",
            "18/18 - 0s - loss: 0.2263 - accuracy: 0.9257 - val_loss: 0.4944 - val_accuracy: 0.8710 - 95ms/epoch - 5ms/step\n",
            "Epoch 104/1000\n",
            "18/18 - 0s - loss: 0.2046 - accuracy: 0.9275 - val_loss: 0.4768 - val_accuracy: 0.9032 - 75ms/epoch - 4ms/step\n",
            "Epoch 105/1000\n",
            "18/18 - 0s - loss: 0.2017 - accuracy: 0.9257 - val_loss: 0.5038 - val_accuracy: 0.9032 - 74ms/epoch - 4ms/step\n",
            "Epoch 106/1000\n",
            "18/18 - 0s - loss: 0.1989 - accuracy: 0.9275 - val_loss: 0.5024 - val_accuracy: 0.8871 - 106ms/epoch - 6ms/step\n",
            "Epoch 107/1000\n",
            "18/18 - 0s - loss: 0.1966 - accuracy: 0.9257 - val_loss: 0.4607 - val_accuracy: 0.9032 - 91ms/epoch - 5ms/step\n",
            "Epoch 108/1000\n",
            "18/18 - 0s - loss: 0.1942 - accuracy: 0.9330 - val_loss: 0.4883 - val_accuracy: 0.9032 - 83ms/epoch - 5ms/step\n",
            "Epoch 109/1000\n",
            "18/18 - 0s - loss: 0.1962 - accuracy: 0.9330 - val_loss: 0.4958 - val_accuracy: 0.9032 - 100ms/epoch - 6ms/step\n",
            "Epoch 110/1000\n",
            "18/18 - 0s - loss: 0.2057 - accuracy: 0.9239 - val_loss: 0.4930 - val_accuracy: 0.8871 - 93ms/epoch - 5ms/step\n",
            "Epoch 111/1000\n",
            "18/18 - 0s - loss: 0.2103 - accuracy: 0.9239 - val_loss: 0.5352 - val_accuracy: 0.9032 - 102ms/epoch - 6ms/step\n",
            "Epoch 112/1000\n",
            "18/18 - 0s - loss: 0.2011 - accuracy: 0.9275 - val_loss: 0.4957 - val_accuracy: 0.9194 - 111ms/epoch - 6ms/step\n",
            "Epoch 113/1000\n",
            "18/18 - 0s - loss: 0.2049 - accuracy: 0.9257 - val_loss: 0.5051 - val_accuracy: 0.8871 - 98ms/epoch - 5ms/step\n",
            "Epoch 114/1000\n",
            "18/18 - 0s - loss: 0.2040 - accuracy: 0.9293 - val_loss: 0.5150 - val_accuracy: 0.9032 - 78ms/epoch - 4ms/step\n",
            "Epoch 115/1000\n",
            "18/18 - 0s - loss: 0.2000 - accuracy: 0.9257 - val_loss: 0.4914 - val_accuracy: 0.9032 - 88ms/epoch - 5ms/step\n",
            "Epoch 116/1000\n",
            "18/18 - 0s - loss: 0.1981 - accuracy: 0.9275 - val_loss: 0.5192 - val_accuracy: 0.9194 - 89ms/epoch - 5ms/step\n",
            "Epoch 117/1000\n",
            "18/18 - 0s - loss: 0.1991 - accuracy: 0.9293 - val_loss: 0.4950 - val_accuracy: 0.8871 - 76ms/epoch - 4ms/step\n",
            "Epoch 118/1000\n",
            "18/18 - 0s - loss: 0.1979 - accuracy: 0.9275 - val_loss: 0.5598 - val_accuracy: 0.9032 - 73ms/epoch - 4ms/step\n",
            "Epoch 119/1000\n",
            "18/18 - 0s - loss: 0.1952 - accuracy: 0.9312 - val_loss: 0.4895 - val_accuracy: 0.9194 - 88ms/epoch - 5ms/step\n",
            "Epoch 120/1000\n",
            "18/18 - 0s - loss: 0.1956 - accuracy: 0.9293 - val_loss: 0.5322 - val_accuracy: 0.9032 - 73ms/epoch - 4ms/step\n",
            "Epoch 121/1000\n",
            "18/18 - 0s - loss: 0.1963 - accuracy: 0.9257 - val_loss: 0.5064 - val_accuracy: 0.9194 - 104ms/epoch - 6ms/step\n",
            "Epoch 122/1000\n",
            "18/18 - 0s - loss: 0.1933 - accuracy: 0.9312 - val_loss: 0.5308 - val_accuracy: 0.9194 - 102ms/epoch - 6ms/step\n",
            "Epoch 123/1000\n",
            "18/18 - 0s - loss: 0.1961 - accuracy: 0.9293 - val_loss: 0.5518 - val_accuracy: 0.8871 - 110ms/epoch - 6ms/step\n",
            "Epoch 124/1000\n",
            "18/18 - 0s - loss: 0.1970 - accuracy: 0.9293 - val_loss: 0.5070 - val_accuracy: 0.9194 - 112ms/epoch - 6ms/step\n",
            "Epoch 125/1000\n",
            "18/18 - 0s - loss: 0.1970 - accuracy: 0.9312 - val_loss: 0.5534 - val_accuracy: 0.9194 - 102ms/epoch - 6ms/step\n",
            "Epoch 126/1000\n",
            "18/18 - 0s - loss: 0.1962 - accuracy: 0.9275 - val_loss: 0.5313 - val_accuracy: 0.9355 - 95ms/epoch - 5ms/step\n",
            "Epoch 127/1000\n",
            "18/18 - 0s - loss: 0.1910 - accuracy: 0.9348 - val_loss: 0.5453 - val_accuracy: 0.9194 - 102ms/epoch - 6ms/step\n",
            "Epoch 128/1000\n",
            "18/18 - 0s - loss: 0.1926 - accuracy: 0.9293 - val_loss: 0.5261 - val_accuracy: 0.9194 - 80ms/epoch - 4ms/step\n",
            "Epoch 129/1000\n",
            "18/18 - 0s - loss: 0.1908 - accuracy: 0.9348 - val_loss: 0.5413 - val_accuracy: 0.9194 - 94ms/epoch - 5ms/step\n",
            "Epoch 130/1000\n",
            "18/18 - 0s - loss: 0.1926 - accuracy: 0.9293 - val_loss: 0.5345 - val_accuracy: 0.9194 - 100ms/epoch - 6ms/step\n",
            "Epoch 131/1000\n",
            "18/18 - 0s - loss: 0.1967 - accuracy: 0.9257 - val_loss: 0.5278 - val_accuracy: 0.9194 - 76ms/epoch - 4ms/step\n",
            "Epoch 132/1000\n",
            "18/18 - 0s - loss: 0.1963 - accuracy: 0.9257 - val_loss: 0.5489 - val_accuracy: 0.9194 - 85ms/epoch - 5ms/step\n",
            "Epoch 133/1000\n",
            "18/18 - 0s - loss: 0.1997 - accuracy: 0.9257 - val_loss: 0.5313 - val_accuracy: 0.9194 - 74ms/epoch - 4ms/step\n",
            "Epoch 134/1000\n",
            "18/18 - 0s - loss: 0.1920 - accuracy: 0.9348 - val_loss: 0.5514 - val_accuracy: 0.9355 - 96ms/epoch - 5ms/step\n",
            "Epoch 135/1000\n",
            "18/18 - 0s - loss: 0.1938 - accuracy: 0.9275 - val_loss: 0.5144 - val_accuracy: 0.9032 - 105ms/epoch - 6ms/step\n",
            "Epoch 136/1000\n",
            "18/18 - 0s - loss: 0.1941 - accuracy: 0.9293 - val_loss: 0.5618 - val_accuracy: 0.9194 - 97ms/epoch - 5ms/step\n",
            "Epoch 137/1000\n",
            "18/18 - 0s - loss: 0.2023 - accuracy: 0.9293 - val_loss: 0.5669 - val_accuracy: 0.9032 - 104ms/epoch - 6ms/step\n",
            "Epoch 138/1000\n",
            "18/18 - 0s - loss: 0.2021 - accuracy: 0.9257 - val_loss: 0.5596 - val_accuracy: 0.9194 - 81ms/epoch - 4ms/step\n",
            "Epoch 139/1000\n",
            "18/18 - 0s - loss: 0.1999 - accuracy: 0.9257 - val_loss: 0.5367 - val_accuracy: 0.9194 - 103ms/epoch - 6ms/step\n",
            "Epoch 140/1000\n",
            "18/18 - 0s - loss: 0.1945 - accuracy: 0.9293 - val_loss: 0.5782 - val_accuracy: 0.9355 - 102ms/epoch - 6ms/step\n",
            "Epoch 141/1000\n",
            "18/18 - 0s - loss: 0.2011 - accuracy: 0.9257 - val_loss: 0.5373 - val_accuracy: 0.9032 - 93ms/epoch - 5ms/step\n",
            "Epoch 142/1000\n",
            "18/18 - 0s - loss: 0.1982 - accuracy: 0.9293 - val_loss: 0.6510 - val_accuracy: 0.8710 - 93ms/epoch - 5ms/step\n",
            "Epoch 143/1000\n",
            "18/18 - 0s - loss: 0.2019 - accuracy: 0.9275 - val_loss: 0.5778 - val_accuracy: 0.9194 - 76ms/epoch - 4ms/step\n",
            "Epoch 144/1000\n",
            "18/18 - 0s - loss: 0.1966 - accuracy: 0.9293 - val_loss: 0.5843 - val_accuracy: 0.9032 - 74ms/epoch - 4ms/step\n",
            "Epoch 145/1000\n",
            "18/18 - 0s - loss: 0.1956 - accuracy: 0.9312 - val_loss: 0.5679 - val_accuracy: 0.9194 - 78ms/epoch - 4ms/step\n",
            "Epoch 146/1000\n",
            "18/18 - 0s - loss: 0.1932 - accuracy: 0.9330 - val_loss: 0.5269 - val_accuracy: 0.9032 - 92ms/epoch - 5ms/step\n",
            "Epoch 147/1000\n",
            "18/18 - 0s - loss: 0.1930 - accuracy: 0.9293 - val_loss: 0.6285 - val_accuracy: 0.9032 - 82ms/epoch - 5ms/step\n",
            "Epoch 148/1000\n",
            "18/18 - 0s - loss: 0.1937 - accuracy: 0.9293 - val_loss: 0.5953 - val_accuracy: 0.9194 - 78ms/epoch - 4ms/step\n",
            "Epoch 149/1000\n",
            "18/18 - 0s - loss: 0.1935 - accuracy: 0.9275 - val_loss: 0.5928 - val_accuracy: 0.9194 - 86ms/epoch - 5ms/step\n",
            "Epoch 150/1000\n",
            "18/18 - 0s - loss: 0.1902 - accuracy: 0.9312 - val_loss: 0.5674 - val_accuracy: 0.9194 - 82ms/epoch - 5ms/step\n",
            "Epoch 151/1000\n",
            "18/18 - 0s - loss: 0.1923 - accuracy: 0.9293 - val_loss: 0.5878 - val_accuracy: 0.9194 - 75ms/epoch - 4ms/step\n",
            "Epoch 152/1000\n",
            "18/18 - 0s - loss: 0.1918 - accuracy: 0.9293 - val_loss: 0.5859 - val_accuracy: 0.9194 - 75ms/epoch - 4ms/step\n",
            "Epoch 153/1000\n",
            "18/18 - 0s - loss: 0.1902 - accuracy: 0.9330 - val_loss: 0.5640 - val_accuracy: 0.9032 - 100ms/epoch - 6ms/step\n",
            "Epoch 154/1000\n",
            "18/18 - 0s - loss: 0.1933 - accuracy: 0.9293 - val_loss: 0.5832 - val_accuracy: 0.9032 - 87ms/epoch - 5ms/step\n",
            "Epoch 155/1000\n",
            "18/18 - 0s - loss: 0.1972 - accuracy: 0.9330 - val_loss: 0.5964 - val_accuracy: 0.9194 - 74ms/epoch - 4ms/step\n",
            "Epoch 156/1000\n",
            "18/18 - 0s - loss: 0.1928 - accuracy: 0.9312 - val_loss: 0.5748 - val_accuracy: 0.9194 - 73ms/epoch - 4ms/step\n",
            "Epoch 157/1000\n",
            "18/18 - 0s - loss: 0.1876 - accuracy: 0.9348 - val_loss: 0.6181 - val_accuracy: 0.9516 - 72ms/epoch - 4ms/step\n",
            "Epoch 158/1000\n",
            "18/18 - 0s - loss: 0.1901 - accuracy: 0.9312 - val_loss: 0.5788 - val_accuracy: 0.9516 - 72ms/epoch - 4ms/step\n",
            "Epoch 159/1000\n",
            "18/18 - 0s - loss: 0.1973 - accuracy: 0.9312 - val_loss: 0.6164 - val_accuracy: 0.9194 - 88ms/epoch - 5ms/step\n",
            "Epoch 160/1000\n",
            "18/18 - 0s - loss: 0.1903 - accuracy: 0.9330 - val_loss: 0.6111 - val_accuracy: 0.9194 - 100ms/epoch - 6ms/step\n",
            "Epoch 161/1000\n",
            "18/18 - 0s - loss: 0.1888 - accuracy: 0.9348 - val_loss: 0.6157 - val_accuracy: 0.9194 - 78ms/epoch - 4ms/step\n",
            "Epoch 162/1000\n",
            "18/18 - 0s - loss: 0.1928 - accuracy: 0.9275 - val_loss: 0.5838 - val_accuracy: 0.9355 - 91ms/epoch - 5ms/step\n",
            "Epoch 163/1000\n",
            "18/18 - 0s - loss: 0.1998 - accuracy: 0.9239 - val_loss: 0.6696 - val_accuracy: 0.9194 - 80ms/epoch - 4ms/step\n",
            "Epoch 164/1000\n",
            "18/18 - 0s - loss: 0.2227 - accuracy: 0.9203 - val_loss: 0.5875 - val_accuracy: 0.9032 - 93ms/epoch - 5ms/step\n",
            "Epoch 165/1000\n",
            "18/18 - 0s - loss: 0.2685 - accuracy: 0.9221 - val_loss: 0.6050 - val_accuracy: 0.9032 - 69ms/epoch - 4ms/step\n",
            "Epoch 166/1000\n",
            "18/18 - 0s - loss: 0.2983 - accuracy: 0.8949 - val_loss: 0.3774 - val_accuracy: 0.8548 - 86ms/epoch - 5ms/step\n",
            "Epoch 167/1000\n",
            "18/18 - 0s - loss: 0.2641 - accuracy: 0.8913 - val_loss: 0.6532 - val_accuracy: 0.8710 - 91ms/epoch - 5ms/step\n",
            "Epoch 168/1000\n",
            "18/18 - 0s - loss: 0.2741 - accuracy: 0.9076 - val_loss: 0.5168 - val_accuracy: 0.8548 - 75ms/epoch - 4ms/step\n",
            "Epoch 169/1000\n",
            "18/18 - 0s - loss: 0.2810 - accuracy: 0.8859 - val_loss: 0.5834 - val_accuracy: 0.8226 - 92ms/epoch - 5ms/step\n",
            "Epoch 170/1000\n",
            "18/18 - 0s - loss: 0.2553 - accuracy: 0.9022 - val_loss: 0.4388 - val_accuracy: 0.8226 - 83ms/epoch - 5ms/step\n",
            "Epoch 171/1000\n",
            "18/18 - 0s - loss: 0.2307 - accuracy: 0.9076 - val_loss: 0.5543 - val_accuracy: 0.8387 - 102ms/epoch - 6ms/step\n",
            "Epoch 172/1000\n",
            "18/18 - 0s - loss: 0.2248 - accuracy: 0.9130 - val_loss: 0.5303 - val_accuracy: 0.8710 - 76ms/epoch - 4ms/step\n",
            "Epoch 173/1000\n",
            "18/18 - 0s - loss: 0.2167 - accuracy: 0.9149 - val_loss: 0.5143 - val_accuracy: 0.8871 - 110ms/epoch - 6ms/step\n",
            "Epoch 174/1000\n",
            "18/18 - 0s - loss: 0.2219 - accuracy: 0.9203 - val_loss: 0.5327 - val_accuracy: 0.8710 - 78ms/epoch - 4ms/step\n",
            "Epoch 175/1000\n",
            "18/18 - 0s - loss: 0.2181 - accuracy: 0.9221 - val_loss: 0.5048 - val_accuracy: 0.8548 - 112ms/epoch - 6ms/step\n",
            "Epoch 176/1000\n",
            "18/18 - 0s - loss: 0.2167 - accuracy: 0.9130 - val_loss: 0.5245 - val_accuracy: 0.8871 - 77ms/epoch - 4ms/step\n",
            "Epoch 177/1000\n",
            "18/18 - 0s - loss: 0.2206 - accuracy: 0.9185 - val_loss: 0.4686 - val_accuracy: 0.8710 - 91ms/epoch - 5ms/step\n",
            "Epoch 178/1000\n",
            "18/18 - 0s - loss: 0.2235 - accuracy: 0.9203 - val_loss: 0.5765 - val_accuracy: 0.8710 - 73ms/epoch - 4ms/step\n",
            "Epoch 179/1000\n",
            "18/18 - 0s - loss: 0.2156 - accuracy: 0.9257 - val_loss: 0.4349 - val_accuracy: 0.8710 - 93ms/epoch - 5ms/step\n",
            "Epoch 180/1000\n",
            "18/18 - 0s - loss: 0.2064 - accuracy: 0.9239 - val_loss: 0.5251 - val_accuracy: 0.8710 - 74ms/epoch - 4ms/step\n",
            "Epoch 181/1000\n",
            "18/18 - 0s - loss: 0.2146 - accuracy: 0.9239 - val_loss: 0.4832 - val_accuracy: 0.8548 - 74ms/epoch - 4ms/step\n",
            "Epoch 182/1000\n",
            "18/18 - 0s - loss: 0.2136 - accuracy: 0.9239 - val_loss: 0.5011 - val_accuracy: 0.8871 - 76ms/epoch - 4ms/step\n",
            "Epoch 183/1000\n",
            "18/18 - 0s - loss: 0.2373 - accuracy: 0.9076 - val_loss: 0.4327 - val_accuracy: 0.8548 - 100ms/epoch - 6ms/step\n",
            "Epoch 184/1000\n",
            "18/18 - 0s - loss: 0.2220 - accuracy: 0.9130 - val_loss: 0.5604 - val_accuracy: 0.8387 - 76ms/epoch - 4ms/step\n",
            "Epoch 185/1000\n",
            "18/18 - 0s - loss: 0.2064 - accuracy: 0.9221 - val_loss: 0.5741 - val_accuracy: 0.8387 - 74ms/epoch - 4ms/step\n",
            "Epoch 186/1000\n",
            "18/18 - 0s - loss: 0.2199 - accuracy: 0.9221 - val_loss: 0.5998 - val_accuracy: 0.8226 - 97ms/epoch - 5ms/step\n",
            "Epoch 187/1000\n",
            "18/18 - 0s - loss: 0.2046 - accuracy: 0.9275 - val_loss: 0.6151 - val_accuracy: 0.8548 - 95ms/epoch - 5ms/step\n",
            "Epoch 188/1000\n",
            "18/18 - 0s - loss: 0.2082 - accuracy: 0.9221 - val_loss: 0.5884 - val_accuracy: 0.8387 - 103ms/epoch - 6ms/step\n",
            "Epoch 189/1000\n",
            "18/18 - 0s - loss: 0.2166 - accuracy: 0.9167 - val_loss: 0.6134 - val_accuracy: 0.8226 - 96ms/epoch - 5ms/step\n",
            "Epoch 190/1000\n",
            "18/18 - 0s - loss: 0.2066 - accuracy: 0.9257 - val_loss: 0.5827 - val_accuracy: 0.8226 - 102ms/epoch - 6ms/step\n",
            "Epoch 191/1000\n",
            "18/18 - 0s - loss: 0.2008 - accuracy: 0.9239 - val_loss: 0.5718 - val_accuracy: 0.8387 - 80ms/epoch - 4ms/step\n",
            "Epoch 192/1000\n",
            "18/18 - 0s - loss: 0.2042 - accuracy: 0.9203 - val_loss: 0.5218 - val_accuracy: 0.8387 - 105ms/epoch - 6ms/step\n",
            "Epoch 193/1000\n",
            "18/18 - 0s - loss: 0.2080 - accuracy: 0.9239 - val_loss: 0.5790 - val_accuracy: 0.8226 - 78ms/epoch - 4ms/step\n",
            "Epoch 194/1000\n",
            "18/18 - 0s - loss: 0.2086 - accuracy: 0.9239 - val_loss: 0.5893 - val_accuracy: 0.8710 - 97ms/epoch - 5ms/step\n",
            "Epoch 195/1000\n",
            "18/18 - 0s - loss: 0.2347 - accuracy: 0.9167 - val_loss: 0.6518 - val_accuracy: 0.8387 - 94ms/epoch - 5ms/step\n",
            "Epoch 196/1000\n",
            "18/18 - 0s - loss: 0.2210 - accuracy: 0.9167 - val_loss: 0.6044 - val_accuracy: 0.9032 - 94ms/epoch - 5ms/step\n",
            "Epoch 197/1000\n",
            "18/18 - 0s - loss: 0.2099 - accuracy: 0.9221 - val_loss: 0.6404 - val_accuracy: 0.8548 - 93ms/epoch - 5ms/step\n",
            "Epoch 198/1000\n",
            "18/18 - 0s - loss: 0.2042 - accuracy: 0.9257 - val_loss: 0.6746 - val_accuracy: 0.8548 - 77ms/epoch - 4ms/step\n",
            "Epoch 199/1000\n",
            "18/18 - 0s - loss: 0.1950 - accuracy: 0.9330 - val_loss: 0.6521 - val_accuracy: 0.8548 - 77ms/epoch - 4ms/step\n",
            "Epoch 200/1000\n",
            "18/18 - 0s - loss: 0.1921 - accuracy: 0.9330 - val_loss: 0.6449 - val_accuracy: 0.8548 - 92ms/epoch - 5ms/step\n",
            "Epoch 201/1000\n",
            "18/18 - 0s - loss: 0.1922 - accuracy: 0.9330 - val_loss: 0.6460 - val_accuracy: 0.8387 - 85ms/epoch - 5ms/step\n",
            "Epoch 202/1000\n",
            "18/18 - 0s - loss: 0.1939 - accuracy: 0.9330 - val_loss: 0.6282 - val_accuracy: 0.8548 - 82ms/epoch - 5ms/step\n",
            "Epoch 203/1000\n",
            "18/18 - 0s - loss: 0.1936 - accuracy: 0.9257 - val_loss: 0.6459 - val_accuracy: 0.8548 - 115ms/epoch - 6ms/step\n",
            "Epoch 204/1000\n",
            "18/18 - 0s - loss: 0.1916 - accuracy: 0.9330 - val_loss: 0.6243 - val_accuracy: 0.8548 - 100ms/epoch - 6ms/step\n",
            "Epoch 205/1000\n",
            "18/18 - 0s - loss: 0.1931 - accuracy: 0.9293 - val_loss: 0.6660 - val_accuracy: 0.8548 - 73ms/epoch - 4ms/step\n",
            "Epoch 206/1000\n",
            "18/18 - 0s - loss: 0.1941 - accuracy: 0.9275 - val_loss: 0.6078 - val_accuracy: 0.8548 - 72ms/epoch - 4ms/step\n",
            "Epoch 207/1000\n",
            "18/18 - 0s - loss: 0.1914 - accuracy: 0.9330 - val_loss: 0.6212 - val_accuracy: 0.8226 - 89ms/epoch - 5ms/step\n",
            "Epoch 208/1000\n",
            "18/18 - 0s - loss: 0.1966 - accuracy: 0.9293 - val_loss: 0.6156 - val_accuracy: 0.8548 - 77ms/epoch - 4ms/step\n",
            "Epoch 209/1000\n",
            "18/18 - 0s - loss: 0.2014 - accuracy: 0.9275 - val_loss: 0.6155 - val_accuracy: 0.8548 - 81ms/epoch - 4ms/step\n",
            "Epoch 210/1000\n",
            "18/18 - 0s - loss: 0.1924 - accuracy: 0.9330 - val_loss: 0.6497 - val_accuracy: 0.8226 - 78ms/epoch - 4ms/step\n",
            "Epoch 211/1000\n",
            "18/18 - 0s - loss: 0.1898 - accuracy: 0.9330 - val_loss: 0.6201 - val_accuracy: 0.8387 - 77ms/epoch - 4ms/step\n",
            "Epoch 212/1000\n",
            "18/18 - 0s - loss: 0.1904 - accuracy: 0.9330 - val_loss: 0.5740 - val_accuracy: 0.8710 - 74ms/epoch - 4ms/step\n",
            "Epoch 213/1000\n",
            "18/18 - 0s - loss: 0.1910 - accuracy: 0.9312 - val_loss: 0.6148 - val_accuracy: 0.8226 - 86ms/epoch - 5ms/step\n",
            "Epoch 214/1000\n",
            "18/18 - 0s - loss: 0.1892 - accuracy: 0.9348 - val_loss: 0.5985 - val_accuracy: 0.8548 - 76ms/epoch - 4ms/step\n",
            "Epoch 215/1000\n",
            "18/18 - 0s - loss: 0.1941 - accuracy: 0.9275 - val_loss: 0.6224 - val_accuracy: 0.8710 - 86ms/epoch - 5ms/step\n",
            "Epoch 216/1000\n",
            "18/18 - 0s - loss: 0.1903 - accuracy: 0.9330 - val_loss: 0.5997 - val_accuracy: 0.8710 - 129ms/epoch - 7ms/step\n",
            "Epoch 217/1000\n",
            "18/18 - 0s - loss: 0.1885 - accuracy: 0.9330 - val_loss: 0.6085 - val_accuracy: 0.8548 - 229ms/epoch - 13ms/step\n",
            "Epoch 218/1000\n",
            "18/18 - 0s - loss: 0.1894 - accuracy: 0.9312 - val_loss: 0.5777 - val_accuracy: 0.8871 - 196ms/epoch - 11ms/step\n",
            "Epoch 219/1000\n",
            "18/18 - 0s - loss: 0.1944 - accuracy: 0.9312 - val_loss: 0.6222 - val_accuracy: 0.8710 - 185ms/epoch - 10ms/step\n",
            "Epoch 220/1000\n",
            "18/18 - 0s - loss: 0.1957 - accuracy: 0.9293 - val_loss: 0.6199 - val_accuracy: 0.8387 - 109ms/epoch - 6ms/step\n",
            "Epoch 221/1000\n",
            "18/18 - 0s - loss: 0.2083 - accuracy: 0.9257 - val_loss: 0.6275 - val_accuracy: 0.8548 - 189ms/epoch - 11ms/step\n",
            "Epoch 222/1000\n",
            "18/18 - 0s - loss: 0.1978 - accuracy: 0.9312 - val_loss: 0.6077 - val_accuracy: 0.8548 - 224ms/epoch - 12ms/step\n",
            "Epoch 223/1000\n",
            "18/18 - 0s - loss: 0.1921 - accuracy: 0.9312 - val_loss: 0.5784 - val_accuracy: 0.8387 - 237ms/epoch - 13ms/step\n",
            "Epoch 224/1000\n",
            "18/18 - 0s - loss: 0.3052 - accuracy: 0.8732 - val_loss: 0.5431 - val_accuracy: 0.8226 - 142ms/epoch - 8ms/step\n",
            "Epoch 225/1000\n",
            "18/18 - 0s - loss: 0.2699 - accuracy: 0.8859 - val_loss: 0.4299 - val_accuracy: 0.8387 - 74ms/epoch - 4ms/step\n",
            "Epoch 226/1000\n",
            "18/18 - 0s - loss: 0.2365 - accuracy: 0.9112 - val_loss: 0.5757 - val_accuracy: 0.8548 - 79ms/epoch - 4ms/step\n",
            "Epoch 227/1000\n",
            "18/18 - 0s - loss: 0.2147 - accuracy: 0.9239 - val_loss: 0.5411 - val_accuracy: 0.8548 - 92ms/epoch - 5ms/step\n",
            "Epoch 228/1000\n",
            "18/18 - 0s - loss: 0.2023 - accuracy: 0.9257 - val_loss: 0.6485 - val_accuracy: 0.8387 - 107ms/epoch - 6ms/step\n",
            "Epoch 229/1000\n",
            "18/18 - 0s - loss: 0.2045 - accuracy: 0.9275 - val_loss: 0.6953 - val_accuracy: 0.8548 - 113ms/epoch - 6ms/step\n",
            "Epoch 230/1000\n",
            "18/18 - 0s - loss: 0.1982 - accuracy: 0.9275 - val_loss: 0.5987 - val_accuracy: 0.8226 - 99ms/epoch - 5ms/step\n",
            "Epoch 231/1000\n",
            "18/18 - 0s - loss: 0.1938 - accuracy: 0.9330 - val_loss: 0.6231 - val_accuracy: 0.8387 - 95ms/epoch - 5ms/step\n",
            "Epoch 232/1000\n",
            "18/18 - 0s - loss: 0.1905 - accuracy: 0.9293 - val_loss: 0.5683 - val_accuracy: 0.8387 - 88ms/epoch - 5ms/step\n",
            "Epoch 233/1000\n",
            "18/18 - 0s - loss: 0.1905 - accuracy: 0.9330 - val_loss: 0.6157 - val_accuracy: 0.8548 - 94ms/epoch - 5ms/step\n",
            "Epoch 234/1000\n",
            "18/18 - 0s - loss: 0.1911 - accuracy: 0.9330 - val_loss: 0.6032 - val_accuracy: 0.8548 - 93ms/epoch - 5ms/step\n",
            "Epoch 235/1000\n",
            "18/18 - 0s - loss: 0.1901 - accuracy: 0.9312 - val_loss: 0.6301 - val_accuracy: 0.8548 - 93ms/epoch - 5ms/step\n",
            "Epoch 236/1000\n",
            "18/18 - 0s - loss: 0.1936 - accuracy: 0.9312 - val_loss: 0.6280 - val_accuracy: 0.8387 - 126ms/epoch - 7ms/step\n",
            "Epoch 237/1000\n",
            "18/18 - 0s - loss: 0.1898 - accuracy: 0.9330 - val_loss: 0.6406 - val_accuracy: 0.8548 - 92ms/epoch - 5ms/step\n",
            "Epoch 238/1000\n",
            "18/18 - 0s - loss: 0.1886 - accuracy: 0.9312 - val_loss: 0.6098 - val_accuracy: 0.8387 - 74ms/epoch - 4ms/step\n",
            "Epoch 239/1000\n",
            "18/18 - 0s - loss: 0.1873 - accuracy: 0.9330 - val_loss: 0.6249 - val_accuracy: 0.8548 - 112ms/epoch - 6ms/step\n",
            "Epoch 240/1000\n",
            "18/18 - 0s - loss: 0.1879 - accuracy: 0.9330 - val_loss: 0.5710 - val_accuracy: 0.8548 - 86ms/epoch - 5ms/step\n",
            "Epoch 241/1000\n",
            "18/18 - 0s - loss: 0.1889 - accuracy: 0.9330 - val_loss: 0.5971 - val_accuracy: 0.8548 - 119ms/epoch - 7ms/step\n",
            "Epoch 242/1000\n",
            "18/18 - 0s - loss: 0.1896 - accuracy: 0.9330 - val_loss: 0.6029 - val_accuracy: 0.8387 - 103ms/epoch - 6ms/step\n",
            "Epoch 243/1000\n",
            "18/18 - 0s - loss: 0.1900 - accuracy: 0.9293 - val_loss: 0.5778 - val_accuracy: 0.8387 - 103ms/epoch - 6ms/step\n",
            "Epoch 244/1000\n",
            "18/18 - 0s - loss: 0.1880 - accuracy: 0.9330 - val_loss: 0.5808 - val_accuracy: 0.8548 - 106ms/epoch - 6ms/step\n",
            "Epoch 245/1000\n",
            "18/18 - 0s - loss: 0.1920 - accuracy: 0.9293 - val_loss: 0.5701 - val_accuracy: 0.8548 - 96ms/epoch - 5ms/step\n",
            "Epoch 246/1000\n",
            "18/18 - 0s - loss: 0.1916 - accuracy: 0.9330 - val_loss: 0.5804 - val_accuracy: 0.8548 - 90ms/epoch - 5ms/step\n",
            "Epoch 247/1000\n",
            "18/18 - 0s - loss: 0.1905 - accuracy: 0.9312 - val_loss: 0.5899 - val_accuracy: 0.8548 - 90ms/epoch - 5ms/step\n",
            "Epoch 248/1000\n",
            "18/18 - 0s - loss: 0.1871 - accuracy: 0.9330 - val_loss: 0.5610 - val_accuracy: 0.8710 - 96ms/epoch - 5ms/step\n",
            "Epoch 249/1000\n",
            "18/18 - 0s - loss: 0.1864 - accuracy: 0.9312 - val_loss: 0.5540 - val_accuracy: 0.8710 - 79ms/epoch - 4ms/step\n",
            "Epoch 250/1000\n",
            "18/18 - 0s - loss: 0.1865 - accuracy: 0.9330 - val_loss: 0.5805 - val_accuracy: 0.8548 - 79ms/epoch - 4ms/step\n",
            "Epoch 251/1000\n",
            "18/18 - 0s - loss: 0.1872 - accuracy: 0.9330 - val_loss: 0.5981 - val_accuracy: 0.8548 - 105ms/epoch - 6ms/step\n",
            "Epoch 252/1000\n",
            "18/18 - 0s - loss: 0.1877 - accuracy: 0.9330 - val_loss: 0.5401 - val_accuracy: 0.8871 - 103ms/epoch - 6ms/step\n",
            "Epoch 253/1000\n",
            "18/18 - 0s - loss: 0.1862 - accuracy: 0.9330 - val_loss: 0.5654 - val_accuracy: 0.8710 - 94ms/epoch - 5ms/step\n",
            "Epoch 254/1000\n",
            "18/18 - 0s - loss: 0.1851 - accuracy: 0.9330 - val_loss: 0.5384 - val_accuracy: 0.8871 - 115ms/epoch - 6ms/step\n",
            "Epoch 255/1000\n",
            "18/18 - 0s - loss: 0.1895 - accuracy: 0.9330 - val_loss: 0.5675 - val_accuracy: 0.8710 - 107ms/epoch - 6ms/step\n",
            "Epoch 256/1000\n",
            "18/18 - 0s - loss: 0.1881 - accuracy: 0.9330 - val_loss: 0.5639 - val_accuracy: 0.8548 - 107ms/epoch - 6ms/step\n",
            "Epoch 257/1000\n",
            "18/18 - 0s - loss: 0.1859 - accuracy: 0.9330 - val_loss: 0.5896 - val_accuracy: 0.8548 - 104ms/epoch - 6ms/step\n",
            "Epoch 258/1000\n",
            "18/18 - 0s - loss: 0.1857 - accuracy: 0.9330 - val_loss: 0.5831 - val_accuracy: 0.8548 - 100ms/epoch - 6ms/step\n",
            "Epoch 259/1000\n",
            "18/18 - 0s - loss: 0.1879 - accuracy: 0.9348 - val_loss: 0.5987 - val_accuracy: 0.8387 - 87ms/epoch - 5ms/step\n",
            "Epoch 260/1000\n",
            "18/18 - 0s - loss: 0.1863 - accuracy: 0.9330 - val_loss: 0.5873 - val_accuracy: 0.8710 - 87ms/epoch - 5ms/step\n",
            "Epoch 261/1000\n",
            "18/18 - 0s - loss: 0.1860 - accuracy: 0.9330 - val_loss: 0.6054 - val_accuracy: 0.8548 - 79ms/epoch - 4ms/step\n",
            "Epoch 262/1000\n",
            "18/18 - 0s - loss: 0.1937 - accuracy: 0.9312 - val_loss: 0.5873 - val_accuracy: 0.8710 - 95ms/epoch - 5ms/step\n",
            "Epoch 263/1000\n",
            "18/18 - 0s - loss: 0.1895 - accuracy: 0.9312 - val_loss: 0.5336 - val_accuracy: 0.8871 - 79ms/epoch - 4ms/step\n",
            "Epoch 264/1000\n",
            "18/18 - 0s - loss: 0.1867 - accuracy: 0.9330 - val_loss: 0.5737 - val_accuracy: 0.8548 - 92ms/epoch - 5ms/step\n",
            "Epoch 265/1000\n",
            "18/18 - 0s - loss: 0.1854 - accuracy: 0.9330 - val_loss: 0.5554 - val_accuracy: 0.8710 - 102ms/epoch - 6ms/step\n",
            "Epoch 266/1000\n",
            "18/18 - 0s - loss: 0.1988 - accuracy: 0.9257 - val_loss: 0.5739 - val_accuracy: 0.8710 - 102ms/epoch - 6ms/step\n",
            "Epoch 267/1000\n",
            "18/18 - 0s - loss: 0.1871 - accuracy: 0.9330 - val_loss: 0.6064 - val_accuracy: 0.8387 - 93ms/epoch - 5ms/step\n",
            "Epoch 268/1000\n",
            "18/18 - 0s - loss: 0.1927 - accuracy: 0.9293 - val_loss: 0.5415 - val_accuracy: 0.8710 - 105ms/epoch - 6ms/step\n",
            "Epoch 269/1000\n",
            "18/18 - 0s - loss: 0.1900 - accuracy: 0.9312 - val_loss: 0.5904 - val_accuracy: 0.8387 - 97ms/epoch - 5ms/step\n",
            "Epoch 270/1000\n",
            "18/18 - 0s - loss: 0.1861 - accuracy: 0.9348 - val_loss: 0.5719 - val_accuracy: 0.8871 - 107ms/epoch - 6ms/step\n",
            "Epoch 271/1000\n",
            "18/18 - 0s - loss: 0.1898 - accuracy: 0.9293 - val_loss: 0.5759 - val_accuracy: 0.8387 - 83ms/epoch - 5ms/step\n",
            "Epoch 272/1000\n",
            "18/18 - 0s - loss: 0.1942 - accuracy: 0.9293 - val_loss: 0.5446 - val_accuracy: 0.8871 - 111ms/epoch - 6ms/step\n",
            "Epoch 273/1000\n",
            "18/18 - 0s - loss: 0.1952 - accuracy: 0.9293 - val_loss: 0.5124 - val_accuracy: 0.8548 - 91ms/epoch - 5ms/step\n",
            "Epoch 274/1000\n",
            "18/18 - 0s - loss: 0.1865 - accuracy: 0.9330 - val_loss: 0.5493 - val_accuracy: 0.8710 - 81ms/epoch - 5ms/step\n",
            "Epoch 275/1000\n",
            "18/18 - 0s - loss: 0.1863 - accuracy: 0.9330 - val_loss: 0.5589 - val_accuracy: 0.8387 - 94ms/epoch - 5ms/step\n",
            "Epoch 276/1000\n",
            "18/18 - 0s - loss: 0.1890 - accuracy: 0.9330 - val_loss: 0.5696 - val_accuracy: 0.8548 - 97ms/epoch - 5ms/step\n",
            "Epoch 277/1000\n",
            "18/18 - 0s - loss: 0.1855 - accuracy: 0.9330 - val_loss: 0.5655 - val_accuracy: 0.8548 - 83ms/epoch - 5ms/step\n",
            "Epoch 278/1000\n",
            "18/18 - 0s - loss: 0.1851 - accuracy: 0.9330 - val_loss: 0.5580 - val_accuracy: 0.8548 - 98ms/epoch - 5ms/step\n",
            "Epoch 279/1000\n",
            "18/18 - 0s - loss: 0.1851 - accuracy: 0.9330 - val_loss: 0.5315 - val_accuracy: 0.8871 - 93ms/epoch - 5ms/step\n",
            "Epoch 280/1000\n",
            "18/18 - 0s - loss: 0.1846 - accuracy: 0.9348 - val_loss: 0.5390 - val_accuracy: 0.8710 - 81ms/epoch - 5ms/step\n",
            "Epoch 281/1000\n",
            "18/18 - 0s - loss: 0.1863 - accuracy: 0.9330 - val_loss: 0.5352 - val_accuracy: 0.8710 - 91ms/epoch - 5ms/step\n",
            "Epoch 282/1000\n",
            "18/18 - 0s - loss: 0.1842 - accuracy: 0.9330 - val_loss: 0.5347 - val_accuracy: 0.8710 - 112ms/epoch - 6ms/step\n",
            "Epoch 283/1000\n",
            "18/18 - 0s - loss: 0.1840 - accuracy: 0.9330 - val_loss: 0.5212 - val_accuracy: 0.8871 - 94ms/epoch - 5ms/step\n",
            "Epoch 284/1000\n",
            "18/18 - 0s - loss: 0.1840 - accuracy: 0.9330 - val_loss: 0.5309 - val_accuracy: 0.9032 - 97ms/epoch - 5ms/step\n",
            "Epoch 285/1000\n",
            "18/18 - 0s - loss: 0.1845 - accuracy: 0.9330 - val_loss: 0.5440 - val_accuracy: 0.8710 - 99ms/epoch - 5ms/step\n",
            "Epoch 286/1000\n",
            "18/18 - 0s - loss: 0.1846 - accuracy: 0.9330 - val_loss: 0.5650 - val_accuracy: 0.8710 - 104ms/epoch - 6ms/step\n",
            "Epoch 287/1000\n",
            "18/18 - 0s - loss: 0.1844 - accuracy: 0.9330 - val_loss: 0.5597 - val_accuracy: 0.8710 - 81ms/epoch - 4ms/step\n",
            "Epoch 288/1000\n",
            "18/18 - 0s - loss: 0.1830 - accuracy: 0.9348 - val_loss: 0.5554 - val_accuracy: 0.8548 - 97ms/epoch - 5ms/step\n",
            "Epoch 289/1000\n",
            "18/18 - 0s - loss: 0.1833 - accuracy: 0.9330 - val_loss: 0.5330 - val_accuracy: 0.8871 - 77ms/epoch - 4ms/step\n",
            "Epoch 290/1000\n",
            "18/18 - 0s - loss: 0.1859 - accuracy: 0.9330 - val_loss: 0.5598 - val_accuracy: 0.8710 - 92ms/epoch - 5ms/step\n",
            "Epoch 291/1000\n",
            "18/18 - 0s - loss: 0.1876 - accuracy: 0.9312 - val_loss: 0.5908 - val_accuracy: 0.8871 - 103ms/epoch - 6ms/step\n",
            "Epoch 292/1000\n",
            "18/18 - 0s - loss: 0.1849 - accuracy: 0.9330 - val_loss: 0.5505 - val_accuracy: 0.8871 - 86ms/epoch - 5ms/step\n",
            "Epoch 293/1000\n",
            "18/18 - 0s - loss: 0.1838 - accuracy: 0.9330 - val_loss: 0.5692 - val_accuracy: 0.8710 - 90ms/epoch - 5ms/step\n",
            "Epoch 294/1000\n",
            "18/18 - 0s - loss: 0.1834 - accuracy: 0.9330 - val_loss: 0.5303 - val_accuracy: 0.9032 - 94ms/epoch - 5ms/step\n",
            "Epoch 295/1000\n",
            "18/18 - 0s - loss: 0.1836 - accuracy: 0.9330 - val_loss: 0.5634 - val_accuracy: 0.8710 - 94ms/epoch - 5ms/step\n",
            "Epoch 296/1000\n",
            "18/18 - 0s - loss: 0.1846 - accuracy: 0.9330 - val_loss: 0.5796 - val_accuracy: 0.8710 - 75ms/epoch - 4ms/step\n",
            "Epoch 297/1000\n",
            "18/18 - 0s - loss: 0.1855 - accuracy: 0.9330 - val_loss: 0.5891 - val_accuracy: 0.8710 - 80ms/epoch - 4ms/step\n",
            "Epoch 298/1000\n",
            "18/18 - 0s - loss: 0.2037 - accuracy: 0.9293 - val_loss: 0.5851 - val_accuracy: 0.8710 - 82ms/epoch - 5ms/step\n",
            "Epoch 299/1000\n",
            "18/18 - 0s - loss: 0.1911 - accuracy: 0.9293 - val_loss: 0.5475 - val_accuracy: 0.8548 - 91ms/epoch - 5ms/step\n",
            "Epoch 300/1000\n",
            "18/18 - 0s - loss: 0.1951 - accuracy: 0.9293 - val_loss: 0.5062 - val_accuracy: 0.9032 - 85ms/epoch - 5ms/step\n",
            "Epoch 301/1000\n",
            "18/18 - 0s - loss: 0.1873 - accuracy: 0.9330 - val_loss: 0.5379 - val_accuracy: 0.8871 - 89ms/epoch - 5ms/step\n",
            "Epoch 302/1000\n",
            "18/18 - 0s - loss: 0.1910 - accuracy: 0.9312 - val_loss: 0.4412 - val_accuracy: 0.8871 - 73ms/epoch - 4ms/step\n",
            "Epoch 303/1000\n",
            "18/18 - 0s - loss: 0.1970 - accuracy: 0.9257 - val_loss: 0.5743 - val_accuracy: 0.8548 - 88ms/epoch - 5ms/step\n",
            "Epoch 304/1000\n",
            "18/18 - 0s - loss: 0.2105 - accuracy: 0.9239 - val_loss: 0.4969 - val_accuracy: 0.8226 - 105ms/epoch - 6ms/step\n",
            "Epoch 305/1000\n",
            "18/18 - 0s - loss: 0.2068 - accuracy: 0.9221 - val_loss: 0.5744 - val_accuracy: 0.8548 - 95ms/epoch - 5ms/step\n",
            "Epoch 306/1000\n",
            "18/18 - 0s - loss: 0.2081 - accuracy: 0.9221 - val_loss: 0.5366 - val_accuracy: 0.8548 - 83ms/epoch - 5ms/step\n",
            "Epoch 307/1000\n",
            "18/18 - 0s - loss: 0.1969 - accuracy: 0.9239 - val_loss: 0.4585 - val_accuracy: 0.8226 - 78ms/epoch - 4ms/step\n",
            "Epoch 308/1000\n",
            "18/18 - 0s - loss: 0.2126 - accuracy: 0.9221 - val_loss: 0.6627 - val_accuracy: 0.8226 - 75ms/epoch - 4ms/step\n",
            "Epoch 309/1000\n",
            "18/18 - 0s - loss: 0.2501 - accuracy: 0.8986 - val_loss: 0.6671 - val_accuracy: 0.8871 - 88ms/epoch - 5ms/step\n",
            "Epoch 310/1000\n",
            "18/18 - 0s - loss: 0.2388 - accuracy: 0.9112 - val_loss: 0.6306 - val_accuracy: 0.8710 - 87ms/epoch - 5ms/step\n",
            "Epoch 311/1000\n",
            "18/18 - 0s - loss: 0.2371 - accuracy: 0.9185 - val_loss: 0.5106 - val_accuracy: 0.8387 - 70ms/epoch - 4ms/step\n",
            "Epoch 312/1000\n",
            "18/18 - 0s - loss: 0.2367 - accuracy: 0.9040 - val_loss: 0.4808 - val_accuracy: 0.8226 - 92ms/epoch - 5ms/step\n",
            "Epoch 313/1000\n",
            "18/18 - 0s - loss: 0.2122 - accuracy: 0.9185 - val_loss: 0.5186 - val_accuracy: 0.8387 - 99ms/epoch - 5ms/step\n",
            "Epoch 314/1000\n",
            "18/18 - 0s - loss: 0.2076 - accuracy: 0.9203 - val_loss: 0.6415 - val_accuracy: 0.8226 - 73ms/epoch - 4ms/step\n",
            "Epoch 315/1000\n",
            "18/18 - 0s - loss: 0.2015 - accuracy: 0.9257 - val_loss: 0.5849 - val_accuracy: 0.8387 - 85ms/epoch - 5ms/step\n",
            "Epoch 316/1000\n",
            "18/18 - 0s - loss: 0.1915 - accuracy: 0.9257 - val_loss: 0.5562 - val_accuracy: 0.8387 - 95ms/epoch - 5ms/step\n",
            "Epoch 317/1000\n",
            "18/18 - 0s - loss: 0.1977 - accuracy: 0.9275 - val_loss: 0.6034 - val_accuracy: 0.8387 - 98ms/epoch - 5ms/step\n",
            "Epoch 318/1000\n",
            "18/18 - 0s - loss: 0.1924 - accuracy: 0.9312 - val_loss: 0.5436 - val_accuracy: 0.8548 - 89ms/epoch - 5ms/step\n",
            "Epoch 319/1000\n",
            "18/18 - 0s - loss: 0.2003 - accuracy: 0.9293 - val_loss: 0.5792 - val_accuracy: 0.8387 - 98ms/epoch - 5ms/step\n",
            "Epoch 320/1000\n",
            "18/18 - 0s - loss: 0.1914 - accuracy: 0.9312 - val_loss: 0.5744 - val_accuracy: 0.8226 - 73ms/epoch - 4ms/step\n",
            "Epoch 321/1000\n",
            "18/18 - 0s - loss: 0.1923 - accuracy: 0.9330 - val_loss: 0.5806 - val_accuracy: 0.8226 - 100ms/epoch - 6ms/step\n",
            "Epoch 322/1000\n",
            "18/18 - 0s - loss: 0.1900 - accuracy: 0.9312 - val_loss: 0.5674 - val_accuracy: 0.8387 - 89ms/epoch - 5ms/step\n",
            "Epoch 323/1000\n",
            "18/18 - 0s - loss: 0.1895 - accuracy: 0.9293 - val_loss: 0.5664 - val_accuracy: 0.8387 - 93ms/epoch - 5ms/step\n",
            "Epoch 324/1000\n",
            "18/18 - 0s - loss: 0.1903 - accuracy: 0.9312 - val_loss: 0.5343 - val_accuracy: 0.8387 - 97ms/epoch - 5ms/step\n",
            "Epoch 325/1000\n",
            "18/18 - 0s - loss: 0.1882 - accuracy: 0.9312 - val_loss: 0.5104 - val_accuracy: 0.8548 - 101ms/epoch - 6ms/step\n",
            "Epoch 326/1000\n",
            "18/18 - 0s - loss: 0.1901 - accuracy: 0.9293 - val_loss: 0.5271 - val_accuracy: 0.8548 - 99ms/epoch - 5ms/step\n",
            "Epoch 327/1000\n",
            "18/18 - 0s - loss: 0.1931 - accuracy: 0.9293 - val_loss: 0.3960 - val_accuracy: 0.8387 - 98ms/epoch - 5ms/step\n",
            "Epoch 328/1000\n",
            "18/18 - 0s - loss: 0.2003 - accuracy: 0.9257 - val_loss: 0.4731 - val_accuracy: 0.8387 - 83ms/epoch - 5ms/step\n",
            "Epoch 329/1000\n",
            "18/18 - 0s - loss: 0.2035 - accuracy: 0.9221 - val_loss: 0.4283 - val_accuracy: 0.8387 - 98ms/epoch - 5ms/step\n",
            "Epoch 330/1000\n",
            "18/18 - 0s - loss: 0.2045 - accuracy: 0.9221 - val_loss: 0.4991 - val_accuracy: 0.8226 - 109ms/epoch - 6ms/step\n",
            "Epoch 331/1000\n",
            "18/18 - 0s - loss: 0.1917 - accuracy: 0.9293 - val_loss: 0.5567 - val_accuracy: 0.8065 - 100ms/epoch - 6ms/step\n",
            "Epoch 332/1000\n",
            "18/18 - 0s - loss: 0.1913 - accuracy: 0.9312 - val_loss: 0.6536 - val_accuracy: 0.8065 - 85ms/epoch - 5ms/step\n",
            "Epoch 333/1000\n",
            "18/18 - 0s - loss: 0.1887 - accuracy: 0.9293 - val_loss: 0.5715 - val_accuracy: 0.8065 - 107ms/epoch - 6ms/step\n",
            "Epoch 334/1000\n",
            "18/18 - 0s - loss: 0.1864 - accuracy: 0.9312 - val_loss: 0.5625 - val_accuracy: 0.8387 - 88ms/epoch - 5ms/step\n",
            "Epoch 335/1000\n",
            "18/18 - 0s - loss: 0.1859 - accuracy: 0.9312 - val_loss: 0.5519 - val_accuracy: 0.8226 - 74ms/epoch - 4ms/step\n",
            "Epoch 336/1000\n",
            "18/18 - 0s - loss: 0.1858 - accuracy: 0.9330 - val_loss: 0.5688 - val_accuracy: 0.8226 - 74ms/epoch - 4ms/step\n",
            "Epoch 337/1000\n",
            "18/18 - 0s - loss: 0.1856 - accuracy: 0.9312 - val_loss: 0.5675 - val_accuracy: 0.8226 - 96ms/epoch - 5ms/step\n",
            "Epoch 338/1000\n",
            "18/18 - 0s - loss: 0.1854 - accuracy: 0.9293 - val_loss: 0.5538 - val_accuracy: 0.8226 - 105ms/epoch - 6ms/step\n",
            "Epoch 339/1000\n",
            "18/18 - 0s - loss: 0.1864 - accuracy: 0.9330 - val_loss: 0.5642 - val_accuracy: 0.8226 - 108ms/epoch - 6ms/step\n",
            "Epoch 340/1000\n",
            "18/18 - 0s - loss: 0.1856 - accuracy: 0.9293 - val_loss: 0.5707 - val_accuracy: 0.8226 - 102ms/epoch - 6ms/step\n",
            "Epoch 341/1000\n",
            "18/18 - 0s - loss: 0.1852 - accuracy: 0.9312 - val_loss: 0.5593 - val_accuracy: 0.8226 - 97ms/epoch - 5ms/step\n",
            "Epoch 342/1000\n",
            "18/18 - 0s - loss: 0.1862 - accuracy: 0.9312 - val_loss: 0.5612 - val_accuracy: 0.8387 - 91ms/epoch - 5ms/step\n",
            "Epoch 343/1000\n",
            "18/18 - 0s - loss: 0.1860 - accuracy: 0.9312 - val_loss: 0.5913 - val_accuracy: 0.8387 - 88ms/epoch - 5ms/step\n",
            "Epoch 344/1000\n",
            "18/18 - 0s - loss: 0.1859 - accuracy: 0.9330 - val_loss: 0.5726 - val_accuracy: 0.8226 - 83ms/epoch - 5ms/step\n",
            "Epoch 345/1000\n",
            "18/18 - 0s - loss: 0.1866 - accuracy: 0.9312 - val_loss: 0.5752 - val_accuracy: 0.8226 - 98ms/epoch - 5ms/step\n",
            "Epoch 346/1000\n",
            "18/18 - 0s - loss: 0.1848 - accuracy: 0.9330 - val_loss: 0.5688 - val_accuracy: 0.8226 - 83ms/epoch - 5ms/step\n",
            "Epoch 347/1000\n",
            "18/18 - 0s - loss: 0.1845 - accuracy: 0.9312 - val_loss: 0.5649 - val_accuracy: 0.8226 - 74ms/epoch - 4ms/step\n",
            "Epoch 348/1000\n",
            "18/18 - 0s - loss: 0.1848 - accuracy: 0.9293 - val_loss: 0.5624 - val_accuracy: 0.8226 - 70ms/epoch - 4ms/step\n",
            "Epoch 349/1000\n",
            "18/18 - 0s - loss: 0.1843 - accuracy: 0.9330 - val_loss: 0.5618 - val_accuracy: 0.8226 - 76ms/epoch - 4ms/step\n",
            "Epoch 350/1000\n",
            "18/18 - 0s - loss: 0.1844 - accuracy: 0.9312 - val_loss: 0.5627 - val_accuracy: 0.8226 - 78ms/epoch - 4ms/step\n",
            "Epoch 351/1000\n",
            "18/18 - 0s - loss: 0.1843 - accuracy: 0.9312 - val_loss: 0.5848 - val_accuracy: 0.8387 - 78ms/epoch - 4ms/step\n",
            "Epoch 352/1000\n",
            "18/18 - 0s - loss: 0.1854 - accuracy: 0.9293 - val_loss: 0.5448 - val_accuracy: 0.8387 - 94ms/epoch - 5ms/step\n",
            "Epoch 353/1000\n",
            "18/18 - 0s - loss: 0.1929 - accuracy: 0.9312 - val_loss: 0.5407 - val_accuracy: 0.8226 - 69ms/epoch - 4ms/step\n",
            "Epoch 354/1000\n",
            "18/18 - 0s - loss: 0.1844 - accuracy: 0.9312 - val_loss: 0.5831 - val_accuracy: 0.8226 - 111ms/epoch - 6ms/step\n",
            "Epoch 355/1000\n",
            "18/18 - 0s - loss: 0.1849 - accuracy: 0.9312 - val_loss: 0.5567 - val_accuracy: 0.8387 - 71ms/epoch - 4ms/step\n",
            "Epoch 356/1000\n",
            "18/18 - 0s - loss: 0.1866 - accuracy: 0.9312 - val_loss: 0.5540 - val_accuracy: 0.8387 - 80ms/epoch - 4ms/step\n",
            "Epoch 357/1000\n",
            "18/18 - 0s - loss: 0.1836 - accuracy: 0.9330 - val_loss: 0.5079 - val_accuracy: 0.8548 - 86ms/epoch - 5ms/step\n",
            "Epoch 358/1000\n",
            "18/18 - 0s - loss: 0.1852 - accuracy: 0.9330 - val_loss: 0.5674 - val_accuracy: 0.8387 - 75ms/epoch - 4ms/step\n",
            "Epoch 359/1000\n",
            "18/18 - 0s - loss: 0.1869 - accuracy: 0.9293 - val_loss: 0.6797 - val_accuracy: 0.8548 - 84ms/epoch - 5ms/step\n",
            "Epoch 360/1000\n",
            "18/18 - 0s - loss: 0.2821 - accuracy: 0.9149 - val_loss: 0.5176 - val_accuracy: 0.8710 - 77ms/epoch - 4ms/step\n",
            "Epoch 361/1000\n",
            "18/18 - 0s - loss: 0.2663 - accuracy: 0.8931 - val_loss: 0.4115 - val_accuracy: 0.8065 - 90ms/epoch - 5ms/step\n",
            "Epoch 362/1000\n",
            "18/18 - 0s - loss: 0.2436 - accuracy: 0.9040 - val_loss: 0.2278 - val_accuracy: 0.9032 - 98ms/epoch - 5ms/step\n",
            "Epoch 363/1000\n",
            "18/18 - 0s - loss: 0.2450 - accuracy: 0.8986 - val_loss: 0.6418 - val_accuracy: 0.8387 - 116ms/epoch - 6ms/step\n",
            "Epoch 364/1000\n",
            "18/18 - 0s - loss: 0.2737 - accuracy: 0.9004 - val_loss: 0.3128 - val_accuracy: 0.8548 - 97ms/epoch - 5ms/step\n",
            "Epoch 365/1000\n",
            "18/18 - 0s - loss: 0.2536 - accuracy: 0.9022 - val_loss: 0.6230 - val_accuracy: 0.8387 - 75ms/epoch - 4ms/step\n",
            "Epoch 366/1000\n",
            "18/18 - 0s - loss: 0.2224 - accuracy: 0.9203 - val_loss: 0.5211 - val_accuracy: 0.8548 - 88ms/epoch - 5ms/step\n",
            "Epoch 367/1000\n",
            "18/18 - 0s - loss: 0.2058 - accuracy: 0.9275 - val_loss: 0.4654 - val_accuracy: 0.8548 - 102ms/epoch - 6ms/step\n",
            "Epoch 368/1000\n",
            "18/18 - 0s - loss: 0.1866 - accuracy: 0.9330 - val_loss: 0.4484 - val_accuracy: 0.8710 - 81ms/epoch - 4ms/step\n",
            "Epoch 369/1000\n",
            "18/18 - 0s - loss: 0.1872 - accuracy: 0.9330 - val_loss: 0.4481 - val_accuracy: 0.8710 - 93ms/epoch - 5ms/step\n",
            "Epoch 370/1000\n",
            "18/18 - 0s - loss: 0.1871 - accuracy: 0.9312 - val_loss: 0.4757 - val_accuracy: 0.8710 - 102ms/epoch - 6ms/step\n",
            "Epoch 371/1000\n",
            "18/18 - 0s - loss: 0.1850 - accuracy: 0.9330 - val_loss: 0.4785 - val_accuracy: 0.8710 - 94ms/epoch - 5ms/step\n",
            "Epoch 372/1000\n",
            "18/18 - 0s - loss: 0.1855 - accuracy: 0.9312 - val_loss: 0.5034 - val_accuracy: 0.8710 - 96ms/epoch - 5ms/step\n",
            "Epoch 373/1000\n",
            "18/18 - 0s - loss: 0.1835 - accuracy: 0.9330 - val_loss: 0.5025 - val_accuracy: 0.8710 - 75ms/epoch - 4ms/step\n",
            "Epoch 374/1000\n",
            "18/18 - 0s - loss: 0.1838 - accuracy: 0.9330 - val_loss: 0.5114 - val_accuracy: 0.8710 - 88ms/epoch - 5ms/step\n",
            "Epoch 375/1000\n",
            "18/18 - 0s - loss: 0.1847 - accuracy: 0.9312 - val_loss: 0.5055 - val_accuracy: 0.8710 - 103ms/epoch - 6ms/step\n",
            "Epoch 376/1000\n",
            "18/18 - 0s - loss: 0.1885 - accuracy: 0.9312 - val_loss: 0.5017 - val_accuracy: 0.8710 - 75ms/epoch - 4ms/step\n",
            "Epoch 377/1000\n",
            "18/18 - 0s - loss: 0.1860 - accuracy: 0.9312 - val_loss: 0.4918 - val_accuracy: 0.8710 - 75ms/epoch - 4ms/step\n",
            "Epoch 378/1000\n",
            "18/18 - 0s - loss: 0.1837 - accuracy: 0.9330 - val_loss: 0.5184 - val_accuracy: 0.8548 - 77ms/epoch - 4ms/step\n",
            "Epoch 379/1000\n",
            "18/18 - 0s - loss: 0.1878 - accuracy: 0.9330 - val_loss: 0.5143 - val_accuracy: 0.8548 - 76ms/epoch - 4ms/step\n",
            "Epoch 380/1000\n",
            "18/18 - 0s - loss: 0.1866 - accuracy: 0.9330 - val_loss: 0.5282 - val_accuracy: 0.8548 - 100ms/epoch - 6ms/step\n",
            "Epoch 381/1000\n",
            "18/18 - 0s - loss: 0.1840 - accuracy: 0.9330 - val_loss: 0.5109 - val_accuracy: 0.8710 - 74ms/epoch - 4ms/step\n",
            "Epoch 382/1000\n",
            "18/18 - 0s - loss: 0.1834 - accuracy: 0.9348 - val_loss: 0.5178 - val_accuracy: 0.8548 - 72ms/epoch - 4ms/step\n",
            "Epoch 383/1000\n",
            "18/18 - 0s - loss: 0.1862 - accuracy: 0.9312 - val_loss: 0.5379 - val_accuracy: 0.8548 - 75ms/epoch - 4ms/step\n",
            "Epoch 384/1000\n",
            "18/18 - 0s - loss: 0.1838 - accuracy: 0.9330 - val_loss: 0.5362 - val_accuracy: 0.8548 - 71ms/epoch - 4ms/step\n",
            "Epoch 385/1000\n",
            "18/18 - 0s - loss: 0.2028 - accuracy: 0.9239 - val_loss: 0.4377 - val_accuracy: 0.9194 - 81ms/epoch - 5ms/step\n",
            "Epoch 386/1000\n",
            "18/18 - 0s - loss: 0.2075 - accuracy: 0.9203 - val_loss: 0.5610 - val_accuracy: 0.8548 - 95ms/epoch - 5ms/step\n",
            "Epoch 387/1000\n",
            "18/18 - 0s - loss: 0.2120 - accuracy: 0.9203 - val_loss: 0.3858 - val_accuracy: 0.8548 - 98ms/epoch - 5ms/step\n",
            "Epoch 388/1000\n",
            "18/18 - 0s - loss: 0.2205 - accuracy: 0.9112 - val_loss: 0.4767 - val_accuracy: 0.8065 - 71ms/epoch - 4ms/step\n",
            "Epoch 389/1000\n",
            "18/18 - 0s - loss: 0.2428 - accuracy: 0.9022 - val_loss: 0.4335 - val_accuracy: 0.8387 - 87ms/epoch - 5ms/step\n",
            "Epoch 390/1000\n",
            "18/18 - 0s - loss: 0.2331 - accuracy: 0.9058 - val_loss: 0.5674 - val_accuracy: 0.8871 - 101ms/epoch - 6ms/step\n",
            "Epoch 391/1000\n",
            "18/18 - 0s - loss: 0.1993 - accuracy: 0.9221 - val_loss: 0.3793 - val_accuracy: 0.9032 - 87ms/epoch - 5ms/step\n",
            "Epoch 392/1000\n",
            "18/18 - 0s - loss: 0.1875 - accuracy: 0.9312 - val_loss: 0.4910 - val_accuracy: 0.8871 - 66ms/epoch - 4ms/step\n",
            "Epoch 393/1000\n",
            "18/18 - 0s - loss: 0.1842 - accuracy: 0.9330 - val_loss: 0.4651 - val_accuracy: 0.8871 - 73ms/epoch - 4ms/step\n",
            "Epoch 394/1000\n",
            "18/18 - 0s - loss: 0.1813 - accuracy: 0.9348 - val_loss: 0.4704 - val_accuracy: 0.8871 - 92ms/epoch - 5ms/step\n",
            "Epoch 395/1000\n",
            "18/18 - 0s - loss: 0.1809 - accuracy: 0.9348 - val_loss: 0.5028 - val_accuracy: 0.8871 - 76ms/epoch - 4ms/step\n",
            "Epoch 396/1000\n",
            "18/18 - 0s - loss: 0.1805 - accuracy: 0.9348 - val_loss: 0.5164 - val_accuracy: 0.8871 - 69ms/epoch - 4ms/step\n",
            "Epoch 397/1000\n",
            "18/18 - 0s - loss: 0.1812 - accuracy: 0.9348 - val_loss: 0.5200 - val_accuracy: 0.8871 - 68ms/epoch - 4ms/step\n",
            "Epoch 398/1000\n",
            "18/18 - 0s - loss: 0.1796 - accuracy: 0.9348 - val_loss: 0.5382 - val_accuracy: 0.8871 - 90ms/epoch - 5ms/step\n",
            "Epoch 399/1000\n",
            "18/18 - 0s - loss: 0.1791 - accuracy: 0.9348 - val_loss: 0.5254 - val_accuracy: 0.8871 - 109ms/epoch - 6ms/step\n",
            "Epoch 400/1000\n",
            "18/18 - 0s - loss: 0.1792 - accuracy: 0.9348 - val_loss: 0.5091 - val_accuracy: 0.8871 - 78ms/epoch - 4ms/step\n",
            "Epoch 401/1000\n",
            "18/18 - 0s - loss: 0.1789 - accuracy: 0.9348 - val_loss: 0.5402 - val_accuracy: 0.8710 - 78ms/epoch - 4ms/step\n",
            "Epoch 402/1000\n",
            "18/18 - 0s - loss: 0.1802 - accuracy: 0.9348 - val_loss: 0.5343 - val_accuracy: 0.8871 - 95ms/epoch - 5ms/step\n",
            "Epoch 403/1000\n",
            "18/18 - 0s - loss: 0.1788 - accuracy: 0.9366 - val_loss: 0.5409 - val_accuracy: 0.8710 - 104ms/epoch - 6ms/step\n",
            "Epoch 404/1000\n",
            "18/18 - 0s - loss: 0.1787 - accuracy: 0.9366 - val_loss: 0.5237 - val_accuracy: 0.8710 - 84ms/epoch - 5ms/step\n",
            "Epoch 405/1000\n",
            "18/18 - 0s - loss: 0.1783 - accuracy: 0.9366 - val_loss: 0.5235 - val_accuracy: 0.8710 - 94ms/epoch - 5ms/step\n",
            "Epoch 406/1000\n",
            "18/18 - 0s - loss: 0.1792 - accuracy: 0.9348 - val_loss: 0.5384 - val_accuracy: 0.8710 - 81ms/epoch - 4ms/step\n",
            "Epoch 407/1000\n",
            "18/18 - 0s - loss: 0.1882 - accuracy: 0.9330 - val_loss: 0.5429 - val_accuracy: 0.8871 - 73ms/epoch - 4ms/step\n",
            "Epoch 408/1000\n",
            "18/18 - 0s - loss: 0.1826 - accuracy: 0.9330 - val_loss: 0.5673 - val_accuracy: 0.8710 - 94ms/epoch - 5ms/step\n",
            "Epoch 409/1000\n",
            "18/18 - 0s - loss: 0.1792 - accuracy: 0.9348 - val_loss: 0.5887 - val_accuracy: 0.8710 - 94ms/epoch - 5ms/step\n",
            "Epoch 410/1000\n",
            "18/18 - 0s - loss: 0.1787 - accuracy: 0.9348 - val_loss: 0.5958 - val_accuracy: 0.8710 - 109ms/epoch - 6ms/step\n",
            "Epoch 411/1000\n",
            "18/18 - 0s - loss: 0.1781 - accuracy: 0.9348 - val_loss: 0.5418 - val_accuracy: 0.8710 - 74ms/epoch - 4ms/step\n",
            "Epoch 412/1000\n",
            "18/18 - 0s - loss: 0.1791 - accuracy: 0.9348 - val_loss: 0.5463 - val_accuracy: 0.8710 - 79ms/epoch - 4ms/step\n",
            "Epoch 413/1000\n",
            "18/18 - 0s - loss: 0.1783 - accuracy: 0.9366 - val_loss: 0.5349 - val_accuracy: 0.8710 - 95ms/epoch - 5ms/step\n",
            "Epoch 414/1000\n",
            "18/18 - 0s - loss: 0.1795 - accuracy: 0.9348 - val_loss: 0.5142 - val_accuracy: 0.8710 - 93ms/epoch - 5ms/step\n",
            "Epoch 415/1000\n",
            "18/18 - 0s - loss: 0.1809 - accuracy: 0.9348 - val_loss: 0.5313 - val_accuracy: 0.8710 - 76ms/epoch - 4ms/step\n",
            "Epoch 416/1000\n",
            "18/18 - 0s - loss: 0.1779 - accuracy: 0.9366 - val_loss: 0.5412 - val_accuracy: 0.8710 - 89ms/epoch - 5ms/step\n",
            "Epoch 417/1000\n",
            "18/18 - 0s - loss: 0.1776 - accuracy: 0.9384 - val_loss: 0.5429 - val_accuracy: 0.8710 - 82ms/epoch - 5ms/step\n",
            "Epoch 418/1000\n",
            "18/18 - 0s - loss: 0.1778 - accuracy: 0.9366 - val_loss: 0.5530 - val_accuracy: 0.8710 - 95ms/epoch - 5ms/step\n",
            "Epoch 419/1000\n",
            "18/18 - 0s - loss: 0.1784 - accuracy: 0.9366 - val_loss: 0.5349 - val_accuracy: 0.8710 - 101ms/epoch - 6ms/step\n",
            "Epoch 420/1000\n",
            "18/18 - 0s - loss: 0.1778 - accuracy: 0.9366 - val_loss: 0.5360 - val_accuracy: 0.8710 - 78ms/epoch - 4ms/step\n",
            "Epoch 421/1000\n",
            "18/18 - 0s - loss: 0.1774 - accuracy: 0.9366 - val_loss: 0.4955 - val_accuracy: 0.8710 - 108ms/epoch - 6ms/step\n",
            "Epoch 422/1000\n",
            "18/18 - 0s - loss: 0.1800 - accuracy: 0.9348 - val_loss: 0.4969 - val_accuracy: 0.8871 - 80ms/epoch - 4ms/step\n",
            "Epoch 423/1000\n",
            "18/18 - 0s - loss: 0.1877 - accuracy: 0.9293 - val_loss: 0.5025 - val_accuracy: 0.8710 - 77ms/epoch - 4ms/step\n",
            "Epoch 424/1000\n",
            "18/18 - 0s - loss: 0.1871 - accuracy: 0.9348 - val_loss: 0.5194 - val_accuracy: 0.8710 - 73ms/epoch - 4ms/step\n",
            "Epoch 425/1000\n",
            "18/18 - 0s - loss: 0.1837 - accuracy: 0.9312 - val_loss: 0.6367 - val_accuracy: 0.8710 - 91ms/epoch - 5ms/step\n",
            "Epoch 426/1000\n",
            "18/18 - 0s - loss: 0.1813 - accuracy: 0.9366 - val_loss: 0.5013 - val_accuracy: 0.8710 - 107ms/epoch - 6ms/step\n",
            "Epoch 427/1000\n",
            "18/18 - 0s - loss: 0.1859 - accuracy: 0.9348 - val_loss: 0.6372 - val_accuracy: 0.8710 - 84ms/epoch - 5ms/step\n",
            "Epoch 428/1000\n",
            "18/18 - 0s - loss: 0.1923 - accuracy: 0.9312 - val_loss: 0.6250 - val_accuracy: 0.8710 - 94ms/epoch - 5ms/step\n",
            "Epoch 429/1000\n",
            "18/18 - 0s - loss: 0.1860 - accuracy: 0.9348 - val_loss: 0.4486 - val_accuracy: 0.8710 - 75ms/epoch - 4ms/step\n",
            "Epoch 430/1000\n",
            "18/18 - 0s - loss: 0.1819 - accuracy: 0.9348 - val_loss: 0.5531 - val_accuracy: 0.8710 - 87ms/epoch - 5ms/step\n",
            "Epoch 431/1000\n",
            "18/18 - 0s - loss: 0.1800 - accuracy: 0.9366 - val_loss: 0.4496 - val_accuracy: 0.8871 - 71ms/epoch - 4ms/step\n",
            "Epoch 432/1000\n",
            "18/18 - 0s - loss: 0.1788 - accuracy: 0.9366 - val_loss: 0.4601 - val_accuracy: 0.8871 - 78ms/epoch - 4ms/step\n",
            "Epoch 433/1000\n",
            "18/18 - 0s - loss: 0.1781 - accuracy: 0.9366 - val_loss: 0.4468 - val_accuracy: 0.8871 - 93ms/epoch - 5ms/step\n",
            "Epoch 434/1000\n",
            "18/18 - 0s - loss: 0.1784 - accuracy: 0.9366 - val_loss: 0.4638 - val_accuracy: 0.8871 - 77ms/epoch - 4ms/step\n",
            "Epoch 435/1000\n",
            "18/18 - 0s - loss: 0.1775 - accuracy: 0.9384 - val_loss: 0.4675 - val_accuracy: 0.8871 - 82ms/epoch - 5ms/step\n",
            "Epoch 436/1000\n",
            "18/18 - 0s - loss: 0.1786 - accuracy: 0.9348 - val_loss: 0.4463 - val_accuracy: 0.8710 - 96ms/epoch - 5ms/step\n",
            "Epoch 437/1000\n",
            "18/18 - 0s - loss: 0.1790 - accuracy: 0.9366 - val_loss: 0.4620 - val_accuracy: 0.8710 - 93ms/epoch - 5ms/step\n",
            "Epoch 438/1000\n",
            "18/18 - 0s - loss: 0.1779 - accuracy: 0.9366 - val_loss: 0.4210 - val_accuracy: 0.8710 - 79ms/epoch - 4ms/step\n",
            "Epoch 439/1000\n",
            "18/18 - 0s - loss: 0.1916 - accuracy: 0.9312 - val_loss: 0.4102 - val_accuracy: 0.8710 - 77ms/epoch - 4ms/step\n",
            "Epoch 440/1000\n",
            "18/18 - 0s - loss: 0.1818 - accuracy: 0.9348 - val_loss: 0.4506 - val_accuracy: 0.9032 - 92ms/epoch - 5ms/step\n",
            "Epoch 441/1000\n",
            "18/18 - 0s - loss: 0.1805 - accuracy: 0.9348 - val_loss: 0.4220 - val_accuracy: 0.9032 - 93ms/epoch - 5ms/step\n",
            "Epoch 442/1000\n",
            "18/18 - 0s - loss: 0.1781 - accuracy: 0.9348 - val_loss: 0.4040 - val_accuracy: 0.9194 - 96ms/epoch - 5ms/step\n",
            "Epoch 443/1000\n",
            "18/18 - 0s - loss: 0.1775 - accuracy: 0.9366 - val_loss: 0.4276 - val_accuracy: 0.8871 - 111ms/epoch - 6ms/step\n",
            "Epoch 444/1000\n",
            "18/18 - 0s - loss: 0.1774 - accuracy: 0.9366 - val_loss: 0.4107 - val_accuracy: 0.9032 - 74ms/epoch - 4ms/step\n",
            "Epoch 445/1000\n",
            "18/18 - 0s - loss: 0.1797 - accuracy: 0.9348 - val_loss: 0.4067 - val_accuracy: 0.8548 - 95ms/epoch - 5ms/step\n",
            "Epoch 446/1000\n",
            "18/18 - 0s - loss: 0.1777 - accuracy: 0.9366 - val_loss: 0.4407 - val_accuracy: 0.8548 - 74ms/epoch - 4ms/step\n",
            "Epoch 447/1000\n",
            "18/18 - 0s - loss: 0.1770 - accuracy: 0.9366 - val_loss: 0.4081 - val_accuracy: 0.8871 - 95ms/epoch - 5ms/step\n",
            "Epoch 448/1000\n",
            "18/18 - 0s - loss: 0.1762 - accuracy: 0.9384 - val_loss: 0.4572 - val_accuracy: 0.8548 - 79ms/epoch - 4ms/step\n",
            "Epoch 449/1000\n",
            "18/18 - 0s - loss: 0.1768 - accuracy: 0.9384 - val_loss: 0.4260 - val_accuracy: 0.8710 - 79ms/epoch - 4ms/step\n",
            "Epoch 450/1000\n",
            "18/18 - 0s - loss: 0.1765 - accuracy: 0.9384 - val_loss: 0.4524 - val_accuracy: 0.8710 - 102ms/epoch - 6ms/step\n",
            "Epoch 451/1000\n",
            "18/18 - 0s - loss: 0.1775 - accuracy: 0.9366 - val_loss: 0.4300 - val_accuracy: 0.8548 - 93ms/epoch - 5ms/step\n",
            "Epoch 452/1000\n",
            "18/18 - 0s - loss: 0.1779 - accuracy: 0.9348 - val_loss: 0.4369 - val_accuracy: 0.8548 - 106ms/epoch - 6ms/step\n",
            "Epoch 453/1000\n",
            "18/18 - 0s - loss: 0.1840 - accuracy: 0.9348 - val_loss: 0.3706 - val_accuracy: 0.8710 - 97ms/epoch - 5ms/step\n",
            "Epoch 454/1000\n",
            "18/18 - 0s - loss: 0.1871 - accuracy: 0.9330 - val_loss: 0.4108 - val_accuracy: 0.8710 - 118ms/epoch - 7ms/step\n",
            "Epoch 455/1000\n",
            "18/18 - 0s - loss: 0.1826 - accuracy: 0.9330 - val_loss: 0.5038 - val_accuracy: 0.9032 - 83ms/epoch - 5ms/step\n",
            "Epoch 456/1000\n",
            "18/18 - 0s - loss: 0.1877 - accuracy: 0.9293 - val_loss: 0.3215 - val_accuracy: 0.8548 - 99ms/epoch - 5ms/step\n",
            "Epoch 457/1000\n",
            "18/18 - 0s - loss: 0.1868 - accuracy: 0.9312 - val_loss: 0.2864 - val_accuracy: 0.9194 - 95ms/epoch - 5ms/step\n",
            "Epoch 458/1000\n",
            "18/18 - 0s - loss: 0.2249 - accuracy: 0.9094 - val_loss: 0.5613 - val_accuracy: 0.8548 - 98ms/epoch - 5ms/step\n",
            "Epoch 459/1000\n",
            "18/18 - 0s - loss: 0.2304 - accuracy: 0.9167 - val_loss: 0.3253 - val_accuracy: 0.8871 - 89ms/epoch - 5ms/step\n",
            "Epoch 460/1000\n",
            "18/18 - 0s - loss: 0.3187 - accuracy: 0.9040 - val_loss: 0.6660 - val_accuracy: 0.8387 - 77ms/epoch - 4ms/step\n",
            "Epoch 461/1000\n",
            "18/18 - 0s - loss: 0.2694 - accuracy: 0.9094 - val_loss: 0.6581 - val_accuracy: 0.8710 - 80ms/epoch - 4ms/step\n",
            "Epoch 462/1000\n",
            "18/18 - 0s - loss: 0.2665 - accuracy: 0.9112 - val_loss: 0.7634 - val_accuracy: 0.8548 - 95ms/epoch - 5ms/step\n",
            "Epoch 463/1000\n",
            "18/18 - 0s - loss: 0.2329 - accuracy: 0.9167 - val_loss: 0.6196 - val_accuracy: 0.8710 - 75ms/epoch - 4ms/step\n",
            "Epoch 464/1000\n",
            "18/18 - 0s - loss: 0.2371 - accuracy: 0.9185 - val_loss: 0.6788 - val_accuracy: 0.8871 - 80ms/epoch - 4ms/step\n",
            "Epoch 465/1000\n",
            "18/18 - 0s - loss: 0.2479 - accuracy: 0.9076 - val_loss: 0.7445 - val_accuracy: 0.8871 - 88ms/epoch - 5ms/step\n",
            "Epoch 466/1000\n",
            "18/18 - 0s - loss: 0.3066 - accuracy: 0.9058 - val_loss: 0.5969 - val_accuracy: 0.8710 - 77ms/epoch - 4ms/step\n",
            "Epoch 467/1000\n",
            "18/18 - 0s - loss: 0.2303 - accuracy: 0.9112 - val_loss: 0.4994 - val_accuracy: 0.8871 - 105ms/epoch - 6ms/step\n",
            "Epoch 468/1000\n",
            "18/18 - 0s - loss: 0.2335 - accuracy: 0.9203 - val_loss: 0.4644 - val_accuracy: 0.8710 - 101ms/epoch - 6ms/step\n",
            "Epoch 469/1000\n",
            "18/18 - 0s - loss: 0.2261 - accuracy: 0.9149 - val_loss: 0.4203 - val_accuracy: 0.8710 - 86ms/epoch - 5ms/step\n",
            "Epoch 470/1000\n",
            "18/18 - 0s - loss: 0.2521 - accuracy: 0.9185 - val_loss: 0.4132 - val_accuracy: 0.8710 - 95ms/epoch - 5ms/step\n",
            "Epoch 471/1000\n",
            "18/18 - 0s - loss: 0.2227 - accuracy: 0.9130 - val_loss: 0.3666 - val_accuracy: 0.8387 - 109ms/epoch - 6ms/step\n",
            "Epoch 472/1000\n",
            "18/18 - 0s - loss: 0.2133 - accuracy: 0.9149 - val_loss: 0.4674 - val_accuracy: 0.8710 - 80ms/epoch - 4ms/step\n",
            "Epoch 473/1000\n",
            "18/18 - 0s - loss: 0.2114 - accuracy: 0.9221 - val_loss: 0.4917 - val_accuracy: 0.8548 - 69ms/epoch - 4ms/step\n",
            "Epoch 474/1000\n",
            "18/18 - 0s - loss: 0.2071 - accuracy: 0.9221 - val_loss: 0.4960 - val_accuracy: 0.8710 - 74ms/epoch - 4ms/step\n",
            "Epoch 475/1000\n",
            "18/18 - 0s - loss: 0.2404 - accuracy: 0.9221 - val_loss: 0.5675 - val_accuracy: 0.8387 - 99ms/epoch - 5ms/step\n",
            "Epoch 476/1000\n",
            "18/18 - 0s - loss: 0.2027 - accuracy: 0.9239 - val_loss: 0.3243 - val_accuracy: 0.8710 - 93ms/epoch - 5ms/step\n",
            "Epoch 477/1000\n",
            "18/18 - 0s - loss: 0.2030 - accuracy: 0.9257 - val_loss: 0.3755 - val_accuracy: 0.8710 - 96ms/epoch - 5ms/step\n",
            "Epoch 478/1000\n",
            "18/18 - 0s - loss: 0.2028 - accuracy: 0.9275 - val_loss: 0.4389 - val_accuracy: 0.9032 - 96ms/epoch - 5ms/step\n",
            "Epoch 479/1000\n",
            "18/18 - 0s - loss: 0.1994 - accuracy: 0.9275 - val_loss: 0.4944 - val_accuracy: 0.8710 - 103ms/epoch - 6ms/step\n",
            "Epoch 480/1000\n",
            "18/18 - 0s - loss: 0.2009 - accuracy: 0.9275 - val_loss: 0.5388 - val_accuracy: 0.9032 - 99ms/epoch - 5ms/step\n",
            "Epoch 481/1000\n",
            "18/18 - 0s - loss: 0.1946 - accuracy: 0.9275 - val_loss: 0.4343 - val_accuracy: 0.8387 - 75ms/epoch - 4ms/step\n",
            "Epoch 482/1000\n",
            "18/18 - 0s - loss: 0.1992 - accuracy: 0.9275 - val_loss: 0.5091 - val_accuracy: 0.8548 - 72ms/epoch - 4ms/step\n",
            "Epoch 483/1000\n",
            "18/18 - 0s - loss: 0.1984 - accuracy: 0.9275 - val_loss: 0.4571 - val_accuracy: 0.8387 - 95ms/epoch - 5ms/step\n",
            "Epoch 484/1000\n",
            "18/18 - 0s - loss: 0.1950 - accuracy: 0.9275 - val_loss: 0.4997 - val_accuracy: 0.8710 - 83ms/epoch - 5ms/step\n",
            "Epoch 485/1000\n",
            "18/18 - 0s - loss: 0.1938 - accuracy: 0.9275 - val_loss: 0.4698 - val_accuracy: 0.8548 - 83ms/epoch - 5ms/step\n",
            "Epoch 486/1000\n",
            "18/18 - 0s - loss: 0.1944 - accuracy: 0.9312 - val_loss: 0.3919 - val_accuracy: 0.8710 - 110ms/epoch - 6ms/step\n",
            "Epoch 487/1000\n",
            "18/18 - 0s - loss: 0.1916 - accuracy: 0.9312 - val_loss: 0.4573 - val_accuracy: 0.8710 - 95ms/epoch - 5ms/step\n",
            "Epoch 488/1000\n",
            "18/18 - 0s - loss: 0.1911 - accuracy: 0.9312 - val_loss: 0.4430 - val_accuracy: 0.8710 - 105ms/epoch - 6ms/step\n",
            "Epoch 489/1000\n",
            "18/18 - 0s - loss: 0.1904 - accuracy: 0.9293 - val_loss: 0.5260 - val_accuracy: 0.8387 - 81ms/epoch - 5ms/step\n",
            "Epoch 490/1000\n",
            "18/18 - 0s - loss: 0.1920 - accuracy: 0.9293 - val_loss: 0.5537 - val_accuracy: 0.8710 - 79ms/epoch - 4ms/step\n",
            "Epoch 491/1000\n",
            "18/18 - 0s - loss: 0.1901 - accuracy: 0.9312 - val_loss: 0.5803 - val_accuracy: 0.8548 - 79ms/epoch - 4ms/step\n",
            "Epoch 492/1000\n",
            "18/18 - 0s - loss: 0.1896 - accuracy: 0.9293 - val_loss: 0.5235 - val_accuracy: 0.8548 - 107ms/epoch - 6ms/step\n",
            "Epoch 493/1000\n",
            "18/18 - 0s - loss: 0.1888 - accuracy: 0.9312 - val_loss: 0.5492 - val_accuracy: 0.8548 - 78ms/epoch - 4ms/step\n",
            "Epoch 494/1000\n",
            "18/18 - 0s - loss: 0.1903 - accuracy: 0.9293 - val_loss: 0.5777 - val_accuracy: 0.8548 - 93ms/epoch - 5ms/step\n",
            "Epoch 495/1000\n",
            "18/18 - 0s - loss: 0.1910 - accuracy: 0.9293 - val_loss: 0.5622 - val_accuracy: 0.8548 - 85ms/epoch - 5ms/step\n",
            "Epoch 496/1000\n",
            "18/18 - 0s - loss: 0.1914 - accuracy: 0.9293 - val_loss: 0.6278 - val_accuracy: 0.8548 - 93ms/epoch - 5ms/step\n",
            "Epoch 497/1000\n",
            "18/18 - 0s - loss: 0.1879 - accuracy: 0.9312 - val_loss: 0.6278 - val_accuracy: 0.8548 - 108ms/epoch - 6ms/step\n",
            "Epoch 498/1000\n",
            "18/18 - 0s - loss: 0.1884 - accuracy: 0.9312 - val_loss: 0.6000 - val_accuracy: 0.8548 - 106ms/epoch - 6ms/step\n",
            "Epoch 499/1000\n",
            "18/18 - 0s - loss: 0.1886 - accuracy: 0.9293 - val_loss: 0.6461 - val_accuracy: 0.8548 - 97ms/epoch - 5ms/step\n",
            "Epoch 500/1000\n",
            "18/18 - 0s - loss: 0.1907 - accuracy: 0.9293 - val_loss: 0.6173 - val_accuracy: 0.8548 - 74ms/epoch - 4ms/step\n",
            "Epoch 501/1000\n",
            "18/18 - 0s - loss: 0.1885 - accuracy: 0.9293 - val_loss: 0.6377 - val_accuracy: 0.8548 - 100ms/epoch - 6ms/step\n",
            "Epoch 502/1000\n",
            "18/18 - 0s - loss: 0.1877 - accuracy: 0.9293 - val_loss: 0.6396 - val_accuracy: 0.8548 - 76ms/epoch - 4ms/step\n",
            "Epoch 503/1000\n",
            "18/18 - 0s - loss: 0.1868 - accuracy: 0.9293 - val_loss: 0.5586 - val_accuracy: 0.8548 - 95ms/epoch - 5ms/step\n",
            "Epoch 504/1000\n",
            "18/18 - 0s - loss: 0.1935 - accuracy: 0.9275 - val_loss: 0.4353 - val_accuracy: 0.8548 - 96ms/epoch - 5ms/step\n",
            "Epoch 505/1000\n",
            "18/18 - 0s - loss: 0.1989 - accuracy: 0.9257 - val_loss: 0.4246 - val_accuracy: 0.8548 - 101ms/epoch - 6ms/step\n",
            "Epoch 506/1000\n",
            "18/18 - 0s - loss: 0.1917 - accuracy: 0.9312 - val_loss: 0.7069 - val_accuracy: 0.8710 - 83ms/epoch - 5ms/step\n",
            "Epoch 507/1000\n",
            "18/18 - 0s - loss: 0.1908 - accuracy: 0.9275 - val_loss: 0.6045 - val_accuracy: 0.8226 - 90ms/epoch - 5ms/step\n",
            "Epoch 508/1000\n",
            "18/18 - 0s - loss: 0.1910 - accuracy: 0.9293 - val_loss: 0.6259 - val_accuracy: 0.8710 - 85ms/epoch - 5ms/step\n",
            "Epoch 509/1000\n",
            "18/18 - 0s - loss: 0.1898 - accuracy: 0.9275 - val_loss: 0.6336 - val_accuracy: 0.8710 - 97ms/epoch - 5ms/step\n",
            "Epoch 510/1000\n",
            "18/18 - 0s - loss: 0.1950 - accuracy: 0.9275 - val_loss: 0.5092 - val_accuracy: 0.8548 - 102ms/epoch - 6ms/step\n",
            "Epoch 511/1000\n",
            "18/18 - 0s - loss: 0.1885 - accuracy: 0.9293 - val_loss: 0.6259 - val_accuracy: 0.8548 - 80ms/epoch - 4ms/step\n",
            "Epoch 512/1000\n",
            "18/18 - 0s - loss: 0.1918 - accuracy: 0.9293 - val_loss: 0.5574 - val_accuracy: 0.8548 - 96ms/epoch - 5ms/step\n",
            "Epoch 513/1000\n",
            "18/18 - 0s - loss: 0.1902 - accuracy: 0.9275 - val_loss: 0.6207 - val_accuracy: 0.8548 - 80ms/epoch - 4ms/step\n",
            "Epoch 514/1000\n",
            "18/18 - 0s - loss: 0.1882 - accuracy: 0.9293 - val_loss: 0.6673 - val_accuracy: 0.8548 - 76ms/epoch - 4ms/step\n",
            "Epoch 515/1000\n",
            "18/18 - 0s - loss: 0.1926 - accuracy: 0.9312 - val_loss: 0.7134 - val_accuracy: 0.8548 - 95ms/epoch - 5ms/step\n",
            "Epoch 516/1000\n",
            "18/18 - 0s - loss: 0.1895 - accuracy: 0.9312 - val_loss: 0.5934 - val_accuracy: 0.8548 - 98ms/epoch - 5ms/step\n",
            "Epoch 517/1000\n",
            "18/18 - 0s - loss: 0.1911 - accuracy: 0.9275 - val_loss: 0.5105 - val_accuracy: 0.8710 - 93ms/epoch - 5ms/step\n",
            "Epoch 518/1000\n",
            "18/18 - 0s - loss: 0.1859 - accuracy: 0.9312 - val_loss: 0.6323 - val_accuracy: 0.8387 - 82ms/epoch - 5ms/step\n",
            "Epoch 519/1000\n",
            "18/18 - 0s - loss: 0.1879 - accuracy: 0.9293 - val_loss: 0.6550 - val_accuracy: 0.8548 - 96ms/epoch - 5ms/step\n",
            "Epoch 520/1000\n",
            "18/18 - 0s - loss: 0.1867 - accuracy: 0.9293 - val_loss: 0.6946 - val_accuracy: 0.8548 - 96ms/epoch - 5ms/step\n",
            "Epoch 521/1000\n",
            "18/18 - 0s - loss: 0.1878 - accuracy: 0.9293 - val_loss: 0.6958 - val_accuracy: 0.8548 - 76ms/epoch - 4ms/step\n",
            "Epoch 522/1000\n",
            "18/18 - 0s - loss: 0.1864 - accuracy: 0.9293 - val_loss: 0.6918 - val_accuracy: 0.8548 - 94ms/epoch - 5ms/step\n",
            "Epoch 523/1000\n",
            "18/18 - 0s - loss: 0.1855 - accuracy: 0.9293 - val_loss: 0.7135 - val_accuracy: 0.8548 - 74ms/epoch - 4ms/step\n",
            "Epoch 524/1000\n",
            "18/18 - 0s - loss: 0.1861 - accuracy: 0.9293 - val_loss: 0.7526 - val_accuracy: 0.8548 - 74ms/epoch - 4ms/step\n",
            "Epoch 525/1000\n",
            "18/18 - 0s - loss: 0.1857 - accuracy: 0.9293 - val_loss: 0.7343 - val_accuracy: 0.8548 - 76ms/epoch - 4ms/step\n",
            "Epoch 526/1000\n",
            "18/18 - 0s - loss: 0.1878 - accuracy: 0.9275 - val_loss: 0.6452 - val_accuracy: 0.8548 - 105ms/epoch - 6ms/step\n",
            "Epoch 527/1000\n",
            "18/18 - 0s - loss: 0.1865 - accuracy: 0.9312 - val_loss: 0.6333 - val_accuracy: 0.8548 - 137ms/epoch - 8ms/step\n",
            "Epoch 528/1000\n",
            "18/18 - 0s - loss: 0.1859 - accuracy: 0.9293 - val_loss: 0.6520 - val_accuracy: 0.8548 - 107ms/epoch - 6ms/step\n",
            "Epoch 529/1000\n",
            "18/18 - 0s - loss: 0.1868 - accuracy: 0.9312 - val_loss: 0.6727 - val_accuracy: 0.8548 - 73ms/epoch - 4ms/step\n",
            "Epoch 530/1000\n",
            "18/18 - 0s - loss: 0.1862 - accuracy: 0.9293 - val_loss: 0.7000 - val_accuracy: 0.8548 - 80ms/epoch - 4ms/step\n",
            "Epoch 531/1000\n",
            "18/18 - 0s - loss: 0.1861 - accuracy: 0.9275 - val_loss: 0.6906 - val_accuracy: 0.8387 - 83ms/epoch - 5ms/step\n",
            "Epoch 532/1000\n",
            "18/18 - 0s - loss: 0.1920 - accuracy: 0.9312 - val_loss: 0.6876 - val_accuracy: 0.8226 - 95ms/epoch - 5ms/step\n",
            "Epoch 533/1000\n",
            "18/18 - 0s - loss: 0.1925 - accuracy: 0.9275 - val_loss: 0.6609 - val_accuracy: 0.8548 - 104ms/epoch - 6ms/step\n",
            "Epoch 534/1000\n",
            "18/18 - 0s - loss: 0.1855 - accuracy: 0.9293 - val_loss: 0.7108 - val_accuracy: 0.8387 - 91ms/epoch - 5ms/step\n",
            "Epoch 535/1000\n",
            "18/18 - 0s - loss: 0.1868 - accuracy: 0.9275 - val_loss: 0.7156 - val_accuracy: 0.8226 - 104ms/epoch - 6ms/step\n",
            "Epoch 536/1000\n",
            "18/18 - 0s - loss: 0.1868 - accuracy: 0.9293 - val_loss: 0.6940 - val_accuracy: 0.8226 - 93ms/epoch - 5ms/step\n",
            "Epoch 537/1000\n",
            "18/18 - 0s - loss: 0.1914 - accuracy: 0.9239 - val_loss: 0.6320 - val_accuracy: 0.9032 - 113ms/epoch - 6ms/step\n",
            "Epoch 538/1000\n",
            "18/18 - 0s - loss: 0.2255 - accuracy: 0.9149 - val_loss: 0.7844 - val_accuracy: 0.8065 - 85ms/epoch - 5ms/step\n",
            "Epoch 539/1000\n",
            "18/18 - 0s - loss: 0.2303 - accuracy: 0.9221 - val_loss: 0.9456 - val_accuracy: 0.8710 - 89ms/epoch - 5ms/step\n",
            "Epoch 540/1000\n",
            "18/18 - 0s - loss: 0.2272 - accuracy: 0.9130 - val_loss: 0.6587 - val_accuracy: 0.8387 - 86ms/epoch - 5ms/step\n",
            "Epoch 541/1000\n",
            "18/18 - 0s - loss: 0.2035 - accuracy: 0.9239 - val_loss: 0.6426 - val_accuracy: 0.8548 - 73ms/epoch - 4ms/step\n",
            "Epoch 542/1000\n",
            "18/18 - 0s - loss: 0.1952 - accuracy: 0.9293 - val_loss: 0.7185 - val_accuracy: 0.8387 - 98ms/epoch - 5ms/step\n",
            "Epoch 543/1000\n",
            "18/18 - 0s - loss: 0.1976 - accuracy: 0.9275 - val_loss: 0.7127 - val_accuracy: 0.8387 - 105ms/epoch - 6ms/step\n",
            "Epoch 544/1000\n",
            "18/18 - 0s - loss: 0.1832 - accuracy: 0.9330 - val_loss: 0.7382 - val_accuracy: 0.8548 - 81ms/epoch - 4ms/step\n",
            "Epoch 545/1000\n",
            "18/18 - 0s - loss: 0.1831 - accuracy: 0.9312 - val_loss: 0.6598 - val_accuracy: 0.8548 - 77ms/epoch - 4ms/step\n",
            "Epoch 546/1000\n",
            "18/18 - 0s - loss: 0.1797 - accuracy: 0.9348 - val_loss: 0.7412 - val_accuracy: 0.8548 - 97ms/epoch - 5ms/step\n",
            "Epoch 547/1000\n",
            "18/18 - 0s - loss: 0.1821 - accuracy: 0.9330 - val_loss: 0.6617 - val_accuracy: 0.8871 - 74ms/epoch - 4ms/step\n",
            "Epoch 548/1000\n",
            "18/18 - 0s - loss: 0.1933 - accuracy: 0.9312 - val_loss: 0.7143 - val_accuracy: 0.8710 - 101ms/epoch - 6ms/step\n",
            "Epoch 549/1000\n",
            "18/18 - 0s - loss: 0.1845 - accuracy: 0.9293 - val_loss: 0.7359 - val_accuracy: 0.8710 - 75ms/epoch - 4ms/step\n",
            "Epoch 550/1000\n",
            "18/18 - 0s - loss: 0.1810 - accuracy: 0.9330 - val_loss: 0.6527 - val_accuracy: 0.8871 - 75ms/epoch - 4ms/step\n",
            "Epoch 551/1000\n",
            "18/18 - 0s - loss: 0.1810 - accuracy: 0.9312 - val_loss: 0.6339 - val_accuracy: 0.8871 - 74ms/epoch - 4ms/step\n",
            "Epoch 552/1000\n",
            "18/18 - 0s - loss: 0.1788 - accuracy: 0.9348 - val_loss: 0.5934 - val_accuracy: 0.8710 - 70ms/epoch - 4ms/step\n",
            "Epoch 553/1000\n",
            "18/18 - 0s - loss: 0.1779 - accuracy: 0.9348 - val_loss: 0.6955 - val_accuracy: 0.8710 - 74ms/epoch - 4ms/step\n",
            "Epoch 554/1000\n",
            "18/18 - 0s - loss: 0.1849 - accuracy: 0.9348 - val_loss: 0.6271 - val_accuracy: 0.8871 - 94ms/epoch - 5ms/step\n",
            "Epoch 555/1000\n",
            "18/18 - 0s - loss: 0.1780 - accuracy: 0.9384 - val_loss: 0.7223 - val_accuracy: 0.8871 - 116ms/epoch - 6ms/step\n",
            "Epoch 556/1000\n",
            "18/18 - 0s - loss: 0.1814 - accuracy: 0.9366 - val_loss: 0.7215 - val_accuracy: 0.8065 - 89ms/epoch - 5ms/step\n",
            "Epoch 557/1000\n",
            "18/18 - 0s - loss: 0.1849 - accuracy: 0.9330 - val_loss: 0.6836 - val_accuracy: 0.8710 - 97ms/epoch - 5ms/step\n",
            "Epoch 558/1000\n",
            "18/18 - 0s - loss: 0.1784 - accuracy: 0.9348 - val_loss: 0.6948 - val_accuracy: 0.8871 - 103ms/epoch - 6ms/step\n",
            "Epoch 559/1000\n",
            "18/18 - 0s - loss: 0.1775 - accuracy: 0.9330 - val_loss: 0.6995 - val_accuracy: 0.8871 - 87ms/epoch - 5ms/step\n",
            "Epoch 560/1000\n",
            "18/18 - 0s - loss: 0.1779 - accuracy: 0.9348 - val_loss: 0.7047 - val_accuracy: 0.8710 - 88ms/epoch - 5ms/step\n",
            "Epoch 561/1000\n",
            "18/18 - 0s - loss: 0.1759 - accuracy: 0.9366 - val_loss: 0.7616 - val_accuracy: 0.8871 - 89ms/epoch - 5ms/step\n",
            "Epoch 562/1000\n",
            "18/18 - 0s - loss: 0.1749 - accuracy: 0.9384 - val_loss: 0.7371 - val_accuracy: 0.8871 - 84ms/epoch - 5ms/step\n",
            "Epoch 563/1000\n",
            "18/18 - 0s - loss: 0.1777 - accuracy: 0.9348 - val_loss: 0.7484 - val_accuracy: 0.8710 - 94ms/epoch - 5ms/step\n",
            "Epoch 564/1000\n",
            "18/18 - 0s - loss: 0.1760 - accuracy: 0.9384 - val_loss: 0.7447 - val_accuracy: 0.8710 - 78ms/epoch - 4ms/step\n",
            "Epoch 565/1000\n",
            "18/18 - 0s - loss: 0.1755 - accuracy: 0.9366 - val_loss: 0.6600 - val_accuracy: 0.8871 - 92ms/epoch - 5ms/step\n",
            "Epoch 566/1000\n",
            "18/18 - 0s - loss: 0.1755 - accuracy: 0.9384 - val_loss: 0.7416 - val_accuracy: 0.8871 - 104ms/epoch - 6ms/step\n",
            "Epoch 567/1000\n",
            "18/18 - 0s - loss: 0.1762 - accuracy: 0.9366 - val_loss: 0.6192 - val_accuracy: 0.8710 - 107ms/epoch - 6ms/step\n",
            "Epoch 568/1000\n",
            "18/18 - 0s - loss: 0.1764 - accuracy: 0.9384 - val_loss: 0.7499 - val_accuracy: 0.8871 - 86ms/epoch - 5ms/step\n",
            "Epoch 569/1000\n",
            "18/18 - 0s - loss: 0.1762 - accuracy: 0.9348 - val_loss: 0.6129 - val_accuracy: 0.8871 - 106ms/epoch - 6ms/step\n",
            "Epoch 570/1000\n",
            "18/18 - 0s - loss: 0.1781 - accuracy: 0.9366 - val_loss: 0.5615 - val_accuracy: 0.8871 - 99ms/epoch - 5ms/step\n",
            "Epoch 571/1000\n",
            "18/18 - 0s - loss: 0.1813 - accuracy: 0.9348 - val_loss: 0.6792 - val_accuracy: 0.8387 - 93ms/epoch - 5ms/step\n",
            "Epoch 572/1000\n",
            "18/18 - 0s - loss: 0.1842 - accuracy: 0.9348 - val_loss: 0.4588 - val_accuracy: 0.8710 - 77ms/epoch - 4ms/step\n",
            "Epoch 573/1000\n",
            "18/18 - 0s - loss: 0.1960 - accuracy: 0.9275 - val_loss: 0.7180 - val_accuracy: 0.8871 - 98ms/epoch - 5ms/step\n",
            "Epoch 574/1000\n",
            "18/18 - 0s - loss: 0.2026 - accuracy: 0.9257 - val_loss: 0.4535 - val_accuracy: 0.8387 - 86ms/epoch - 5ms/step\n",
            "Epoch 575/1000\n",
            "18/18 - 0s - loss: 0.2308 - accuracy: 0.9130 - val_loss: 0.5692 - val_accuracy: 0.9032 - 83ms/epoch - 5ms/step\n",
            "Epoch 576/1000\n",
            "18/18 - 0s - loss: 0.1926 - accuracy: 0.9275 - val_loss: 0.4374 - val_accuracy: 0.8387 - 83ms/epoch - 5ms/step\n",
            "Epoch 577/1000\n",
            "18/18 - 0s - loss: 0.2191 - accuracy: 0.9203 - val_loss: 0.7002 - val_accuracy: 0.8387 - 114ms/epoch - 6ms/step\n",
            "Epoch 578/1000\n",
            "18/18 - 0s - loss: 0.3785 - accuracy: 0.8913 - val_loss: 0.2910 - val_accuracy: 0.8710 - 100ms/epoch - 6ms/step\n",
            "Epoch 579/1000\n",
            "18/18 - 0s - loss: 0.2723 - accuracy: 0.8986 - val_loss: 0.4807 - val_accuracy: 0.8871 - 110ms/epoch - 6ms/step\n",
            "Epoch 580/1000\n",
            "18/18 - 0s - loss: 0.2649 - accuracy: 0.9076 - val_loss: 0.5560 - val_accuracy: 0.8710 - 91ms/epoch - 5ms/step\n",
            "Epoch 581/1000\n",
            "18/18 - 0s - loss: 0.2194 - accuracy: 0.9130 - val_loss: 0.7438 - val_accuracy: 0.8871 - 93ms/epoch - 5ms/step\n",
            "Epoch 582/1000\n",
            "18/18 - 0s - loss: 0.2233 - accuracy: 0.9167 - val_loss: 0.5124 - val_accuracy: 0.8871 - 92ms/epoch - 5ms/step\n",
            "Epoch 583/1000\n",
            "18/18 - 0s - loss: 0.2076 - accuracy: 0.9203 - val_loss: 0.5760 - val_accuracy: 0.8871 - 93ms/epoch - 5ms/step\n",
            "Epoch 584/1000\n",
            "18/18 - 0s - loss: 0.1975 - accuracy: 0.9257 - val_loss: 0.5709 - val_accuracy: 0.8871 - 98ms/epoch - 5ms/step\n",
            "Epoch 585/1000\n",
            "18/18 - 0s - loss: 0.2011 - accuracy: 0.9275 - val_loss: 0.5773 - val_accuracy: 0.8710 - 81ms/epoch - 5ms/step\n",
            "Epoch 586/1000\n",
            "18/18 - 0s - loss: 0.1921 - accuracy: 0.9293 - val_loss: 0.5644 - val_accuracy: 0.8710 - 99ms/epoch - 5ms/step\n",
            "Epoch 587/1000\n",
            "18/18 - 0s - loss: 0.1921 - accuracy: 0.9275 - val_loss: 0.5783 - val_accuracy: 0.8710 - 81ms/epoch - 4ms/step\n",
            "Epoch 588/1000\n",
            "18/18 - 0s - loss: 0.1935 - accuracy: 0.9257 - val_loss: 0.5874 - val_accuracy: 0.8710 - 109ms/epoch - 6ms/step\n",
            "Epoch 589/1000\n",
            "18/18 - 0s - loss: 0.1930 - accuracy: 0.9293 - val_loss: 0.6491 - val_accuracy: 0.8710 - 103ms/epoch - 6ms/step\n",
            "Epoch 590/1000\n",
            "18/18 - 0s - loss: 0.1987 - accuracy: 0.9239 - val_loss: 0.5215 - val_accuracy: 0.8871 - 100ms/epoch - 6ms/step\n",
            "Epoch 591/1000\n",
            "18/18 - 0s - loss: 0.2002 - accuracy: 0.9239 - val_loss: 0.5109 - val_accuracy: 0.8871 - 75ms/epoch - 4ms/step\n",
            "Epoch 592/1000\n",
            "18/18 - 0s - loss: 0.1940 - accuracy: 0.9257 - val_loss: 0.6095 - val_accuracy: 0.9032 - 91ms/epoch - 5ms/step\n",
            "Epoch 593/1000\n",
            "18/18 - 0s - loss: 0.1980 - accuracy: 0.9293 - val_loss: 0.5571 - val_accuracy: 0.9032 - 95ms/epoch - 5ms/step\n",
            "Epoch 594/1000\n",
            "18/18 - 0s - loss: 0.1903 - accuracy: 0.9293 - val_loss: 0.5364 - val_accuracy: 0.9032 - 73ms/epoch - 4ms/step\n",
            "Epoch 595/1000\n",
            "18/18 - 0s - loss: 0.1903 - accuracy: 0.9275 - val_loss: 0.5517 - val_accuracy: 0.8871 - 92ms/epoch - 5ms/step\n",
            "Epoch 596/1000\n",
            "18/18 - 0s - loss: 0.1885 - accuracy: 0.9293 - val_loss: 0.4929 - val_accuracy: 0.9194 - 99ms/epoch - 5ms/step\n",
            "Epoch 597/1000\n",
            "18/18 - 0s - loss: 0.1909 - accuracy: 0.9275 - val_loss: 0.5040 - val_accuracy: 0.9032 - 81ms/epoch - 4ms/step\n",
            "Epoch 598/1000\n",
            "18/18 - 0s - loss: 0.1878 - accuracy: 0.9293 - val_loss: 0.4266 - val_accuracy: 0.9194 - 81ms/epoch - 4ms/step\n",
            "Epoch 599/1000\n",
            "18/18 - 0s - loss: 0.2448 - accuracy: 0.9203 - val_loss: 0.3718 - val_accuracy: 0.8710 - 75ms/epoch - 4ms/step\n",
            "Epoch 600/1000\n",
            "18/18 - 0s - loss: 0.2392 - accuracy: 0.8986 - val_loss: 0.3086 - val_accuracy: 0.9032 - 85ms/epoch - 5ms/step\n",
            "Epoch 601/1000\n",
            "18/18 - 0s - loss: 0.2091 - accuracy: 0.9185 - val_loss: 0.3878 - val_accuracy: 0.9194 - 93ms/epoch - 5ms/step\n",
            "Epoch 602/1000\n",
            "18/18 - 0s - loss: 0.1993 - accuracy: 0.9221 - val_loss: 0.3573 - val_accuracy: 0.9194 - 95ms/epoch - 5ms/step\n",
            "Epoch 603/1000\n",
            "18/18 - 0s - loss: 0.2044 - accuracy: 0.9257 - val_loss: 0.3161 - val_accuracy: 0.9355 - 97ms/epoch - 5ms/step\n",
            "Epoch 604/1000\n",
            "18/18 - 0s - loss: 0.1991 - accuracy: 0.9239 - val_loss: 0.3774 - val_accuracy: 0.9194 - 82ms/epoch - 5ms/step\n",
            "Epoch 605/1000\n",
            "18/18 - 0s - loss: 0.1856 - accuracy: 0.9312 - val_loss: 0.5397 - val_accuracy: 0.8871 - 106ms/epoch - 6ms/step\n",
            "Epoch 606/1000\n",
            "18/18 - 0s - loss: 0.1853 - accuracy: 0.9293 - val_loss: 0.3710 - val_accuracy: 0.9194 - 97ms/epoch - 5ms/step\n",
            "Epoch 607/1000\n",
            "18/18 - 0s - loss: 0.1852 - accuracy: 0.9330 - val_loss: 0.4090 - val_accuracy: 0.9194 - 104ms/epoch - 6ms/step\n",
            "Epoch 608/1000\n",
            "18/18 - 0s - loss: 0.2028 - accuracy: 0.9257 - val_loss: 0.3983 - val_accuracy: 0.9355 - 75ms/epoch - 4ms/step\n",
            "Epoch 609/1000\n",
            "18/18 - 0s - loss: 0.1923 - accuracy: 0.9312 - val_loss: 0.4706 - val_accuracy: 0.8710 - 108ms/epoch - 6ms/step\n",
            "Epoch 610/1000\n",
            "18/18 - 0s - loss: 0.1890 - accuracy: 0.9312 - val_loss: 0.4872 - val_accuracy: 0.8710 - 103ms/epoch - 6ms/step\n",
            "Epoch 611/1000\n",
            "18/18 - 0s - loss: 0.1807 - accuracy: 0.9330 - val_loss: 0.4756 - val_accuracy: 0.8871 - 96ms/epoch - 5ms/step\n",
            "Epoch 612/1000\n",
            "18/18 - 0s - loss: 0.1880 - accuracy: 0.9293 - val_loss: 0.4167 - val_accuracy: 0.9194 - 88ms/epoch - 5ms/step\n",
            "Epoch 613/1000\n",
            "18/18 - 0s - loss: 0.1858 - accuracy: 0.9330 - val_loss: 0.4281 - val_accuracy: 0.8871 - 81ms/epoch - 5ms/step\n",
            "Epoch 614/1000\n",
            "18/18 - 0s - loss: 0.1856 - accuracy: 0.9312 - val_loss: 0.4717 - val_accuracy: 0.9194 - 97ms/epoch - 5ms/step\n",
            "Epoch 615/1000\n",
            "18/18 - 0s - loss: 0.1805 - accuracy: 0.9348 - val_loss: 0.4474 - val_accuracy: 0.8871 - 78ms/epoch - 4ms/step\n",
            "Epoch 616/1000\n",
            "18/18 - 0s - loss: 0.1832 - accuracy: 0.9312 - val_loss: 0.4302 - val_accuracy: 0.9032 - 99ms/epoch - 6ms/step\n",
            "Epoch 617/1000\n",
            "18/18 - 0s - loss: 0.2151 - accuracy: 0.9312 - val_loss: 0.5102 - val_accuracy: 0.8710 - 86ms/epoch - 5ms/step\n",
            "Epoch 618/1000\n",
            "18/18 - 0s - loss: 0.1847 - accuracy: 0.9348 - val_loss: 0.4691 - val_accuracy: 0.8871 - 80ms/epoch - 4ms/step\n",
            "Epoch 619/1000\n",
            "18/18 - 0s - loss: 0.1858 - accuracy: 0.9312 - val_loss: 0.5693 - val_accuracy: 0.8548 - 99ms/epoch - 5ms/step\n",
            "Epoch 620/1000\n",
            "18/18 - 0s - loss: 0.2209 - accuracy: 0.9130 - val_loss: 0.4184 - val_accuracy: 0.8710 - 94ms/epoch - 5ms/step\n",
            "Epoch 621/1000\n",
            "18/18 - 0s - loss: 0.2171 - accuracy: 0.9130 - val_loss: 0.5629 - val_accuracy: 0.8387 - 105ms/epoch - 6ms/step\n",
            "Epoch 622/1000\n",
            "18/18 - 0s - loss: 0.2022 - accuracy: 0.9203 - val_loss: 0.6411 - val_accuracy: 0.9032 - 88ms/epoch - 5ms/step\n",
            "Epoch 623/1000\n",
            "18/18 - 0s - loss: 0.1966 - accuracy: 0.9330 - val_loss: 0.6568 - val_accuracy: 0.9032 - 101ms/epoch - 6ms/step\n",
            "Epoch 624/1000\n",
            "18/18 - 0s - loss: 0.1919 - accuracy: 0.9293 - val_loss: 0.5936 - val_accuracy: 0.8710 - 67ms/epoch - 4ms/step\n",
            "Epoch 625/1000\n",
            "18/18 - 0s - loss: 0.1903 - accuracy: 0.9312 - val_loss: 0.7332 - val_accuracy: 0.8871 - 92ms/epoch - 5ms/step\n",
            "Epoch 626/1000\n",
            "18/18 - 0s - loss: 0.1812 - accuracy: 0.9330 - val_loss: 0.6951 - val_accuracy: 0.8871 - 101ms/epoch - 6ms/step\n",
            "Epoch 627/1000\n",
            "18/18 - 0s - loss: 0.1808 - accuracy: 0.9348 - val_loss: 0.7076 - val_accuracy: 0.8871 - 89ms/epoch - 5ms/step\n",
            "Epoch 628/1000\n",
            "18/18 - 0s - loss: 0.1804 - accuracy: 0.9348 - val_loss: 0.7212 - val_accuracy: 0.8871 - 83ms/epoch - 5ms/step\n",
            "Epoch 629/1000\n",
            "18/18 - 0s - loss: 0.1806 - accuracy: 0.9348 - val_loss: 0.7015 - val_accuracy: 0.8871 - 81ms/epoch - 4ms/step\n",
            "Epoch 630/1000\n",
            "18/18 - 0s - loss: 0.1795 - accuracy: 0.9348 - val_loss: 0.6934 - val_accuracy: 0.9032 - 98ms/epoch - 5ms/step\n",
            "Epoch 631/1000\n",
            "18/18 - 0s - loss: 0.1796 - accuracy: 0.9348 - val_loss: 0.7179 - val_accuracy: 0.8871 - 95ms/epoch - 5ms/step\n",
            "Epoch 632/1000\n",
            "18/18 - 0s - loss: 0.1804 - accuracy: 0.9348 - val_loss: 0.7077 - val_accuracy: 0.8871 - 78ms/epoch - 4ms/step\n",
            "Epoch 633/1000\n",
            "18/18 - 0s - loss: 0.1796 - accuracy: 0.9348 - val_loss: 0.7029 - val_accuracy: 0.8871 - 102ms/epoch - 6ms/step\n",
            "Epoch 634/1000\n",
            "18/18 - 0s - loss: 0.1791 - accuracy: 0.9348 - val_loss: 0.7196 - val_accuracy: 0.8710 - 93ms/epoch - 5ms/step\n",
            "Epoch 635/1000\n",
            "18/18 - 0s - loss: 0.1801 - accuracy: 0.9330 - val_loss: 0.6887 - val_accuracy: 0.9032 - 95ms/epoch - 5ms/step\n",
            "Epoch 636/1000\n",
            "18/18 - 0s - loss: 0.1796 - accuracy: 0.9366 - val_loss: 0.6960 - val_accuracy: 0.9032 - 104ms/epoch - 6ms/step\n",
            "Epoch 637/1000\n",
            "18/18 - 0s - loss: 0.1799 - accuracy: 0.9348 - val_loss: 0.6912 - val_accuracy: 0.8871 - 107ms/epoch - 6ms/step\n",
            "Epoch 638/1000\n",
            "18/18 - 0s - loss: 0.1795 - accuracy: 0.9348 - val_loss: 0.6930 - val_accuracy: 0.8871 - 75ms/epoch - 4ms/step\n",
            "Epoch 639/1000\n",
            "18/18 - 0s - loss: 0.1791 - accuracy: 0.9348 - val_loss: 0.7069 - val_accuracy: 0.8871 - 83ms/epoch - 5ms/step\n",
            "Epoch 640/1000\n",
            "18/18 - 0s - loss: 0.1816 - accuracy: 0.9330 - val_loss: 0.6860 - val_accuracy: 0.9032 - 97ms/epoch - 5ms/step\n",
            "Epoch 641/1000\n",
            "18/18 - 0s - loss: 0.1789 - accuracy: 0.9348 - val_loss: 0.6828 - val_accuracy: 0.8871 - 105ms/epoch - 6ms/step\n",
            "Epoch 642/1000\n",
            "18/18 - 0s - loss: 0.1792 - accuracy: 0.9348 - val_loss: 0.6984 - val_accuracy: 0.9032 - 94ms/epoch - 5ms/step\n",
            "Epoch 643/1000\n",
            "18/18 - 0s - loss: 0.1813 - accuracy: 0.9348 - val_loss: 0.7102 - val_accuracy: 0.9032 - 83ms/epoch - 5ms/step\n",
            "Epoch 644/1000\n",
            "18/18 - 0s - loss: 0.1818 - accuracy: 0.9330 - val_loss: 0.6911 - val_accuracy: 0.9032 - 78ms/epoch - 4ms/step\n",
            "Epoch 645/1000\n",
            "18/18 - 0s - loss: 0.1774 - accuracy: 0.9366 - val_loss: 0.7222 - val_accuracy: 0.9032 - 85ms/epoch - 5ms/step\n",
            "Epoch 646/1000\n",
            "18/18 - 0s - loss: 0.1807 - accuracy: 0.9330 - val_loss: 0.7087 - val_accuracy: 0.9032 - 81ms/epoch - 5ms/step\n",
            "Epoch 647/1000\n",
            "18/18 - 0s - loss: 0.1785 - accuracy: 0.9366 - val_loss: 0.7053 - val_accuracy: 0.9032 - 95ms/epoch - 5ms/step\n",
            "Epoch 648/1000\n",
            "18/18 - 0s - loss: 0.1791 - accuracy: 0.9348 - val_loss: 0.7007 - val_accuracy: 0.9032 - 107ms/epoch - 6ms/step\n",
            "Epoch 649/1000\n",
            "18/18 - 0s - loss: 0.1801 - accuracy: 0.9348 - val_loss: 0.6848 - val_accuracy: 0.9032 - 74ms/epoch - 4ms/step\n",
            "Epoch 650/1000\n",
            "18/18 - 0s - loss: 0.1793 - accuracy: 0.9348 - val_loss: 0.6869 - val_accuracy: 0.9032 - 75ms/epoch - 4ms/step\n",
            "Epoch 651/1000\n",
            "18/18 - 0s - loss: 0.1780 - accuracy: 0.9366 - val_loss: 0.7035 - val_accuracy: 0.9032 - 92ms/epoch - 5ms/step\n",
            "Epoch 652/1000\n",
            "18/18 - 0s - loss: 0.1781 - accuracy: 0.9348 - val_loss: 0.6752 - val_accuracy: 0.9032 - 83ms/epoch - 5ms/step\n",
            "Epoch 653/1000\n",
            "18/18 - 0s - loss: 0.1783 - accuracy: 0.9348 - val_loss: 0.6450 - val_accuracy: 0.9032 - 80ms/epoch - 4ms/step\n",
            "Epoch 654/1000\n",
            "18/18 - 0s - loss: 0.1786 - accuracy: 0.9366 - val_loss: 0.6631 - val_accuracy: 0.9032 - 96ms/epoch - 5ms/step\n",
            "Epoch 655/1000\n",
            "18/18 - 0s - loss: 0.1788 - accuracy: 0.9348 - val_loss: 0.6669 - val_accuracy: 0.9032 - 85ms/epoch - 5ms/step\n",
            "Epoch 656/1000\n",
            "18/18 - 0s - loss: 0.1783 - accuracy: 0.9366 - val_loss: 0.6527 - val_accuracy: 0.9032 - 90ms/epoch - 5ms/step\n",
            "Epoch 657/1000\n",
            "18/18 - 0s - loss: 0.1780 - accuracy: 0.9366 - val_loss: 0.6550 - val_accuracy: 0.9032 - 79ms/epoch - 4ms/step\n",
            "Epoch 658/1000\n",
            "18/18 - 0s - loss: 0.1787 - accuracy: 0.9348 - val_loss: 0.6773 - val_accuracy: 0.9032 - 78ms/epoch - 4ms/step\n",
            "Epoch 659/1000\n",
            "18/18 - 0s - loss: 0.1791 - accuracy: 0.9348 - val_loss: 0.6810 - val_accuracy: 0.9032 - 94ms/epoch - 5ms/step\n",
            "Epoch 660/1000\n",
            "18/18 - 0s - loss: 0.1787 - accuracy: 0.9348 - val_loss: 0.7144 - val_accuracy: 0.8871 - 96ms/epoch - 5ms/step\n",
            "Epoch 661/1000\n",
            "18/18 - 0s - loss: 0.1787 - accuracy: 0.9366 - val_loss: 0.6981 - val_accuracy: 0.9032 - 97ms/epoch - 5ms/step\n",
            "Epoch 662/1000\n",
            "18/18 - 0s - loss: 0.1785 - accuracy: 0.9348 - val_loss: 0.7060 - val_accuracy: 0.9032 - 73ms/epoch - 4ms/step\n",
            "Epoch 663/1000\n",
            "18/18 - 0s - loss: 0.1781 - accuracy: 0.9366 - val_loss: 0.7004 - val_accuracy: 0.9032 - 114ms/epoch - 6ms/step\n",
            "Epoch 664/1000\n",
            "18/18 - 0s - loss: 0.1787 - accuracy: 0.9348 - val_loss: 0.6776 - val_accuracy: 0.9032 - 88ms/epoch - 5ms/step\n",
            "Epoch 665/1000\n",
            "18/18 - 0s - loss: 0.1782 - accuracy: 0.9366 - val_loss: 0.6833 - val_accuracy: 0.9032 - 72ms/epoch - 4ms/step\n",
            "Epoch 666/1000\n",
            "18/18 - 0s - loss: 0.1782 - accuracy: 0.9348 - val_loss: 0.6907 - val_accuracy: 0.9032 - 76ms/epoch - 4ms/step\n",
            "Epoch 667/1000\n",
            "18/18 - 0s - loss: 0.1776 - accuracy: 0.9366 - val_loss: 0.6863 - val_accuracy: 0.9032 - 73ms/epoch - 4ms/step\n",
            "Epoch 668/1000\n",
            "18/18 - 0s - loss: 0.1776 - accuracy: 0.9366 - val_loss: 0.6869 - val_accuracy: 0.9032 - 90ms/epoch - 5ms/step\n",
            "Epoch 669/1000\n",
            "18/18 - 0s - loss: 0.1780 - accuracy: 0.9348 - val_loss: 0.6695 - val_accuracy: 0.9032 - 79ms/epoch - 4ms/step\n",
            "Epoch 670/1000\n",
            "18/18 - 0s - loss: 0.1778 - accuracy: 0.9366 - val_loss: 0.6636 - val_accuracy: 0.9032 - 69ms/epoch - 4ms/step\n",
            "Epoch 671/1000\n",
            "18/18 - 0s - loss: 0.1774 - accuracy: 0.9366 - val_loss: 0.6735 - val_accuracy: 0.9032 - 70ms/epoch - 4ms/step\n",
            "Epoch 672/1000\n",
            "18/18 - 0s - loss: 0.1777 - accuracy: 0.9366 - val_loss: 0.6422 - val_accuracy: 0.9032 - 96ms/epoch - 5ms/step\n",
            "Epoch 673/1000\n",
            "18/18 - 0s - loss: 0.1778 - accuracy: 0.9366 - val_loss: 0.6464 - val_accuracy: 0.9194 - 86ms/epoch - 5ms/step\n",
            "Epoch 674/1000\n",
            "18/18 - 0s - loss: 0.1777 - accuracy: 0.9366 - val_loss: 0.6585 - val_accuracy: 0.9194 - 93ms/epoch - 5ms/step\n",
            "Epoch 675/1000\n",
            "18/18 - 0s - loss: 0.1772 - accuracy: 0.9366 - val_loss: 0.6689 - val_accuracy: 0.9194 - 80ms/epoch - 4ms/step\n",
            "Epoch 676/1000\n",
            "18/18 - 0s - loss: 0.1776 - accuracy: 0.9366 - val_loss: 0.6524 - val_accuracy: 0.9194 - 85ms/epoch - 5ms/step\n",
            "Epoch 677/1000\n",
            "18/18 - 0s - loss: 0.1782 - accuracy: 0.9348 - val_loss: 0.6495 - val_accuracy: 0.9194 - 85ms/epoch - 5ms/step\n",
            "Epoch 678/1000\n",
            "18/18 - 0s - loss: 0.1776 - accuracy: 0.9366 - val_loss: 0.6589 - val_accuracy: 0.9194 - 99ms/epoch - 6ms/step\n",
            "Epoch 679/1000\n",
            "18/18 - 0s - loss: 0.1779 - accuracy: 0.9348 - val_loss: 0.6804 - val_accuracy: 0.9194 - 108ms/epoch - 6ms/step\n",
            "Epoch 680/1000\n",
            "18/18 - 0s - loss: 0.1869 - accuracy: 0.9312 - val_loss: 0.5228 - val_accuracy: 0.9194 - 111ms/epoch - 6ms/step\n",
            "Epoch 681/1000\n",
            "18/18 - 0s - loss: 0.1855 - accuracy: 0.9312 - val_loss: 0.6273 - val_accuracy: 0.9194 - 81ms/epoch - 4ms/step\n",
            "Epoch 682/1000\n",
            "18/18 - 0s - loss: 0.1807 - accuracy: 0.9348 - val_loss: 0.6046 - val_accuracy: 0.9032 - 105ms/epoch - 6ms/step\n",
            "Epoch 683/1000\n",
            "18/18 - 0s - loss: 0.1796 - accuracy: 0.9348 - val_loss: 0.6030 - val_accuracy: 0.9194 - 106ms/epoch - 6ms/step\n",
            "Epoch 684/1000\n",
            "18/18 - 0s - loss: 0.1803 - accuracy: 0.9348 - val_loss: 0.7465 - val_accuracy: 0.8871 - 116ms/epoch - 6ms/step\n",
            "Epoch 685/1000\n",
            "18/18 - 0s - loss: 0.1783 - accuracy: 0.9366 - val_loss: 0.6665 - val_accuracy: 0.9194 - 83ms/epoch - 5ms/step\n",
            "Epoch 686/1000\n",
            "18/18 - 0s - loss: 0.1791 - accuracy: 0.9330 - val_loss: 0.6550 - val_accuracy: 0.9032 - 104ms/epoch - 6ms/step\n",
            "Epoch 687/1000\n",
            "18/18 - 0s - loss: 0.1789 - accuracy: 0.9348 - val_loss: 0.6803 - val_accuracy: 0.9194 - 105ms/epoch - 6ms/step\n",
            "Epoch 688/1000\n",
            "18/18 - 0s - loss: 0.1780 - accuracy: 0.9348 - val_loss: 0.6698 - val_accuracy: 0.9194 - 81ms/epoch - 5ms/step\n",
            "Epoch 689/1000\n",
            "18/18 - 0s - loss: 0.1775 - accuracy: 0.9366 - val_loss: 0.6500 - val_accuracy: 0.9194 - 104ms/epoch - 6ms/step\n",
            "Epoch 690/1000\n",
            "18/18 - 0s - loss: 0.1775 - accuracy: 0.9366 - val_loss: 0.6535 - val_accuracy: 0.9194 - 104ms/epoch - 6ms/step\n",
            "Epoch 691/1000\n",
            "18/18 - 0s - loss: 0.1772 - accuracy: 0.9366 - val_loss: 0.6456 - val_accuracy: 0.9194 - 89ms/epoch - 5ms/step\n",
            "Epoch 692/1000\n",
            "18/18 - 0s - loss: 0.1773 - accuracy: 0.9348 - val_loss: 0.6644 - val_accuracy: 0.9194 - 83ms/epoch - 5ms/step\n",
            "Epoch 693/1000\n",
            "18/18 - 0s - loss: 0.1766 - accuracy: 0.9366 - val_loss: 0.6612 - val_accuracy: 0.9194 - 77ms/epoch - 4ms/step\n",
            "Epoch 694/1000\n",
            "18/18 - 0s - loss: 0.1774 - accuracy: 0.9366 - val_loss: 0.6699 - val_accuracy: 0.9194 - 94ms/epoch - 5ms/step\n",
            "Epoch 695/1000\n",
            "18/18 - 0s - loss: 0.1775 - accuracy: 0.9348 - val_loss: 0.6524 - val_accuracy: 0.9194 - 103ms/epoch - 6ms/step\n",
            "Epoch 696/1000\n",
            "18/18 - 0s - loss: 0.1764 - accuracy: 0.9366 - val_loss: 0.6390 - val_accuracy: 0.9194 - 97ms/epoch - 5ms/step\n",
            "Epoch 697/1000\n",
            "18/18 - 0s - loss: 0.1787 - accuracy: 0.9348 - val_loss: 0.6224 - val_accuracy: 0.9194 - 75ms/epoch - 4ms/step\n",
            "Epoch 698/1000\n",
            "18/18 - 0s - loss: 0.1767 - accuracy: 0.9366 - val_loss: 0.6341 - val_accuracy: 0.9194 - 101ms/epoch - 6ms/step\n",
            "Epoch 699/1000\n",
            "18/18 - 0s - loss: 0.1771 - accuracy: 0.9366 - val_loss: 0.6496 - val_accuracy: 0.9194 - 86ms/epoch - 5ms/step\n",
            "Epoch 700/1000\n",
            "18/18 - 0s - loss: 0.1771 - accuracy: 0.9348 - val_loss: 0.6532 - val_accuracy: 0.9194 - 89ms/epoch - 5ms/step\n",
            "Epoch 701/1000\n",
            "18/18 - 0s - loss: 0.1764 - accuracy: 0.9366 - val_loss: 0.6441 - val_accuracy: 0.9194 - 81ms/epoch - 5ms/step\n",
            "Epoch 702/1000\n",
            "18/18 - 0s - loss: 0.1770 - accuracy: 0.9366 - val_loss: 0.6522 - val_accuracy: 0.9194 - 92ms/epoch - 5ms/step\n",
            "Epoch 703/1000\n",
            "18/18 - 0s - loss: 0.1770 - accuracy: 0.9366 - val_loss: 0.7031 - val_accuracy: 0.9032 - 78ms/epoch - 4ms/step\n",
            "Epoch 704/1000\n",
            "18/18 - 0s - loss: 0.1815 - accuracy: 0.9330 - val_loss: 0.6341 - val_accuracy: 0.9194 - 100ms/epoch - 6ms/step\n",
            "Epoch 705/1000\n",
            "18/18 - 0s - loss: 0.1843 - accuracy: 0.9348 - val_loss: 0.6962 - val_accuracy: 0.8871 - 79ms/epoch - 4ms/step\n",
            "Epoch 706/1000\n",
            "18/18 - 0s - loss: 0.1785 - accuracy: 0.9366 - val_loss: 0.6142 - val_accuracy: 0.9194 - 95ms/epoch - 5ms/step\n",
            "Epoch 707/1000\n",
            "18/18 - 0s - loss: 0.1812 - accuracy: 0.9330 - val_loss: 0.6654 - val_accuracy: 0.9032 - 77ms/epoch - 4ms/step\n",
            "Epoch 708/1000\n",
            "18/18 - 0s - loss: 0.1788 - accuracy: 0.9330 - val_loss: 0.6589 - val_accuracy: 0.9032 - 73ms/epoch - 4ms/step\n",
            "Epoch 709/1000\n",
            "18/18 - 0s - loss: 0.1774 - accuracy: 0.9366 - val_loss: 0.6737 - val_accuracy: 0.9032 - 88ms/epoch - 5ms/step\n",
            "Epoch 710/1000\n",
            "18/18 - 0s - loss: 0.1767 - accuracy: 0.9366 - val_loss: 0.6774 - val_accuracy: 0.9032 - 95ms/epoch - 5ms/step\n",
            "Epoch 711/1000\n",
            "18/18 - 0s - loss: 0.1769 - accuracy: 0.9366 - val_loss: 0.6379 - val_accuracy: 0.9032 - 77ms/epoch - 4ms/step\n",
            "Epoch 712/1000\n",
            "18/18 - 0s - loss: 0.1767 - accuracy: 0.9366 - val_loss: 0.6441 - val_accuracy: 0.9032 - 92ms/epoch - 5ms/step\n",
            "Epoch 713/1000\n",
            "18/18 - 0s - loss: 0.1766 - accuracy: 0.9366 - val_loss: 0.6682 - val_accuracy: 0.9194 - 101ms/epoch - 6ms/step\n",
            "Epoch 714/1000\n",
            "18/18 - 0s - loss: 0.1770 - accuracy: 0.9366 - val_loss: 0.6013 - val_accuracy: 0.9032 - 78ms/epoch - 4ms/step\n",
            "Epoch 715/1000\n",
            "18/18 - 0s - loss: 0.1775 - accuracy: 0.9366 - val_loss: 0.6585 - val_accuracy: 0.9032 - 77ms/epoch - 4ms/step\n",
            "Epoch 716/1000\n",
            "18/18 - 0s - loss: 0.1775 - accuracy: 0.9366 - val_loss: 0.6454 - val_accuracy: 0.9194 - 103ms/epoch - 6ms/step\n",
            "Epoch 717/1000\n",
            "18/18 - 0s - loss: 0.1770 - accuracy: 0.9366 - val_loss: 0.6569 - val_accuracy: 0.9194 - 99ms/epoch - 6ms/step\n",
            "Epoch 718/1000\n",
            "18/18 - 0s - loss: 0.1767 - accuracy: 0.9366 - val_loss: 0.6555 - val_accuracy: 0.9194 - 113ms/epoch - 6ms/step\n",
            "Epoch 719/1000\n",
            "18/18 - 0s - loss: 0.1779 - accuracy: 0.9348 - val_loss: 0.6767 - val_accuracy: 0.9194 - 104ms/epoch - 6ms/step\n",
            "Epoch 720/1000\n",
            "18/18 - 0s - loss: 0.1766 - accuracy: 0.9366 - val_loss: 0.6734 - val_accuracy: 0.9032 - 81ms/epoch - 4ms/step\n",
            "Epoch 721/1000\n",
            "18/18 - 0s - loss: 0.1766 - accuracy: 0.9366 - val_loss: 0.6636 - val_accuracy: 0.9032 - 94ms/epoch - 5ms/step\n",
            "Epoch 722/1000\n",
            "18/18 - 0s - loss: 0.1763 - accuracy: 0.9366 - val_loss: 0.6320 - val_accuracy: 0.9032 - 103ms/epoch - 6ms/step\n",
            "Epoch 723/1000\n",
            "18/18 - 0s - loss: 0.1769 - accuracy: 0.9366 - val_loss: 0.6404 - val_accuracy: 0.9032 - 84ms/epoch - 5ms/step\n",
            "Epoch 724/1000\n",
            "18/18 - 0s - loss: 0.1764 - accuracy: 0.9366 - val_loss: 0.6396 - val_accuracy: 0.9032 - 101ms/epoch - 6ms/step\n",
            "Epoch 725/1000\n",
            "18/18 - 0s - loss: 0.1762 - accuracy: 0.9366 - val_loss: 0.6502 - val_accuracy: 0.9032 - 75ms/epoch - 4ms/step\n",
            "Epoch 726/1000\n",
            "18/18 - 0s - loss: 0.1763 - accuracy: 0.9366 - val_loss: 0.6502 - val_accuracy: 0.9032 - 99ms/epoch - 6ms/step\n",
            "Epoch 727/1000\n",
            "18/18 - 0s - loss: 0.1765 - accuracy: 0.9366 - val_loss: 0.6617 - val_accuracy: 0.9194 - 81ms/epoch - 4ms/step\n",
            "Epoch 728/1000\n",
            "18/18 - 0s - loss: 0.1762 - accuracy: 0.9366 - val_loss: 0.5967 - val_accuracy: 0.9032 - 98ms/epoch - 5ms/step\n",
            "Epoch 729/1000\n",
            "18/18 - 0s - loss: 0.1767 - accuracy: 0.9366 - val_loss: 0.5955 - val_accuracy: 0.9032 - 104ms/epoch - 6ms/step\n",
            "Epoch 730/1000\n",
            "18/18 - 0s - loss: 0.1765 - accuracy: 0.9366 - val_loss: 0.5947 - val_accuracy: 0.9032 - 110ms/epoch - 6ms/step\n",
            "Epoch 731/1000\n",
            "18/18 - 0s - loss: 0.1783 - accuracy: 0.9348 - val_loss: 0.6067 - val_accuracy: 0.9194 - 109ms/epoch - 6ms/step\n",
            "Epoch 732/1000\n",
            "18/18 - 0s - loss: 0.1765 - accuracy: 0.9366 - val_loss: 0.6143 - val_accuracy: 0.9194 - 92ms/epoch - 5ms/step\n",
            "Epoch 733/1000\n",
            "18/18 - 0s - loss: 0.1765 - accuracy: 0.9366 - val_loss: 0.6152 - val_accuracy: 0.9194 - 76ms/epoch - 4ms/step\n",
            "Epoch 734/1000\n",
            "18/18 - 0s - loss: 0.1763 - accuracy: 0.9366 - val_loss: 0.6223 - val_accuracy: 0.9194 - 71ms/epoch - 4ms/step\n",
            "Epoch 735/1000\n",
            "18/18 - 0s - loss: 0.1762 - accuracy: 0.9366 - val_loss: 0.5680 - val_accuracy: 0.9032 - 93ms/epoch - 5ms/step\n",
            "Epoch 736/1000\n",
            "18/18 - 0s - loss: 0.1769 - accuracy: 0.9366 - val_loss: 0.5727 - val_accuracy: 0.9032 - 73ms/epoch - 4ms/step\n",
            "Epoch 737/1000\n",
            "18/18 - 0s - loss: 0.1768 - accuracy: 0.9366 - val_loss: 0.5964 - val_accuracy: 0.9032 - 78ms/epoch - 4ms/step\n",
            "Epoch 738/1000\n",
            "18/18 - 0s - loss: 0.1763 - accuracy: 0.9366 - val_loss: 0.5974 - val_accuracy: 0.9194 - 74ms/epoch - 4ms/step\n",
            "Epoch 739/1000\n",
            "18/18 - 0s - loss: 0.1762 - accuracy: 0.9366 - val_loss: 0.6265 - val_accuracy: 0.9194 - 76ms/epoch - 4ms/step\n",
            "Epoch 740/1000\n",
            "18/18 - 0s - loss: 0.1767 - accuracy: 0.9366 - val_loss: 0.6249 - val_accuracy: 0.9194 - 103ms/epoch - 6ms/step\n",
            "Epoch 741/1000\n",
            "18/18 - 0s - loss: 0.1766 - accuracy: 0.9366 - val_loss: 0.6205 - val_accuracy: 0.9032 - 94ms/epoch - 5ms/step\n",
            "Epoch 742/1000\n",
            "18/18 - 0s - loss: 0.1778 - accuracy: 0.9366 - val_loss: 0.6354 - val_accuracy: 0.9194 - 75ms/epoch - 4ms/step\n",
            "Epoch 743/1000\n",
            "18/18 - 0s - loss: 0.1769 - accuracy: 0.9348 - val_loss: 0.6339 - val_accuracy: 0.9194 - 93ms/epoch - 5ms/step\n",
            "Epoch 744/1000\n",
            "18/18 - 0s - loss: 0.1766 - accuracy: 0.9366 - val_loss: 0.6021 - val_accuracy: 0.9194 - 79ms/epoch - 4ms/step\n",
            "Epoch 745/1000\n",
            "18/18 - 0s - loss: 0.1760 - accuracy: 0.9366 - val_loss: 0.5807 - val_accuracy: 0.9032 - 94ms/epoch - 5ms/step\n",
            "Epoch 746/1000\n",
            "18/18 - 0s - loss: 0.1827 - accuracy: 0.9330 - val_loss: 0.5889 - val_accuracy: 0.9194 - 100ms/epoch - 6ms/step\n",
            "Epoch 747/1000\n",
            "18/18 - 0s - loss: 0.1783 - accuracy: 0.9348 - val_loss: 0.6332 - val_accuracy: 0.9194 - 97ms/epoch - 5ms/step\n",
            "Epoch 748/1000\n",
            "18/18 - 0s - loss: 0.1761 - accuracy: 0.9366 - val_loss: 0.6617 - val_accuracy: 0.9194 - 99ms/epoch - 5ms/step\n",
            "Epoch 749/1000\n",
            "18/18 - 0s - loss: 0.1781 - accuracy: 0.9348 - val_loss: 0.6666 - val_accuracy: 0.9194 - 98ms/epoch - 5ms/step\n",
            "Epoch 750/1000\n",
            "18/18 - 0s - loss: 0.1767 - accuracy: 0.9366 - val_loss: 0.6314 - val_accuracy: 0.9032 - 100ms/epoch - 6ms/step\n",
            "Epoch 751/1000\n",
            "18/18 - 0s - loss: 0.1762 - accuracy: 0.9366 - val_loss: 0.6449 - val_accuracy: 0.9194 - 96ms/epoch - 5ms/step\n",
            "Epoch 752/1000\n",
            "18/18 - 0s - loss: 0.1763 - accuracy: 0.9366 - val_loss: 0.5749 - val_accuracy: 0.9194 - 90ms/epoch - 5ms/step\n",
            "Epoch 753/1000\n",
            "18/18 - 0s - loss: 0.1761 - accuracy: 0.9366 - val_loss: 0.5542 - val_accuracy: 0.9032 - 101ms/epoch - 6ms/step\n",
            "Epoch 754/1000\n",
            "18/18 - 0s - loss: 0.1760 - accuracy: 0.9366 - val_loss: 0.5416 - val_accuracy: 0.9194 - 119ms/epoch - 7ms/step\n",
            "Epoch 755/1000\n",
            "18/18 - 0s - loss: 0.1762 - accuracy: 0.9366 - val_loss: 0.6077 - val_accuracy: 0.9194 - 89ms/epoch - 5ms/step\n",
            "Epoch 756/1000\n",
            "18/18 - 0s - loss: 0.1770 - accuracy: 0.9366 - val_loss: 0.5150 - val_accuracy: 0.9032 - 98ms/epoch - 5ms/step\n",
            "Epoch 757/1000\n",
            "18/18 - 0s - loss: 0.1763 - accuracy: 0.9366 - val_loss: 0.5582 - val_accuracy: 0.9194 - 122ms/epoch - 7ms/step\n",
            "Epoch 758/1000\n",
            "18/18 - 0s - loss: 0.1757 - accuracy: 0.9366 - val_loss: 0.5672 - val_accuracy: 0.9194 - 103ms/epoch - 6ms/step\n",
            "Epoch 759/1000\n",
            "18/18 - 0s - loss: 0.1757 - accuracy: 0.9366 - val_loss: 0.5679 - val_accuracy: 0.9194 - 110ms/epoch - 6ms/step\n",
            "Epoch 760/1000\n",
            "18/18 - 0s - loss: 0.1756 - accuracy: 0.9366 - val_loss: 0.5853 - val_accuracy: 0.9194 - 104ms/epoch - 6ms/step\n",
            "Epoch 761/1000\n",
            "18/18 - 0s - loss: 0.1756 - accuracy: 0.9366 - val_loss: 0.6008 - val_accuracy: 0.9194 - 82ms/epoch - 5ms/step\n",
            "Epoch 762/1000\n",
            "18/18 - 0s - loss: 0.1757 - accuracy: 0.9366 - val_loss: 0.5855 - val_accuracy: 0.9194 - 91ms/epoch - 5ms/step\n",
            "Epoch 763/1000\n",
            "18/18 - 0s - loss: 0.1759 - accuracy: 0.9366 - val_loss: 0.5788 - val_accuracy: 0.9032 - 89ms/epoch - 5ms/step\n",
            "Epoch 764/1000\n",
            "18/18 - 0s - loss: 0.1760 - accuracy: 0.9366 - val_loss: 0.5832 - val_accuracy: 0.9032 - 80ms/epoch - 4ms/step\n",
            "Epoch 765/1000\n",
            "18/18 - 0s - loss: 0.1756 - accuracy: 0.9366 - val_loss: 0.5734 - val_accuracy: 0.9194 - 72ms/epoch - 4ms/step\n",
            "Epoch 766/1000\n",
            "18/18 - 0s - loss: 0.1759 - accuracy: 0.9366 - val_loss: 0.5667 - val_accuracy: 0.9194 - 78ms/epoch - 4ms/step\n",
            "Epoch 767/1000\n",
            "18/18 - 0s - loss: 0.1756 - accuracy: 0.9366 - val_loss: 0.5933 - val_accuracy: 0.9194 - 85ms/epoch - 5ms/step\n",
            "Epoch 768/1000\n",
            "18/18 - 0s - loss: 0.1757 - accuracy: 0.9366 - val_loss: 0.6101 - val_accuracy: 0.9194 - 93ms/epoch - 5ms/step\n",
            "Epoch 769/1000\n",
            "18/18 - 0s - loss: 0.1756 - accuracy: 0.9366 - val_loss: 0.5820 - val_accuracy: 0.9194 - 85ms/epoch - 5ms/step\n",
            "Epoch 770/1000\n",
            "18/18 - 0s - loss: 0.1757 - accuracy: 0.9366 - val_loss: 0.6624 - val_accuracy: 0.9032 - 94ms/epoch - 5ms/step\n",
            "Epoch 771/1000\n",
            "18/18 - 0s - loss: 0.1762 - accuracy: 0.9366 - val_loss: 0.5969 - val_accuracy: 0.9194 - 78ms/epoch - 4ms/step\n",
            "Epoch 772/1000\n",
            "18/18 - 0s - loss: 0.1949 - accuracy: 0.9312 - val_loss: 0.7302 - val_accuracy: 0.9032 - 96ms/epoch - 5ms/step\n",
            "Epoch 773/1000\n",
            "18/18 - 0s - loss: 0.1839 - accuracy: 0.9330 - val_loss: 0.6009 - val_accuracy: 0.8871 - 89ms/epoch - 5ms/step\n",
            "Epoch 774/1000\n",
            "18/18 - 0s - loss: 0.1811 - accuracy: 0.9330 - val_loss: 0.5624 - val_accuracy: 0.9032 - 74ms/epoch - 4ms/step\n",
            "Epoch 775/1000\n",
            "18/18 - 0s - loss: 0.2077 - accuracy: 0.9293 - val_loss: 0.8600 - val_accuracy: 0.9032 - 75ms/epoch - 4ms/step\n",
            "Epoch 776/1000\n",
            "18/18 - 0s - loss: 0.2684 - accuracy: 0.9058 - val_loss: 0.3482 - val_accuracy: 0.8710 - 74ms/epoch - 4ms/step\n",
            "Epoch 777/1000\n",
            "18/18 - 0s - loss: 0.3720 - accuracy: 0.8659 - val_loss: 0.4794 - val_accuracy: 0.8387 - 111ms/epoch - 6ms/step\n",
            "Epoch 778/1000\n",
            "18/18 - 0s - loss: 0.3093 - accuracy: 0.9040 - val_loss: 0.4214 - val_accuracy: 0.8710 - 88ms/epoch - 5ms/step\n",
            "Epoch 779/1000\n",
            "18/18 - 0s - loss: 0.2516 - accuracy: 0.9058 - val_loss: 0.2491 - val_accuracy: 0.8710 - 75ms/epoch - 4ms/step\n",
            "Epoch 780/1000\n",
            "18/18 - 0s - loss: 0.2682 - accuracy: 0.8931 - val_loss: 0.4103 - val_accuracy: 0.8548 - 92ms/epoch - 5ms/step\n",
            "Epoch 781/1000\n",
            "18/18 - 0s - loss: 0.2491 - accuracy: 0.8931 - val_loss: 0.3966 - val_accuracy: 0.8548 - 100ms/epoch - 6ms/step\n",
            "Epoch 782/1000\n",
            "18/18 - 0s - loss: 0.2444 - accuracy: 0.9058 - val_loss: 0.3676 - val_accuracy: 0.8548 - 103ms/epoch - 6ms/step\n",
            "Epoch 783/1000\n",
            "18/18 - 0s - loss: 0.2238 - accuracy: 0.9112 - val_loss: 0.2911 - val_accuracy: 0.9194 - 82ms/epoch - 5ms/step\n",
            "Epoch 784/1000\n",
            "18/18 - 0s - loss: 0.2530 - accuracy: 0.9112 - val_loss: 0.3233 - val_accuracy: 0.9194 - 92ms/epoch - 5ms/step\n",
            "Epoch 785/1000\n",
            "18/18 - 0s - loss: 0.2293 - accuracy: 0.9112 - val_loss: 0.3086 - val_accuracy: 0.9032 - 79ms/epoch - 4ms/step\n",
            "Epoch 786/1000\n",
            "18/18 - 0s - loss: 0.2181 - accuracy: 0.9130 - val_loss: 0.4164 - val_accuracy: 0.8710 - 78ms/epoch - 4ms/step\n",
            "Epoch 787/1000\n",
            "18/18 - 0s - loss: 0.2153 - accuracy: 0.9185 - val_loss: 0.3956 - val_accuracy: 0.8710 - 91ms/epoch - 5ms/step\n",
            "Epoch 788/1000\n",
            "18/18 - 0s - loss: 0.2395 - accuracy: 0.9004 - val_loss: 0.3827 - val_accuracy: 0.8710 - 95ms/epoch - 5ms/step\n",
            "Epoch 789/1000\n",
            "18/18 - 0s - loss: 0.2295 - accuracy: 0.9058 - val_loss: 0.3571 - val_accuracy: 0.8710 - 103ms/epoch - 6ms/step\n",
            "Epoch 790/1000\n",
            "18/18 - 0s - loss: 0.2067 - accuracy: 0.9185 - val_loss: 0.3558 - val_accuracy: 0.8548 - 85ms/epoch - 5ms/step\n",
            "Epoch 791/1000\n",
            "18/18 - 0s - loss: 0.2062 - accuracy: 0.9203 - val_loss: 0.3556 - val_accuracy: 0.8871 - 101ms/epoch - 6ms/step\n",
            "Epoch 792/1000\n",
            "18/18 - 0s - loss: 0.2030 - accuracy: 0.9203 - val_loss: 0.3720 - val_accuracy: 0.8548 - 82ms/epoch - 5ms/step\n",
            "Epoch 793/1000\n",
            "18/18 - 0s - loss: 0.2013 - accuracy: 0.9221 - val_loss: 0.3501 - val_accuracy: 0.8710 - 77ms/epoch - 4ms/step\n",
            "Epoch 794/1000\n",
            "18/18 - 0s - loss: 0.2014 - accuracy: 0.9221 - val_loss: 0.3450 - val_accuracy: 0.8871 - 111ms/epoch - 6ms/step\n",
            "Epoch 795/1000\n",
            "18/18 - 0s - loss: 0.2015 - accuracy: 0.9239 - val_loss: 0.3491 - val_accuracy: 0.8710 - 102ms/epoch - 6ms/step\n",
            "Epoch 796/1000\n",
            "18/18 - 0s - loss: 0.2034 - accuracy: 0.9221 - val_loss: 0.3482 - val_accuracy: 0.8710 - 80ms/epoch - 4ms/step\n",
            "Epoch 797/1000\n",
            "18/18 - 0s - loss: 0.2013 - accuracy: 0.9221 - val_loss: 0.3514 - val_accuracy: 0.8710 - 97ms/epoch - 5ms/step\n",
            "Epoch 798/1000\n",
            "18/18 - 0s - loss: 0.1996 - accuracy: 0.9239 - val_loss: 0.3832 - val_accuracy: 0.8710 - 98ms/epoch - 5ms/step\n",
            "Epoch 799/1000\n",
            "18/18 - 0s - loss: 0.2001 - accuracy: 0.9239 - val_loss: 0.3665 - val_accuracy: 0.8710 - 123ms/epoch - 7ms/step\n",
            "Epoch 800/1000\n",
            "18/18 - 0s - loss: 0.2003 - accuracy: 0.9221 - val_loss: 0.3861 - val_accuracy: 0.8710 - 91ms/epoch - 5ms/step\n",
            "Epoch 801/1000\n",
            "18/18 - 0s - loss: 0.1992 - accuracy: 0.9239 - val_loss: 0.4087 - val_accuracy: 0.8710 - 107ms/epoch - 6ms/step\n",
            "Epoch 802/1000\n",
            "18/18 - 0s - loss: 0.1991 - accuracy: 0.9239 - val_loss: 0.5108 - val_accuracy: 0.8710 - 90ms/epoch - 5ms/step\n",
            "Epoch 803/1000\n",
            "18/18 - 0s - loss: 0.2178 - accuracy: 0.9185 - val_loss: 0.3394 - val_accuracy: 0.9032 - 97ms/epoch - 5ms/step\n",
            "Epoch 804/1000\n",
            "18/18 - 0s - loss: 0.2080 - accuracy: 0.9203 - val_loss: 0.8594 - val_accuracy: 0.8710 - 94ms/epoch - 5ms/step\n",
            "Epoch 805/1000\n",
            "18/18 - 0s - loss: 0.2025 - accuracy: 0.9221 - val_loss: 0.6567 - val_accuracy: 0.8548 - 80ms/epoch - 4ms/step\n",
            "Epoch 806/1000\n",
            "18/18 - 0s - loss: 0.2105 - accuracy: 0.9167 - val_loss: 0.6043 - val_accuracy: 0.8710 - 80ms/epoch - 4ms/step\n",
            "Epoch 807/1000\n",
            "18/18 - 0s - loss: 0.1903 - accuracy: 0.9275 - val_loss: 0.6705 - val_accuracy: 0.8548 - 99ms/epoch - 6ms/step\n",
            "Epoch 808/1000\n",
            "18/18 - 0s - loss: 0.1883 - accuracy: 0.9312 - val_loss: 0.6395 - val_accuracy: 0.8548 - 95ms/epoch - 5ms/step\n",
            "Epoch 809/1000\n",
            "18/18 - 0s - loss: 0.1874 - accuracy: 0.9312 - val_loss: 0.6804 - val_accuracy: 0.8548 - 89ms/epoch - 5ms/step\n",
            "Epoch 810/1000\n",
            "18/18 - 0s - loss: 0.1874 - accuracy: 0.9312 - val_loss: 0.6287 - val_accuracy: 0.8548 - 98ms/epoch - 5ms/step\n",
            "Epoch 811/1000\n",
            "18/18 - 0s - loss: 0.1882 - accuracy: 0.9293 - val_loss: 0.6326 - val_accuracy: 0.8710 - 87ms/epoch - 5ms/step\n",
            "Epoch 812/1000\n",
            "18/18 - 0s - loss: 0.1871 - accuracy: 0.9312 - val_loss: 0.6723 - val_accuracy: 0.8710 - 93ms/epoch - 5ms/step\n",
            "Epoch 813/1000\n",
            "18/18 - 0s - loss: 0.1868 - accuracy: 0.9312 - val_loss: 0.6434 - val_accuracy: 0.8710 - 94ms/epoch - 5ms/step\n",
            "Epoch 814/1000\n",
            "18/18 - 0s - loss: 0.1865 - accuracy: 0.9312 - val_loss: 0.6472 - val_accuracy: 0.8710 - 95ms/epoch - 5ms/step\n",
            "Epoch 815/1000\n",
            "18/18 - 0s - loss: 0.1863 - accuracy: 0.9312 - val_loss: 0.6652 - val_accuracy: 0.8710 - 81ms/epoch - 4ms/step\n",
            "Epoch 816/1000\n",
            "18/18 - 0s - loss: 0.1865 - accuracy: 0.9312 - val_loss: 0.6722 - val_accuracy: 0.8710 - 83ms/epoch - 5ms/step\n",
            "Epoch 817/1000\n",
            "18/18 - 0s - loss: 0.1864 - accuracy: 0.9312 - val_loss: 0.6932 - val_accuracy: 0.8710 - 98ms/epoch - 5ms/step\n",
            "Epoch 818/1000\n",
            "18/18 - 0s - loss: 0.1863 - accuracy: 0.9312 - val_loss: 0.7177 - val_accuracy: 0.8710 - 104ms/epoch - 6ms/step\n",
            "Epoch 819/1000\n",
            "18/18 - 0s - loss: 0.1877 - accuracy: 0.9293 - val_loss: 0.7058 - val_accuracy: 0.8710 - 96ms/epoch - 5ms/step\n",
            "Epoch 820/1000\n",
            "18/18 - 0s - loss: 0.1871 - accuracy: 0.9312 - val_loss: 0.6656 - val_accuracy: 0.8710 - 104ms/epoch - 6ms/step\n",
            "Epoch 821/1000\n",
            "18/18 - 0s - loss: 0.1860 - accuracy: 0.9312 - val_loss: 0.6584 - val_accuracy: 0.8710 - 109ms/epoch - 6ms/step\n",
            "Epoch 822/1000\n",
            "18/18 - 0s - loss: 0.1861 - accuracy: 0.9312 - val_loss: 0.6696 - val_accuracy: 0.8710 - 72ms/epoch - 4ms/step\n",
            "Epoch 823/1000\n",
            "18/18 - 0s - loss: 0.1863 - accuracy: 0.9312 - val_loss: 0.6742 - val_accuracy: 0.8710 - 109ms/epoch - 6ms/step\n",
            "Epoch 824/1000\n",
            "18/18 - 0s - loss: 0.1861 - accuracy: 0.9312 - val_loss: 0.7033 - val_accuracy: 0.8710 - 93ms/epoch - 5ms/step\n",
            "Epoch 825/1000\n",
            "18/18 - 0s - loss: 0.1860 - accuracy: 0.9312 - val_loss: 0.7232 - val_accuracy: 0.8710 - 72ms/epoch - 4ms/step\n",
            "Epoch 826/1000\n",
            "18/18 - 0s - loss: 0.1861 - accuracy: 0.9312 - val_loss: 0.7302 - val_accuracy: 0.8710 - 87ms/epoch - 5ms/step\n",
            "Epoch 827/1000\n",
            "18/18 - 0s - loss: 0.1862 - accuracy: 0.9312 - val_loss: 0.7471 - val_accuracy: 0.8710 - 88ms/epoch - 5ms/step\n",
            "Epoch 828/1000\n",
            "18/18 - 0s - loss: 0.1859 - accuracy: 0.9312 - val_loss: 0.7004 - val_accuracy: 0.8710 - 93ms/epoch - 5ms/step\n",
            "Epoch 829/1000\n",
            "18/18 - 0s - loss: 0.1864 - accuracy: 0.9312 - val_loss: 0.6882 - val_accuracy: 0.8710 - 91ms/epoch - 5ms/step\n",
            "Epoch 830/1000\n",
            "18/18 - 0s - loss: 0.1861 - accuracy: 0.9312 - val_loss: 0.7247 - val_accuracy: 0.8710 - 111ms/epoch - 6ms/step\n",
            "Epoch 831/1000\n",
            "18/18 - 0s - loss: 0.1858 - accuracy: 0.9312 - val_loss: 0.7301 - val_accuracy: 0.8710 - 116ms/epoch - 6ms/step\n",
            "Epoch 832/1000\n",
            "18/18 - 0s - loss: 0.1858 - accuracy: 0.9312 - val_loss: 0.7452 - val_accuracy: 0.8871 - 99ms/epoch - 6ms/step\n",
            "Epoch 833/1000\n",
            "18/18 - 0s - loss: 0.1856 - accuracy: 0.9312 - val_loss: 0.7655 - val_accuracy: 0.8710 - 89ms/epoch - 5ms/step\n",
            "Epoch 834/1000\n",
            "18/18 - 0s - loss: 0.1859 - accuracy: 0.9312 - val_loss: 0.7775 - val_accuracy: 0.8710 - 85ms/epoch - 5ms/step\n",
            "Epoch 835/1000\n",
            "18/18 - 0s - loss: 0.1858 - accuracy: 0.9312 - val_loss: 0.7925 - val_accuracy: 0.8710 - 85ms/epoch - 5ms/step\n",
            "Epoch 836/1000\n",
            "18/18 - 0s - loss: 0.1857 - accuracy: 0.9312 - val_loss: 0.7559 - val_accuracy: 0.8710 - 97ms/epoch - 5ms/step\n",
            "Epoch 837/1000\n",
            "18/18 - 0s - loss: 0.1857 - accuracy: 0.9312 - val_loss: 0.7177 - val_accuracy: 0.8710 - 95ms/epoch - 5ms/step\n",
            "Epoch 838/1000\n",
            "18/18 - 0s - loss: 0.1859 - accuracy: 0.9312 - val_loss: 0.7456 - val_accuracy: 0.8710 - 98ms/epoch - 5ms/step\n",
            "Epoch 839/1000\n",
            "18/18 - 0s - loss: 0.1857 - accuracy: 0.9312 - val_loss: 0.6855 - val_accuracy: 0.8710 - 108ms/epoch - 6ms/step\n",
            "Epoch 840/1000\n",
            "18/18 - 0s - loss: 0.1857 - accuracy: 0.9312 - val_loss: 0.6992 - val_accuracy: 0.8710 - 86ms/epoch - 5ms/step\n",
            "Epoch 841/1000\n",
            "18/18 - 0s - loss: 0.1860 - accuracy: 0.9312 - val_loss: 0.6711 - val_accuracy: 0.8710 - 84ms/epoch - 5ms/step\n",
            "Epoch 842/1000\n",
            "18/18 - 0s - loss: 0.1862 - accuracy: 0.9312 - val_loss: 0.7183 - val_accuracy: 0.8710 - 89ms/epoch - 5ms/step\n",
            "Epoch 843/1000\n",
            "18/18 - 0s - loss: 0.1861 - accuracy: 0.9312 - val_loss: 0.7615 - val_accuracy: 0.8710 - 84ms/epoch - 5ms/step\n",
            "Epoch 844/1000\n",
            "18/18 - 0s - loss: 0.1861 - accuracy: 0.9312 - val_loss: 0.7865 - val_accuracy: 0.8548 - 83ms/epoch - 5ms/step\n",
            "Epoch 845/1000\n",
            "18/18 - 0s - loss: 0.1856 - accuracy: 0.9312 - val_loss: 0.7843 - val_accuracy: 0.8710 - 73ms/epoch - 4ms/step\n",
            "Epoch 846/1000\n",
            "18/18 - 0s - loss: 0.1857 - accuracy: 0.9312 - val_loss: 0.7768 - val_accuracy: 0.8710 - 71ms/epoch - 4ms/step\n",
            "Epoch 847/1000\n",
            "18/18 - 0s - loss: 0.1860 - accuracy: 0.9312 - val_loss: 0.8000 - val_accuracy: 0.8871 - 74ms/epoch - 4ms/step\n",
            "Epoch 848/1000\n",
            "18/18 - 0s - loss: 0.1860 - accuracy: 0.9312 - val_loss: 0.8329 - val_accuracy: 0.8871 - 104ms/epoch - 6ms/step\n",
            "Epoch 849/1000\n",
            "18/18 - 0s - loss: 0.1860 - accuracy: 0.9312 - val_loss: 0.8313 - val_accuracy: 0.8710 - 96ms/epoch - 5ms/step\n",
            "Epoch 850/1000\n",
            "18/18 - 0s - loss: 0.1861 - accuracy: 0.9312 - val_loss: 0.8427 - val_accuracy: 0.8710 - 95ms/epoch - 5ms/step\n",
            "Epoch 851/1000\n",
            "18/18 - 0s - loss: 0.1860 - accuracy: 0.9312 - val_loss: 0.7997 - val_accuracy: 0.8710 - 75ms/epoch - 4ms/step\n",
            "Epoch 852/1000\n",
            "18/18 - 0s - loss: 0.1861 - accuracy: 0.9312 - val_loss: 0.7531 - val_accuracy: 0.8710 - 116ms/epoch - 6ms/step\n",
            "Epoch 853/1000\n",
            "18/18 - 0s - loss: 0.1857 - accuracy: 0.9312 - val_loss: 0.8087 - val_accuracy: 0.8710 - 84ms/epoch - 5ms/step\n",
            "Epoch 854/1000\n",
            "18/18 - 0s - loss: 0.1860 - accuracy: 0.9312 - val_loss: 0.8021 - val_accuracy: 0.8710 - 93ms/epoch - 5ms/step\n",
            "Epoch 855/1000\n",
            "18/18 - 0s - loss: 0.1854 - accuracy: 0.9312 - val_loss: 0.8256 - val_accuracy: 0.8710 - 107ms/epoch - 6ms/step\n",
            "Epoch 856/1000\n",
            "18/18 - 0s - loss: 0.1854 - accuracy: 0.9312 - val_loss: 0.8410 - val_accuracy: 0.8548 - 85ms/epoch - 5ms/step\n",
            "Epoch 857/1000\n",
            "18/18 - 0s - loss: 0.1854 - accuracy: 0.9312 - val_loss: 0.8547 - val_accuracy: 0.8548 - 82ms/epoch - 5ms/step\n",
            "Epoch 858/1000\n",
            "18/18 - 0s - loss: 0.1855 - accuracy: 0.9312 - val_loss: 0.7808 - val_accuracy: 0.8548 - 97ms/epoch - 5ms/step\n",
            "Epoch 859/1000\n",
            "18/18 - 0s - loss: 0.1857 - accuracy: 0.9312 - val_loss: 0.7792 - val_accuracy: 0.8710 - 109ms/epoch - 6ms/step\n",
            "Epoch 860/1000\n",
            "18/18 - 0s - loss: 0.1855 - accuracy: 0.9312 - val_loss: 0.7897 - val_accuracy: 0.8710 - 82ms/epoch - 5ms/step\n",
            "Epoch 861/1000\n",
            "18/18 - 0s - loss: 0.1854 - accuracy: 0.9312 - val_loss: 0.8219 - val_accuracy: 0.8710 - 76ms/epoch - 4ms/step\n",
            "Epoch 862/1000\n",
            "18/18 - 0s - loss: 0.1855 - accuracy: 0.9312 - val_loss: 0.8404 - val_accuracy: 0.8548 - 115ms/epoch - 6ms/step\n",
            "Epoch 863/1000\n",
            "18/18 - 0s - loss: 0.1855 - accuracy: 0.9312 - val_loss: 0.8655 - val_accuracy: 0.8548 - 99ms/epoch - 5ms/step\n",
            "Epoch 864/1000\n",
            "18/18 - 0s - loss: 0.1854 - accuracy: 0.9312 - val_loss: 0.8796 - val_accuracy: 0.8548 - 103ms/epoch - 6ms/step\n",
            "Epoch 865/1000\n",
            "18/18 - 0s - loss: 0.1857 - accuracy: 0.9312 - val_loss: 0.8345 - val_accuracy: 0.8710 - 96ms/epoch - 5ms/step\n",
            "Epoch 866/1000\n",
            "18/18 - 0s - loss: 0.1860 - accuracy: 0.9312 - val_loss: 0.8301 - val_accuracy: 0.8710 - 86ms/epoch - 5ms/step\n",
            "Epoch 867/1000\n",
            "18/18 - 0s - loss: 0.1853 - accuracy: 0.9312 - val_loss: 0.8735 - val_accuracy: 0.8710 - 98ms/epoch - 5ms/step\n",
            "Epoch 868/1000\n",
            "18/18 - 0s - loss: 0.1855 - accuracy: 0.9312 - val_loss: 0.9010 - val_accuracy: 0.8548 - 97ms/epoch - 5ms/step\n",
            "Epoch 869/1000\n",
            "18/18 - 0s - loss: 0.1875 - accuracy: 0.9293 - val_loss: 0.8835 - val_accuracy: 0.8548 - 98ms/epoch - 5ms/step\n",
            "Epoch 870/1000\n",
            "18/18 - 0s - loss: 0.1870 - accuracy: 0.9293 - val_loss: 0.8986 - val_accuracy: 0.8548 - 127ms/epoch - 7ms/step\n",
            "Epoch 871/1000\n",
            "18/18 - 0s - loss: 0.1870 - accuracy: 0.9312 - val_loss: 0.9375 - val_accuracy: 0.8548 - 93ms/epoch - 5ms/step\n",
            "Epoch 872/1000\n",
            "18/18 - 0s - loss: 0.1917 - accuracy: 0.9293 - val_loss: 0.8055 - val_accuracy: 0.9032 - 78ms/epoch - 4ms/step\n",
            "Epoch 873/1000\n",
            "18/18 - 0s - loss: 0.1969 - accuracy: 0.9275 - val_loss: 0.8934 - val_accuracy: 0.8710 - 92ms/epoch - 5ms/step\n",
            "Epoch 874/1000\n",
            "18/18 - 0s - loss: 0.1951 - accuracy: 0.9275 - val_loss: 0.7694 - val_accuracy: 0.8871 - 106ms/epoch - 6ms/step\n",
            "Epoch 875/1000\n",
            "18/18 - 0s - loss: 0.1877 - accuracy: 0.9293 - val_loss: 0.8274 - val_accuracy: 0.8710 - 99ms/epoch - 6ms/step\n",
            "Epoch 876/1000\n",
            "18/18 - 0s - loss: 0.2192 - accuracy: 0.9221 - val_loss: 1.1772 - val_accuracy: 0.8710 - 111ms/epoch - 6ms/step\n",
            "Epoch 877/1000\n",
            "18/18 - 0s - loss: 0.2554 - accuracy: 0.9112 - val_loss: 0.9092 - val_accuracy: 0.8226 - 92ms/epoch - 5ms/step\n",
            "Epoch 878/1000\n",
            "18/18 - 0s - loss: 0.3017 - accuracy: 0.8696 - val_loss: 0.9053 - val_accuracy: 0.8387 - 108ms/epoch - 6ms/step\n",
            "Epoch 879/1000\n",
            "18/18 - 0s - loss: 0.3631 - accuracy: 0.8514 - val_loss: 0.8371 - val_accuracy: 0.8387 - 106ms/epoch - 6ms/step\n",
            "Epoch 880/1000\n",
            "18/18 - 0s - loss: 0.3027 - accuracy: 0.8750 - val_loss: 0.6420 - val_accuracy: 0.8548 - 95ms/epoch - 5ms/step\n",
            "Epoch 881/1000\n",
            "18/18 - 0s - loss: 0.2872 - accuracy: 0.8913 - val_loss: 0.6389 - val_accuracy: 0.9032 - 85ms/epoch - 5ms/step\n",
            "Epoch 882/1000\n",
            "18/18 - 0s - loss: 0.2922 - accuracy: 0.8822 - val_loss: 0.4561 - val_accuracy: 0.9032 - 73ms/epoch - 4ms/step\n",
            "Epoch 883/1000\n",
            "18/18 - 0s - loss: 0.2532 - accuracy: 0.8877 - val_loss: 0.5386 - val_accuracy: 0.9032 - 74ms/epoch - 4ms/step\n",
            "Epoch 884/1000\n",
            "18/18 - 0s - loss: 0.2550 - accuracy: 0.9076 - val_loss: 0.6594 - val_accuracy: 0.9032 - 78ms/epoch - 4ms/step\n",
            "Epoch 885/1000\n",
            "18/18 - 0s - loss: 0.2419 - accuracy: 0.9022 - val_loss: 0.4653 - val_accuracy: 0.9032 - 76ms/epoch - 4ms/step\n",
            "Epoch 886/1000\n",
            "18/18 - 0s - loss: 0.2191 - accuracy: 0.9130 - val_loss: 0.6319 - val_accuracy: 0.9032 - 91ms/epoch - 5ms/step\n",
            "Epoch 887/1000\n",
            "18/18 - 0s - loss: 0.2044 - accuracy: 0.9221 - val_loss: 0.5503 - val_accuracy: 0.8871 - 95ms/epoch - 5ms/step\n",
            "Epoch 888/1000\n",
            "18/18 - 0s - loss: 0.2101 - accuracy: 0.9203 - val_loss: 0.9269 - val_accuracy: 0.9032 - 96ms/epoch - 5ms/step\n",
            "Epoch 889/1000\n",
            "18/18 - 0s - loss: 0.2754 - accuracy: 0.9094 - val_loss: 0.4730 - val_accuracy: 0.8871 - 67ms/epoch - 4ms/step\n",
            "Epoch 890/1000\n",
            "18/18 - 0s - loss: 0.2475 - accuracy: 0.8967 - val_loss: 0.3878 - val_accuracy: 0.8548 - 232ms/epoch - 13ms/step\n",
            "Epoch 891/1000\n",
            "18/18 - 0s - loss: 0.2380 - accuracy: 0.8967 - val_loss: 0.5022 - val_accuracy: 0.8871 - 232ms/epoch - 13ms/step\n",
            "Epoch 892/1000\n",
            "18/18 - 0s - loss: 0.1996 - accuracy: 0.9239 - val_loss: 0.7607 - val_accuracy: 0.8710 - 185ms/epoch - 10ms/step\n",
            "Epoch 893/1000\n",
            "18/18 - 0s - loss: 0.2060 - accuracy: 0.9221 - val_loss: 0.5885 - val_accuracy: 0.8710 - 125ms/epoch - 7ms/step\n",
            "Epoch 894/1000\n",
            "18/18 - 0s - loss: 0.1988 - accuracy: 0.9239 - val_loss: 0.7261 - val_accuracy: 0.8710 - 162ms/epoch - 9ms/step\n",
            "Epoch 895/1000\n",
            "18/18 - 0s - loss: 0.1954 - accuracy: 0.9257 - val_loss: 0.7250 - val_accuracy: 0.8548 - 199ms/epoch - 11ms/step\n",
            "Epoch 896/1000\n",
            "18/18 - 0s - loss: 0.1949 - accuracy: 0.9257 - val_loss: 0.6884 - val_accuracy: 0.8710 - 238ms/epoch - 13ms/step\n",
            "Epoch 897/1000\n",
            "18/18 - 0s - loss: 0.1947 - accuracy: 0.9257 - val_loss: 0.6901 - val_accuracy: 0.8710 - 155ms/epoch - 9ms/step\n",
            "Epoch 898/1000\n",
            "18/18 - 0s - loss: 0.1947 - accuracy: 0.9257 - val_loss: 0.6820 - val_accuracy: 0.8710 - 113ms/epoch - 6ms/step\n",
            "Epoch 899/1000\n",
            "18/18 - 0s - loss: 0.1947 - accuracy: 0.9257 - val_loss: 0.7004 - val_accuracy: 0.8710 - 102ms/epoch - 6ms/step\n",
            "Epoch 900/1000\n",
            "18/18 - 0s - loss: 0.1947 - accuracy: 0.9257 - val_loss: 0.7093 - val_accuracy: 0.8710 - 93ms/epoch - 5ms/step\n",
            "Epoch 901/1000\n",
            "18/18 - 0s - loss: 0.1958 - accuracy: 0.9257 - val_loss: 0.7161 - val_accuracy: 0.8710 - 99ms/epoch - 5ms/step\n",
            "Epoch 902/1000\n",
            "18/18 - 0s - loss: 0.1945 - accuracy: 0.9257 - val_loss: 0.7262 - val_accuracy: 0.8710 - 91ms/epoch - 5ms/step\n",
            "Epoch 903/1000\n",
            "18/18 - 0s - loss: 0.1947 - accuracy: 0.9257 - val_loss: 0.7089 - val_accuracy: 0.8710 - 79ms/epoch - 4ms/step\n",
            "Epoch 904/1000\n",
            "18/18 - 0s - loss: 0.1946 - accuracy: 0.9257 - val_loss: 0.7184 - val_accuracy: 0.8710 - 104ms/epoch - 6ms/step\n",
            "Epoch 905/1000\n",
            "18/18 - 0s - loss: 0.1948 - accuracy: 0.9257 - val_loss: 0.7301 - val_accuracy: 0.8710 - 81ms/epoch - 5ms/step\n",
            "Epoch 906/1000\n",
            "18/18 - 0s - loss: 0.1947 - accuracy: 0.9257 - val_loss: 0.7393 - val_accuracy: 0.8710 - 86ms/epoch - 5ms/step\n",
            "Epoch 907/1000\n",
            "18/18 - 0s - loss: 0.1945 - accuracy: 0.9257 - val_loss: 0.7295 - val_accuracy: 0.8710 - 80ms/epoch - 4ms/step\n",
            "Epoch 908/1000\n",
            "18/18 - 0s - loss: 0.1951 - accuracy: 0.9257 - val_loss: 0.7283 - val_accuracy: 0.8710 - 96ms/epoch - 5ms/step\n",
            "Epoch 909/1000\n",
            "18/18 - 0s - loss: 0.1943 - accuracy: 0.9257 - val_loss: 0.7385 - val_accuracy: 0.8710 - 92ms/epoch - 5ms/step\n",
            "Epoch 910/1000\n",
            "18/18 - 0s - loss: 0.1947 - accuracy: 0.9257 - val_loss: 0.7425 - val_accuracy: 0.8710 - 89ms/epoch - 5ms/step\n",
            "Epoch 911/1000\n",
            "18/18 - 0s - loss: 0.1944 - accuracy: 0.9257 - val_loss: 0.7475 - val_accuracy: 0.8710 - 102ms/epoch - 6ms/step\n",
            "Epoch 912/1000\n",
            "18/18 - 0s - loss: 0.1944 - accuracy: 0.9257 - val_loss: 0.7520 - val_accuracy: 0.8710 - 81ms/epoch - 5ms/step\n",
            "Epoch 913/1000\n",
            "18/18 - 0s - loss: 0.1944 - accuracy: 0.9257 - val_loss: 0.7095 - val_accuracy: 0.8710 - 76ms/epoch - 4ms/step\n",
            "Epoch 914/1000\n",
            "18/18 - 0s - loss: 0.1944 - accuracy: 0.9257 - val_loss: 0.7126 - val_accuracy: 0.8710 - 96ms/epoch - 5ms/step\n",
            "Epoch 915/1000\n",
            "18/18 - 0s - loss: 0.1945 - accuracy: 0.9257 - val_loss: 0.7210 - val_accuracy: 0.8710 - 96ms/epoch - 5ms/step\n",
            "Epoch 916/1000\n",
            "18/18 - 0s - loss: 0.1945 - accuracy: 0.9257 - val_loss: 0.7271 - val_accuracy: 0.8710 - 101ms/epoch - 6ms/step\n",
            "Epoch 917/1000\n",
            "18/18 - 0s - loss: 0.1943 - accuracy: 0.9257 - val_loss: 0.7349 - val_accuracy: 0.8710 - 74ms/epoch - 4ms/step\n",
            "Epoch 918/1000\n",
            "18/18 - 0s - loss: 0.1943 - accuracy: 0.9257 - val_loss: 0.7404 - val_accuracy: 0.8710 - 60ms/epoch - 3ms/step\n",
            "Epoch 919/1000\n",
            "18/18 - 0s - loss: 0.1944 - accuracy: 0.9257 - val_loss: 0.7058 - val_accuracy: 0.8710 - 53ms/epoch - 3ms/step\n",
            "Epoch 920/1000\n",
            "18/18 - 0s - loss: 0.1947 - accuracy: 0.9257 - val_loss: 0.7021 - val_accuracy: 0.8710 - 57ms/epoch - 3ms/step\n",
            "Epoch 921/1000\n",
            "18/18 - 0s - loss: 0.1945 - accuracy: 0.9257 - val_loss: 0.7080 - val_accuracy: 0.8710 - 95ms/epoch - 5ms/step\n",
            "Epoch 922/1000\n",
            "18/18 - 0s - loss: 0.1945 - accuracy: 0.9257 - val_loss: 0.7148 - val_accuracy: 0.8710 - 78ms/epoch - 4ms/step\n",
            "Epoch 923/1000\n",
            "18/18 - 0s - loss: 0.1945 - accuracy: 0.9257 - val_loss: 0.7185 - val_accuracy: 0.8710 - 80ms/epoch - 4ms/step\n",
            "Epoch 924/1000\n",
            "18/18 - 0s - loss: 0.1946 - accuracy: 0.9257 - val_loss: 0.7056 - val_accuracy: 0.8710 - 76ms/epoch - 4ms/step\n",
            "Epoch 925/1000\n",
            "18/18 - 0s - loss: 0.1944 - accuracy: 0.9257 - val_loss: 0.7107 - val_accuracy: 0.8710 - 89ms/epoch - 5ms/step\n",
            "Epoch 926/1000\n",
            "18/18 - 0s - loss: 0.1946 - accuracy: 0.9257 - val_loss: 0.7169 - val_accuracy: 0.8710 - 98ms/epoch - 5ms/step\n",
            "Epoch 927/1000\n",
            "18/18 - 0s - loss: 0.1945 - accuracy: 0.9257 - val_loss: 0.7260 - val_accuracy: 0.8710 - 95ms/epoch - 5ms/step\n",
            "Epoch 928/1000\n",
            "18/18 - 0s - loss: 0.1945 - accuracy: 0.9257 - val_loss: 0.7294 - val_accuracy: 0.8710 - 90ms/epoch - 5ms/step\n",
            "Epoch 929/1000\n",
            "18/18 - 0s - loss: 0.1943 - accuracy: 0.9257 - val_loss: 0.7327 - val_accuracy: 0.8710 - 122ms/epoch - 7ms/step\n",
            "Epoch 930/1000\n",
            "18/18 - 0s - loss: 0.1944 - accuracy: 0.9257 - val_loss: 0.7365 - val_accuracy: 0.8710 - 113ms/epoch - 6ms/step\n",
            "Epoch 931/1000\n",
            "18/18 - 0s - loss: 0.1947 - accuracy: 0.9257 - val_loss: 0.7393 - val_accuracy: 0.8710 - 107ms/epoch - 6ms/step\n",
            "Epoch 932/1000\n",
            "18/18 - 0s - loss: 0.1943 - accuracy: 0.9257 - val_loss: 0.7401 - val_accuracy: 0.8710 - 81ms/epoch - 4ms/step\n",
            "Epoch 933/1000\n",
            "18/18 - 0s - loss: 0.1946 - accuracy: 0.9257 - val_loss: 0.7457 - val_accuracy: 0.8710 - 93ms/epoch - 5ms/step\n",
            "Epoch 934/1000\n",
            "18/18 - 0s - loss: 0.1942 - accuracy: 0.9257 - val_loss: 0.7475 - val_accuracy: 0.8710 - 86ms/epoch - 5ms/step\n",
            "Epoch 935/1000\n",
            "18/18 - 0s - loss: 0.1942 - accuracy: 0.9257 - val_loss: 0.7498 - val_accuracy: 0.8710 - 103ms/epoch - 6ms/step\n",
            "Epoch 936/1000\n",
            "18/18 - 0s - loss: 0.1943 - accuracy: 0.9257 - val_loss: 0.7390 - val_accuracy: 0.8710 - 93ms/epoch - 5ms/step\n",
            "Epoch 937/1000\n",
            "18/18 - 0s - loss: 0.1943 - accuracy: 0.9257 - val_loss: 0.7356 - val_accuracy: 0.8710 - 178ms/epoch - 10ms/step\n",
            "Epoch 938/1000\n",
            "18/18 - 0s - loss: 0.1943 - accuracy: 0.9257 - val_loss: 0.7403 - val_accuracy: 0.8710 - 208ms/epoch - 12ms/step\n",
            "Epoch 939/1000\n",
            "18/18 - 0s - loss: 0.1944 - accuracy: 0.9257 - val_loss: 0.7461 - val_accuracy: 0.8710 - 227ms/epoch - 13ms/step\n",
            "Epoch 940/1000\n",
            "18/18 - 0s - loss: 0.1948 - accuracy: 0.9257 - val_loss: 0.7509 - val_accuracy: 0.8710 - 173ms/epoch - 10ms/step\n",
            "Epoch 941/1000\n",
            "18/18 - 0s - loss: 0.1942 - accuracy: 0.9257 - val_loss: 0.7553 - val_accuracy: 0.8710 - 179ms/epoch - 10ms/step\n",
            "Epoch 942/1000\n",
            "18/18 - 0s - loss: 0.1942 - accuracy: 0.9257 - val_loss: 0.7589 - val_accuracy: 0.8710 - 133ms/epoch - 7ms/step\n",
            "Epoch 943/1000\n",
            "18/18 - 0s - loss: 0.1942 - accuracy: 0.9257 - val_loss: 0.7609 - val_accuracy: 0.8710 - 93ms/epoch - 5ms/step\n",
            "Epoch 944/1000\n",
            "18/18 - 0s - loss: 0.1942 - accuracy: 0.9257 - val_loss: 0.7615 - val_accuracy: 0.8710 - 101ms/epoch - 6ms/step\n",
            "Epoch 945/1000\n",
            "18/18 - 0s - loss: 0.1943 - accuracy: 0.9257 - val_loss: 0.7363 - val_accuracy: 0.8710 - 108ms/epoch - 6ms/step\n",
            "Epoch 946/1000\n",
            "18/18 - 0s - loss: 0.1943 - accuracy: 0.9257 - val_loss: 0.7014 - val_accuracy: 0.8710 - 96ms/epoch - 5ms/step\n",
            "Epoch 947/1000\n",
            "18/18 - 0s - loss: 0.1944 - accuracy: 0.9257 - val_loss: 0.7169 - val_accuracy: 0.8710 - 91ms/epoch - 5ms/step\n",
            "Epoch 948/1000\n",
            "18/18 - 0s - loss: 0.1942 - accuracy: 0.9257 - val_loss: 0.7240 - val_accuracy: 0.8710 - 88ms/epoch - 5ms/step\n",
            "Epoch 949/1000\n",
            "18/18 - 0s - loss: 0.1942 - accuracy: 0.9257 - val_loss: 0.7286 - val_accuracy: 0.8710 - 88ms/epoch - 5ms/step\n",
            "Epoch 950/1000\n",
            "18/18 - 0s - loss: 0.1943 - accuracy: 0.9257 - val_loss: 0.7338 - val_accuracy: 0.8710 - 95ms/epoch - 5ms/step\n",
            "Epoch 951/1000\n",
            "18/18 - 0s - loss: 0.1943 - accuracy: 0.9257 - val_loss: 0.7390 - val_accuracy: 0.8710 - 96ms/epoch - 5ms/step\n",
            "Epoch 952/1000\n",
            "18/18 - 0s - loss: 0.1942 - accuracy: 0.9257 - val_loss: 0.7273 - val_accuracy: 0.8710 - 96ms/epoch - 5ms/step\n",
            "Epoch 953/1000\n",
            "18/18 - 0s - loss: 0.1944 - accuracy: 0.9257 - val_loss: 0.7234 - val_accuracy: 0.8710 - 84ms/epoch - 5ms/step\n",
            "Epoch 954/1000\n",
            "18/18 - 0s - loss: 0.1943 - accuracy: 0.9257 - val_loss: 0.7272 - val_accuracy: 0.8710 - 73ms/epoch - 4ms/step\n",
            "Epoch 955/1000\n",
            "18/18 - 0s - loss: 0.1943 - accuracy: 0.9257 - val_loss: 0.7357 - val_accuracy: 0.8710 - 97ms/epoch - 5ms/step\n",
            "Epoch 956/1000\n",
            "18/18 - 0s - loss: 0.1943 - accuracy: 0.9257 - val_loss: 0.7409 - val_accuracy: 0.8710 - 72ms/epoch - 4ms/step\n",
            "Epoch 957/1000\n",
            "18/18 - 0s - loss: 0.1943 - accuracy: 0.9257 - val_loss: 0.7425 - val_accuracy: 0.8710 - 71ms/epoch - 4ms/step\n",
            "Epoch 958/1000\n",
            "18/18 - 0s - loss: 0.1944 - accuracy: 0.9257 - val_loss: 0.7466 - val_accuracy: 0.8710 - 70ms/epoch - 4ms/step\n",
            "Epoch 959/1000\n",
            "18/18 - 0s - loss: 0.1941 - accuracy: 0.9257 - val_loss: 0.7489 - val_accuracy: 0.8710 - 74ms/epoch - 4ms/step\n",
            "Epoch 960/1000\n",
            "18/18 - 0s - loss: 0.1944 - accuracy: 0.9257 - val_loss: 0.6955 - val_accuracy: 0.8710 - 92ms/epoch - 5ms/step\n",
            "Epoch 961/1000\n",
            "18/18 - 0s - loss: 0.1943 - accuracy: 0.9257 - val_loss: 0.6879 - val_accuracy: 0.8710 - 71ms/epoch - 4ms/step\n",
            "Epoch 962/1000\n",
            "18/18 - 0s - loss: 0.1942 - accuracy: 0.9257 - val_loss: 0.6977 - val_accuracy: 0.8710 - 75ms/epoch - 4ms/step\n",
            "Epoch 963/1000\n",
            "18/18 - 0s - loss: 0.1941 - accuracy: 0.9257 - val_loss: 0.7032 - val_accuracy: 0.8710 - 94ms/epoch - 5ms/step\n",
            "Epoch 964/1000\n",
            "18/18 - 0s - loss: 0.1942 - accuracy: 0.9257 - val_loss: 0.7097 - val_accuracy: 0.8710 - 79ms/epoch - 4ms/step\n",
            "Epoch 965/1000\n",
            "18/18 - 0s - loss: 0.1941 - accuracy: 0.9257 - val_loss: 0.7156 - val_accuracy: 0.8710 - 86ms/epoch - 5ms/step\n",
            "Epoch 966/1000\n",
            "18/18 - 0s - loss: 0.1941 - accuracy: 0.9257 - val_loss: 0.7178 - val_accuracy: 0.8710 - 74ms/epoch - 4ms/step\n",
            "Epoch 967/1000\n",
            "18/18 - 0s - loss: 0.1942 - accuracy: 0.9257 - val_loss: 0.6978 - val_accuracy: 0.8710 - 89ms/epoch - 5ms/step\n",
            "Epoch 968/1000\n",
            "18/18 - 0s - loss: 0.1941 - accuracy: 0.9257 - val_loss: 0.7017 - val_accuracy: 0.8710 - 79ms/epoch - 4ms/step\n",
            "Epoch 969/1000\n",
            "18/18 - 0s - loss: 0.1942 - accuracy: 0.9257 - val_loss: 0.7132 - val_accuracy: 0.8710 - 81ms/epoch - 5ms/step\n",
            "Epoch 970/1000\n",
            "18/18 - 0s - loss: 0.1941 - accuracy: 0.9257 - val_loss: 0.7214 - val_accuracy: 0.8710 - 96ms/epoch - 5ms/step\n",
            "Epoch 971/1000\n",
            "18/18 - 0s - loss: 0.1943 - accuracy: 0.9257 - val_loss: 0.8488 - val_accuracy: 0.8710 - 99ms/epoch - 6ms/step\n",
            "Epoch 972/1000\n",
            "18/18 - 0s - loss: 0.4224 - accuracy: 0.9040 - val_loss: 0.7664 - val_accuracy: 0.8226 - 100ms/epoch - 6ms/step\n",
            "Epoch 973/1000\n",
            "18/18 - 0s - loss: 0.2491 - accuracy: 0.9022 - val_loss: 0.6830 - val_accuracy: 0.8387 - 83ms/epoch - 5ms/step\n",
            "Epoch 974/1000\n",
            "18/18 - 0s - loss: 0.2716 - accuracy: 0.9004 - val_loss: 0.7461 - val_accuracy: 0.8387 - 88ms/epoch - 5ms/step\n",
            "Epoch 975/1000\n",
            "18/18 - 0s - loss: 0.3061 - accuracy: 0.8949 - val_loss: 0.6987 - val_accuracy: 0.8871 - 112ms/epoch - 6ms/step\n",
            "Epoch 976/1000\n",
            "18/18 - 0s - loss: 0.2701 - accuracy: 0.8967 - val_loss: 0.5121 - val_accuracy: 0.8710 - 70ms/epoch - 4ms/step\n",
            "Epoch 977/1000\n",
            "18/18 - 0s - loss: 0.2487 - accuracy: 0.8967 - val_loss: 0.8137 - val_accuracy: 0.8548 - 69ms/epoch - 4ms/step\n",
            "Epoch 978/1000\n",
            "18/18 - 0s - loss: 0.2380 - accuracy: 0.9022 - val_loss: 0.7474 - val_accuracy: 0.9032 - 52ms/epoch - 3ms/step\n",
            "Epoch 979/1000\n",
            "18/18 - 0s - loss: 0.2351 - accuracy: 0.9022 - val_loss: 0.5986 - val_accuracy: 0.9032 - 56ms/epoch - 3ms/step\n",
            "Epoch 980/1000\n",
            "18/18 - 0s - loss: 0.2379 - accuracy: 0.9004 - val_loss: 0.5772 - val_accuracy: 0.9032 - 52ms/epoch - 3ms/step\n",
            "Epoch 981/1000\n",
            "18/18 - 0s - loss: 0.2267 - accuracy: 0.9058 - val_loss: 0.5972 - val_accuracy: 0.9032 - 54ms/epoch - 3ms/step\n",
            "Epoch 982/1000\n",
            "18/18 - 0s - loss: 0.2272 - accuracy: 0.9076 - val_loss: 0.6008 - val_accuracy: 0.9032 - 56ms/epoch - 3ms/step\n",
            "Epoch 983/1000\n",
            "18/18 - 0s - loss: 0.2260 - accuracy: 0.9076 - val_loss: 0.5940 - val_accuracy: 0.9032 - 61ms/epoch - 3ms/step\n",
            "Epoch 984/1000\n",
            "18/18 - 0s - loss: 0.2253 - accuracy: 0.9076 - val_loss: 0.6170 - val_accuracy: 0.9032 - 60ms/epoch - 3ms/step\n",
            "Epoch 985/1000\n",
            "18/18 - 0s - loss: 0.2246 - accuracy: 0.9076 - val_loss: 0.6431 - val_accuracy: 0.9032 - 54ms/epoch - 3ms/step\n",
            "Epoch 986/1000\n",
            "18/18 - 0s - loss: 0.2237 - accuracy: 0.9094 - val_loss: 0.6397 - val_accuracy: 0.9032 - 53ms/epoch - 3ms/step\n",
            "Epoch 987/1000\n",
            "18/18 - 0s - loss: 0.2242 - accuracy: 0.9076 - val_loss: 0.6442 - val_accuracy: 0.9032 - 54ms/epoch - 3ms/step\n",
            "Epoch 988/1000\n",
            "18/18 - 0s - loss: 0.2268 - accuracy: 0.9076 - val_loss: 0.6550 - val_accuracy: 0.9032 - 53ms/epoch - 3ms/step\n",
            "Epoch 989/1000\n",
            "18/18 - 0s - loss: 0.2232 - accuracy: 0.9076 - val_loss: 0.6605 - val_accuracy: 0.9032 - 53ms/epoch - 3ms/step\n",
            "Epoch 990/1000\n",
            "18/18 - 0s - loss: 0.2231 - accuracy: 0.9076 - val_loss: 0.6712 - val_accuracy: 0.9032 - 52ms/epoch - 3ms/step\n",
            "Epoch 991/1000\n",
            "18/18 - 0s - loss: 0.2226 - accuracy: 0.9094 - val_loss: 0.6870 - val_accuracy: 0.9032 - 67ms/epoch - 4ms/step\n",
            "Epoch 992/1000\n",
            "18/18 - 0s - loss: 0.2231 - accuracy: 0.9076 - val_loss: 0.6873 - val_accuracy: 0.9032 - 51ms/epoch - 3ms/step\n",
            "Epoch 993/1000\n",
            "18/18 - 0s - loss: 0.2224 - accuracy: 0.9094 - val_loss: 0.6899 - val_accuracy: 0.9032 - 51ms/epoch - 3ms/step\n",
            "Epoch 994/1000\n",
            "18/18 - 0s - loss: 0.2217 - accuracy: 0.9112 - val_loss: 0.6888 - val_accuracy: 0.9032 - 59ms/epoch - 3ms/step\n",
            "Epoch 995/1000\n",
            "18/18 - 0s - loss: 0.2251 - accuracy: 0.9076 - val_loss: 0.6886 - val_accuracy: 0.9032 - 52ms/epoch - 3ms/step\n",
            "Epoch 996/1000\n",
            "18/18 - 0s - loss: 0.2218 - accuracy: 0.9094 - val_loss: 0.7270 - val_accuracy: 0.9032 - 54ms/epoch - 3ms/step\n",
            "Epoch 997/1000\n",
            "18/18 - 0s - loss: 0.2180 - accuracy: 0.9112 - val_loss: 0.9441 - val_accuracy: 0.8871 - 52ms/epoch - 3ms/step\n",
            "Epoch 998/1000\n",
            "18/18 - 0s - loss: 0.2139 - accuracy: 0.9130 - val_loss: 0.9420 - val_accuracy: 0.9032 - 64ms/epoch - 4ms/step\n",
            "Epoch 999/1000\n",
            "18/18 - 0s - loss: 0.2121 - accuracy: 0.9149 - val_loss: 0.9602 - val_accuracy: 0.9032 - 58ms/epoch - 3ms/step\n",
            "Epoch 1000/1000\n",
            "18/18 - 0s - loss: 0.2113 - accuracy: 0.9149 - val_loss: 0.9477 - val_accuracy: 0.8871 - 60ms/epoch - 3ms/step\n"
          ]
        }
      ]
    },
    {
      "cell_type": "code",
      "source": [
        "# let's measure final performance\n",
        "hist = pd.DataFrame(neural_pred.history)\n",
        "hist['epoch'] = neural_pred.epoch\n",
        "hist.tail()"
      ],
      "metadata": {
        "colab": {
          "base_uri": "https://localhost:8080/",
          "height": 206
        },
        "id": "mOB7OaY9tpKv",
        "outputId": "690581b7-8a11-4d0a-9ecb-7b86d538f808"
      },
      "execution_count": null,
      "outputs": [
        {
          "output_type": "execute_result",
          "data": {
            "text/html": [
              "\n",
              "  <div id=\"df-303fc52d-5876-4781-9e2f-9f6e2ed8f4d4\">\n",
              "    <div class=\"colab-df-container\">\n",
              "      <div>\n",
              "<style scoped>\n",
              "    .dataframe tbody tr th:only-of-type {\n",
              "        vertical-align: middle;\n",
              "    }\n",
              "\n",
              "    .dataframe tbody tr th {\n",
              "        vertical-align: top;\n",
              "    }\n",
              "\n",
              "    .dataframe thead th {\n",
              "        text-align: right;\n",
              "    }\n",
              "</style>\n",
              "<table border=\"1\" class=\"dataframe\">\n",
              "  <thead>\n",
              "    <tr style=\"text-align: right;\">\n",
              "      <th></th>\n",
              "      <th>loss</th>\n",
              "      <th>accuracy</th>\n",
              "      <th>val_loss</th>\n",
              "      <th>val_accuracy</th>\n",
              "      <th>epoch</th>\n",
              "    </tr>\n",
              "  </thead>\n",
              "  <tbody>\n",
              "    <tr>\n",
              "      <th>995</th>\n",
              "      <td>0.221778</td>\n",
              "      <td>0.909420</td>\n",
              "      <td>0.726970</td>\n",
              "      <td>0.903226</td>\n",
              "      <td>995</td>\n",
              "    </tr>\n",
              "    <tr>\n",
              "      <th>996</th>\n",
              "      <td>0.217992</td>\n",
              "      <td>0.911232</td>\n",
              "      <td>0.944136</td>\n",
              "      <td>0.887097</td>\n",
              "      <td>996</td>\n",
              "    </tr>\n",
              "    <tr>\n",
              "      <th>997</th>\n",
              "      <td>0.213928</td>\n",
              "      <td>0.913043</td>\n",
              "      <td>0.942018</td>\n",
              "      <td>0.903226</td>\n",
              "      <td>997</td>\n",
              "    </tr>\n",
              "    <tr>\n",
              "      <th>998</th>\n",
              "      <td>0.212059</td>\n",
              "      <td>0.914855</td>\n",
              "      <td>0.960243</td>\n",
              "      <td>0.903226</td>\n",
              "      <td>998</td>\n",
              "    </tr>\n",
              "    <tr>\n",
              "      <th>999</th>\n",
              "      <td>0.211318</td>\n",
              "      <td>0.914855</td>\n",
              "      <td>0.947673</td>\n",
              "      <td>0.887097</td>\n",
              "      <td>999</td>\n",
              "    </tr>\n",
              "  </tbody>\n",
              "</table>\n",
              "</div>\n",
              "      <button class=\"colab-df-convert\" onclick=\"convertToInteractive('df-303fc52d-5876-4781-9e2f-9f6e2ed8f4d4')\"\n",
              "              title=\"Convert this dataframe to an interactive table.\"\n",
              "              style=\"display:none;\">\n",
              "        \n",
              "  <svg xmlns=\"http://www.w3.org/2000/svg\" height=\"24px\"viewBox=\"0 0 24 24\"\n",
              "       width=\"24px\">\n",
              "    <path d=\"M0 0h24v24H0V0z\" fill=\"none\"/>\n",
              "    <path d=\"M18.56 5.44l.94 2.06.94-2.06 2.06-.94-2.06-.94-.94-2.06-.94 2.06-2.06.94zm-11 1L8.5 8.5l.94-2.06 2.06-.94-2.06-.94L8.5 2.5l-.94 2.06-2.06.94zm10 10l.94 2.06.94-2.06 2.06-.94-2.06-.94-.94-2.06-.94 2.06-2.06.94z\"/><path d=\"M17.41 7.96l-1.37-1.37c-.4-.4-.92-.59-1.43-.59-.52 0-1.04.2-1.43.59L10.3 9.45l-7.72 7.72c-.78.78-.78 2.05 0 2.83L4 21.41c.39.39.9.59 1.41.59.51 0 1.02-.2 1.41-.59l7.78-7.78 2.81-2.81c.8-.78.8-2.07 0-2.86zM5.41 20L4 18.59l7.72-7.72 1.47 1.35L5.41 20z\"/>\n",
              "  </svg>\n",
              "      </button>\n",
              "      \n",
              "  <style>\n",
              "    .colab-df-container {\n",
              "      display:flex;\n",
              "      flex-wrap:wrap;\n",
              "      gap: 12px;\n",
              "    }\n",
              "\n",
              "    .colab-df-convert {\n",
              "      background-color: #E8F0FE;\n",
              "      border: none;\n",
              "      border-radius: 50%;\n",
              "      cursor: pointer;\n",
              "      display: none;\n",
              "      fill: #1967D2;\n",
              "      height: 32px;\n",
              "      padding: 0 0 0 0;\n",
              "      width: 32px;\n",
              "    }\n",
              "\n",
              "    .colab-df-convert:hover {\n",
              "      background-color: #E2EBFA;\n",
              "      box-shadow: 0px 1px 2px rgba(60, 64, 67, 0.3), 0px 1px 3px 1px rgba(60, 64, 67, 0.15);\n",
              "      fill: #174EA6;\n",
              "    }\n",
              "\n",
              "    [theme=dark] .colab-df-convert {\n",
              "      background-color: #3B4455;\n",
              "      fill: #D2E3FC;\n",
              "    }\n",
              "\n",
              "    [theme=dark] .colab-df-convert:hover {\n",
              "      background-color: #434B5C;\n",
              "      box-shadow: 0px 1px 3px 1px rgba(0, 0, 0, 0.15);\n",
              "      filter: drop-shadow(0px 1px 2px rgba(0, 0, 0, 0.3));\n",
              "      fill: #FFFFFF;\n",
              "    }\n",
              "  </style>\n",
              "\n",
              "      <script>\n",
              "        const buttonEl =\n",
              "          document.querySelector('#df-303fc52d-5876-4781-9e2f-9f6e2ed8f4d4 button.colab-df-convert');\n",
              "        buttonEl.style.display =\n",
              "          google.colab.kernel.accessAllowed ? 'block' : 'none';\n",
              "\n",
              "        async function convertToInteractive(key) {\n",
              "          const element = document.querySelector('#df-303fc52d-5876-4781-9e2f-9f6e2ed8f4d4');\n",
              "          const dataTable =\n",
              "            await google.colab.kernel.invokeFunction('convertToInteractive',\n",
              "                                                     [key], {});\n",
              "          if (!dataTable) return;\n",
              "\n",
              "          const docLinkHtml = 'Like what you see? Visit the ' +\n",
              "            '<a target=\"_blank\" href=https://colab.research.google.com/notebooks/data_table.ipynb>data table notebook</a>'\n",
              "            + ' to learn more about interactive tables.';\n",
              "          element.innerHTML = '';\n",
              "          dataTable['output_type'] = 'display_data';\n",
              "          await google.colab.output.renderOutput(dataTable, element);\n",
              "          const docLink = document.createElement('div');\n",
              "          docLink.innerHTML = docLinkHtml;\n",
              "          element.appendChild(docLink);\n",
              "        }\n",
              "      </script>\n",
              "    </div>\n",
              "  </div>\n",
              "  "
            ],
            "text/plain": [
              "         loss  accuracy  val_loss  val_accuracy  epoch\n",
              "995  0.221778  0.909420  0.726970      0.903226    995\n",
              "996  0.217992  0.911232  0.944136      0.887097    996\n",
              "997  0.213928  0.913043  0.942018      0.903226    997\n",
              "998  0.212059  0.914855  0.960243      0.903226    998\n",
              "999  0.211318  0.914855  0.947673      0.887097    999"
            ]
          },
          "metadata": {},
          "execution_count": 44
        }
      ]
    },
    {
      "cell_type": "code",
      "source": [
        "neural_test = neural_model.predict(X_test)"
      ],
      "metadata": {
        "id": "sPHHRNnrudwg"
      },
      "execution_count": null,
      "outputs": []
    },
    {
      "cell_type": "code",
      "source": [
        "neural_test_converted = []\n",
        "for i in neural_test:\n",
        "  if i > 0.5:\n",
        "    neural_test_converted.append(1)\n",
        "  else:\n",
        "    neural_test_converted.append(0)"
      ],
      "metadata": {
        "id": "r7Ry9ttEu1wY"
      },
      "execution_count": null,
      "outputs": []
    },
    {
      "cell_type": "code",
      "source": [
        "cmp_list = model_perf(neural_test_converted, Y_test)\n"
      ],
      "metadata": {
        "id": "astUX-A_vjg4"
      },
      "execution_count": null,
      "outputs": []
    },
    {
      "cell_type": "code",
      "source": [
        "print('Test accuracy: ' + str(cmp_list.count(1)/len(Y_test)*100))"
      ],
      "metadata": {
        "colab": {
          "base_uri": "https://localhost:8080/"
        },
        "id": "x0Pd77SCv4Bo",
        "outputId": "59bdc1f0-2e50-484b-9a6d-6724d05b6395"
      },
      "execution_count": null,
      "outputs": [
        {
          "output_type": "stream",
          "name": "stdout",
          "text": [
            "Test accuracy: 83.11688311688312\n"
          ]
        }
      ]
    },
    {
      "cell_type": "markdown",
      "source": [
        "### Dumping the best `SVM` model using `pickle` "
      ],
      "metadata": {
        "id": "6VAO5T1DOkWd"
      }
    },
    {
      "cell_type": "code",
      "source": [
        "import pickle\n",
        "# dump our SVM model\n",
        "pickle.dump(svm_model, open('svm_model.pkl', 'wb'))"
      ],
      "metadata": {
        "id": "aIK1qO3VxOpJ"
      },
      "execution_count": null,
      "outputs": []
    },
    {
      "cell_type": "markdown",
      "source": [
        "## Deploying Model Using Streamlit"
      ],
      "metadata": {
        "id": "gnFBl4b5VBDA"
      }
    },
    {
      "cell_type": "code",
      "source": [
        "!pip install streamlit"
      ],
      "metadata": {
        "colab": {
          "base_uri": "https://localhost:8080/",
          "height": 1000
        },
        "id": "n_7C7bvqVVvQ",
        "outputId": "9fd69823-2707-4469-8cf2-9a83f0426b0c"
      },
      "execution_count": null,
      "outputs": [
        {
          "output_type": "stream",
          "name": "stdout",
          "text": [
            "Collecting streamlit\n",
            "  Downloading streamlit-1.5.1-py2.py3-none-any.whl (9.7 MB)\n",
            "\u001b[K     |████████████████████████████████| 9.7 MB 4.2 MB/s \n",
            "\u001b[?25hRequirement already satisfied: pandas>=0.21.0 in /usr/local/lib/python3.7/dist-packages (from streamlit) (1.3.5)\n",
            "Requirement already satisfied: pyarrow in /usr/local/lib/python3.7/dist-packages (from streamlit) (6.0.1)\n",
            "Requirement already satisfied: tornado>=5.0 in /usr/local/lib/python3.7/dist-packages (from streamlit) (5.1.1)\n",
            "Requirement already satisfied: click>=7.0 in /usr/local/lib/python3.7/dist-packages (from streamlit) (7.1.2)\n",
            "Collecting toml\n",
            "  Downloading toml-0.10.2-py2.py3-none-any.whl (16 kB)\n",
            "Collecting base58\n",
            "  Downloading base58-2.1.1-py3-none-any.whl (5.6 kB)\n",
            "Requirement already satisfied: packaging in /usr/local/lib/python3.7/dist-packages (from streamlit) (21.3)\n",
            "Requirement already satisfied: cachetools>=4.0 in /usr/local/lib/python3.7/dist-packages (from streamlit) (4.2.4)\n",
            "Collecting validators\n",
            "  Downloading validators-0.18.2-py3-none-any.whl (19 kB)\n",
            "Requirement already satisfied: altair>=3.2.0 in /usr/local/lib/python3.7/dist-packages (from streamlit) (4.2.0)\n",
            "Requirement already satisfied: protobuf!=3.11,>=3.6.0 in /usr/local/lib/python3.7/dist-packages (from streamlit) (3.17.3)\n",
            "Requirement already satisfied: typing-extensions in /usr/local/lib/python3.7/dist-packages (from streamlit) (3.10.0.2)\n",
            "Collecting watchdog\n",
            "  Downloading watchdog-2.1.6-py3-none-manylinux2014_x86_64.whl (76 kB)\n",
            "\u001b[K     |████████████████████████████████| 76 kB 5.0 MB/s \n",
            "\u001b[?25hRequirement already satisfied: astor in /usr/local/lib/python3.7/dist-packages (from streamlit) (0.8.1)\n",
            "Requirement already satisfied: requests in /usr/local/lib/python3.7/dist-packages (from streamlit) (2.23.0)\n",
            "Requirement already satisfied: attrs in /usr/local/lib/python3.7/dist-packages (from streamlit) (21.4.0)\n",
            "Collecting pympler>=0.9\n",
            "  Downloading Pympler-1.0.1-py3-none-any.whl (164 kB)\n",
            "\u001b[K     |████████████████████████████████| 164 kB 62.1 MB/s \n",
            "\u001b[?25hCollecting gitpython!=3.1.19\n",
            "  Downloading GitPython-3.1.27-py3-none-any.whl (181 kB)\n",
            "\u001b[K     |████████████████████████████████| 181 kB 56.0 MB/s \n",
            "\u001b[?25hRequirement already satisfied: tzlocal in /usr/local/lib/python3.7/dist-packages (from streamlit) (1.5.1)\n",
            "Requirement already satisfied: pillow>=6.2.0 in /usr/local/lib/python3.7/dist-packages (from streamlit) (7.1.2)\n",
            "Collecting pydeck>=0.1.dev5\n",
            "  Downloading pydeck-0.7.1-py2.py3-none-any.whl (4.3 MB)\n",
            "\u001b[K     |████████████████████████████████| 4.3 MB 39.6 MB/s \n",
            "\u001b[?25hRequirement already satisfied: numpy in /usr/local/lib/python3.7/dist-packages (from streamlit) (1.21.5)\n",
            "Requirement already satisfied: python-dateutil in /usr/local/lib/python3.7/dist-packages (from streamlit) (2.8.2)\n",
            "Collecting blinker\n",
            "  Downloading blinker-1.4.tar.gz (111 kB)\n",
            "\u001b[K     |████████████████████████████████| 111 kB 35.2 MB/s \n",
            "\u001b[?25hRequirement already satisfied: jinja2 in /usr/local/lib/python3.7/dist-packages (from altair>=3.2.0->streamlit) (2.11.3)\n",
            "Requirement already satisfied: jsonschema>=3.0 in /usr/local/lib/python3.7/dist-packages (from altair>=3.2.0->streamlit) (4.3.3)\n",
            "Requirement already satisfied: entrypoints in /usr/local/lib/python3.7/dist-packages (from altair>=3.2.0->streamlit) (0.4)\n",
            "Requirement already satisfied: toolz in /usr/local/lib/python3.7/dist-packages (from altair>=3.2.0->streamlit) (0.11.2)\n",
            "Collecting gitdb<5,>=4.0.1\n",
            "  Downloading gitdb-4.0.9-py3-none-any.whl (63 kB)\n",
            "\u001b[K     |████████████████████████████████| 63 kB 1.2 MB/s \n",
            "\u001b[?25hCollecting smmap<6,>=3.0.1\n",
            "  Downloading smmap-5.0.0-py3-none-any.whl (24 kB)\n",
            "Requirement already satisfied: pyrsistent!=0.17.0,!=0.17.1,!=0.17.2,>=0.14.0 in /usr/local/lib/python3.7/dist-packages (from jsonschema>=3.0->altair>=3.2.0->streamlit) (0.18.1)\n",
            "Requirement already satisfied: importlib-resources>=1.4.0 in /usr/local/lib/python3.7/dist-packages (from jsonschema>=3.0->altair>=3.2.0->streamlit) (5.4.0)\n",
            "Requirement already satisfied: importlib-metadata in /usr/local/lib/python3.7/dist-packages (from jsonschema>=3.0->altair>=3.2.0->streamlit) (4.11.0)\n",
            "Requirement already satisfied: zipp>=3.1.0 in /usr/local/lib/python3.7/dist-packages (from importlib-resources>=1.4.0->jsonschema>=3.0->altair>=3.2.0->streamlit) (3.7.0)\n",
            "Requirement already satisfied: pytz>=2017.3 in /usr/local/lib/python3.7/dist-packages (from pandas>=0.21.0->streamlit) (2018.9)\n",
            "Requirement already satisfied: six>=1.9 in /usr/local/lib/python3.7/dist-packages (from protobuf!=3.11,>=3.6.0->streamlit) (1.15.0)\n",
            "Requirement already satisfied: ipywidgets>=7.0.0 in /usr/local/lib/python3.7/dist-packages (from pydeck>=0.1.dev5->streamlit) (7.6.5)\n",
            "Requirement already satisfied: traitlets>=4.3.2 in /usr/local/lib/python3.7/dist-packages (from pydeck>=0.1.dev5->streamlit) (5.1.1)\n",
            "Collecting ipykernel>=5.1.2\n",
            "  Downloading ipykernel-6.9.1-py3-none-any.whl (128 kB)\n",
            "\u001b[K     |████████████████████████████████| 128 kB 57.3 MB/s \n",
            "\u001b[?25hCollecting ipython>=7.23.1\n",
            "  Downloading ipython-7.31.1-py3-none-any.whl (792 kB)\n",
            "\u001b[K     |████████████████████████████████| 792 kB 51.2 MB/s \n",
            "\u001b[?25hRequirement already satisfied: debugpy<2.0,>=1.0.0 in /usr/local/lib/python3.7/dist-packages (from ipykernel>=5.1.2->pydeck>=0.1.dev5->streamlit) (1.0.0)\n",
            "Requirement already satisfied: jupyter-client<8.0 in /usr/local/lib/python3.7/dist-packages (from ipykernel>=5.1.2->pydeck>=0.1.dev5->streamlit) (5.3.5)\n",
            "Requirement already satisfied: nest-asyncio in /usr/local/lib/python3.7/dist-packages (from ipykernel>=5.1.2->pydeck>=0.1.dev5->streamlit) (1.5.4)\n",
            "Requirement already satisfied: matplotlib-inline<0.2.0,>=0.1.0 in /usr/local/lib/python3.7/dist-packages (from ipykernel>=5.1.2->pydeck>=0.1.dev5->streamlit) (0.1.3)\n",
            "Requirement already satisfied: pickleshare in /usr/local/lib/python3.7/dist-packages (from ipython>=7.23.1->ipykernel>=5.1.2->pydeck>=0.1.dev5->streamlit) (0.7.5)\n",
            "Requirement already satisfied: decorator in /usr/local/lib/python3.7/dist-packages (from ipython>=7.23.1->ipykernel>=5.1.2->pydeck>=0.1.dev5->streamlit) (4.4.2)\n",
            "Requirement already satisfied: pexpect>4.3 in /usr/local/lib/python3.7/dist-packages (from ipython>=7.23.1->ipykernel>=5.1.2->pydeck>=0.1.dev5->streamlit) (4.8.0)\n",
            "Collecting prompt-toolkit!=3.0.0,!=3.0.1,<3.1.0,>=2.0.0\n",
            "  Downloading prompt_toolkit-3.0.28-py3-none-any.whl (380 kB)\n",
            "\u001b[K     |████████████████████████████████| 380 kB 69.1 MB/s \n",
            "\u001b[?25hRequirement already satisfied: pygments in /usr/local/lib/python3.7/dist-packages (from ipython>=7.23.1->ipykernel>=5.1.2->pydeck>=0.1.dev5->streamlit) (2.6.1)\n",
            "Requirement already satisfied: jedi>=0.16 in /usr/local/lib/python3.7/dist-packages (from ipython>=7.23.1->ipykernel>=5.1.2->pydeck>=0.1.dev5->streamlit) (0.18.1)\n",
            "Requirement already satisfied: setuptools>=18.5 in /usr/local/lib/python3.7/dist-packages (from ipython>=7.23.1->ipykernel>=5.1.2->pydeck>=0.1.dev5->streamlit) (57.4.0)\n",
            "Requirement already satisfied: backcall in /usr/local/lib/python3.7/dist-packages (from ipython>=7.23.1->ipykernel>=5.1.2->pydeck>=0.1.dev5->streamlit) (0.2.0)\n",
            "Requirement already satisfied: widgetsnbextension~=3.5.0 in /usr/local/lib/python3.7/dist-packages (from ipywidgets>=7.0.0->pydeck>=0.1.dev5->streamlit) (3.5.2)\n",
            "Requirement already satisfied: ipython-genutils~=0.2.0 in /usr/local/lib/python3.7/dist-packages (from ipywidgets>=7.0.0->pydeck>=0.1.dev5->streamlit) (0.2.0)\n",
            "Requirement already satisfied: nbformat>=4.2.0 in /usr/local/lib/python3.7/dist-packages (from ipywidgets>=7.0.0->pydeck>=0.1.dev5->streamlit) (5.1.3)\n",
            "Requirement already satisfied: jupyterlab-widgets>=1.0.0 in /usr/local/lib/python3.7/dist-packages (from ipywidgets>=7.0.0->pydeck>=0.1.dev5->streamlit) (1.0.2)\n",
            "Requirement already satisfied: parso<0.9.0,>=0.8.0 in /usr/local/lib/python3.7/dist-packages (from jedi>=0.16->ipython>=7.23.1->ipykernel>=5.1.2->pydeck>=0.1.dev5->streamlit) (0.8.3)\n",
            "Requirement already satisfied: MarkupSafe>=0.23 in /usr/local/lib/python3.7/dist-packages (from jinja2->altair>=3.2.0->streamlit) (2.0.1)\n",
            "Requirement already satisfied: jupyter-core>=4.6.0 in /usr/local/lib/python3.7/dist-packages (from jupyter-client<8.0->ipykernel>=5.1.2->pydeck>=0.1.dev5->streamlit) (4.9.1)\n",
            "Requirement already satisfied: pyzmq>=13 in /usr/local/lib/python3.7/dist-packages (from jupyter-client<8.0->ipykernel>=5.1.2->pydeck>=0.1.dev5->streamlit) (22.3.0)\n",
            "Requirement already satisfied: ptyprocess>=0.5 in /usr/local/lib/python3.7/dist-packages (from pexpect>4.3->ipython>=7.23.1->ipykernel>=5.1.2->pydeck>=0.1.dev5->streamlit) (0.7.0)\n",
            "Requirement already satisfied: wcwidth in /usr/local/lib/python3.7/dist-packages (from prompt-toolkit!=3.0.0,!=3.0.1,<3.1.0,>=2.0.0->ipython>=7.23.1->ipykernel>=5.1.2->pydeck>=0.1.dev5->streamlit) (0.2.5)\n",
            "Requirement already satisfied: notebook>=4.4.1 in /usr/local/lib/python3.7/dist-packages (from widgetsnbextension~=3.5.0->ipywidgets>=7.0.0->pydeck>=0.1.dev5->streamlit) (5.3.1)\n",
            "Requirement already satisfied: terminado>=0.8.1 in /usr/local/lib/python3.7/dist-packages (from notebook>=4.4.1->widgetsnbextension~=3.5.0->ipywidgets>=7.0.0->pydeck>=0.1.dev5->streamlit) (0.13.1)\n",
            "Requirement already satisfied: nbconvert in /usr/local/lib/python3.7/dist-packages (from notebook>=4.4.1->widgetsnbextension~=3.5.0->ipywidgets>=7.0.0->pydeck>=0.1.dev5->streamlit) (5.6.1)\n",
            "Requirement already satisfied: Send2Trash in /usr/local/lib/python3.7/dist-packages (from notebook>=4.4.1->widgetsnbextension~=3.5.0->ipywidgets>=7.0.0->pydeck>=0.1.dev5->streamlit) (1.8.0)\n",
            "Requirement already satisfied: pandocfilters>=1.4.1 in /usr/local/lib/python3.7/dist-packages (from nbconvert->notebook>=4.4.1->widgetsnbextension~=3.5.0->ipywidgets>=7.0.0->pydeck>=0.1.dev5->streamlit) (1.5.0)\n",
            "Requirement already satisfied: defusedxml in /usr/local/lib/python3.7/dist-packages (from nbconvert->notebook>=4.4.1->widgetsnbextension~=3.5.0->ipywidgets>=7.0.0->pydeck>=0.1.dev5->streamlit) (0.7.1)\n",
            "Requirement already satisfied: testpath in /usr/local/lib/python3.7/dist-packages (from nbconvert->notebook>=4.4.1->widgetsnbextension~=3.5.0->ipywidgets>=7.0.0->pydeck>=0.1.dev5->streamlit) (0.5.0)\n",
            "Requirement already satisfied: bleach in /usr/local/lib/python3.7/dist-packages (from nbconvert->notebook>=4.4.1->widgetsnbextension~=3.5.0->ipywidgets>=7.0.0->pydeck>=0.1.dev5->streamlit) (4.1.0)\n",
            "Requirement already satisfied: mistune<2,>=0.8.1 in /usr/local/lib/python3.7/dist-packages (from nbconvert->notebook>=4.4.1->widgetsnbextension~=3.5.0->ipywidgets>=7.0.0->pydeck>=0.1.dev5->streamlit) (0.8.4)\n",
            "Requirement already satisfied: webencodings in /usr/local/lib/python3.7/dist-packages (from bleach->nbconvert->notebook>=4.4.1->widgetsnbextension~=3.5.0->ipywidgets>=7.0.0->pydeck>=0.1.dev5->streamlit) (0.5.1)\n",
            "Requirement already satisfied: pyparsing!=3.0.5,>=2.0.2 in /usr/local/lib/python3.7/dist-packages (from packaging->streamlit) (3.0.7)\n",
            "Requirement already satisfied: idna<3,>=2.5 in /usr/local/lib/python3.7/dist-packages (from requests->streamlit) (2.10)\n",
            "Requirement already satisfied: urllib3!=1.25.0,!=1.25.1,<1.26,>=1.21.1 in /usr/local/lib/python3.7/dist-packages (from requests->streamlit) (1.24.3)\n",
            "Requirement already satisfied: chardet<4,>=3.0.2 in /usr/local/lib/python3.7/dist-packages (from requests->streamlit) (3.0.4)\n",
            "Requirement already satisfied: certifi>=2017.4.17 in /usr/local/lib/python3.7/dist-packages (from requests->streamlit) (2021.10.8)\n",
            "Building wheels for collected packages: blinker\n",
            "  Building wheel for blinker (setup.py) ... \u001b[?25l\u001b[?25hdone\n",
            "  Created wheel for blinker: filename=blinker-1.4-py3-none-any.whl size=13478 sha256=8758b020d4b40afcb08fbd86a5ab19fa328c8f3550f177e3a4c0b3494626a09a\n",
            "  Stored in directory: /root/.cache/pip/wheels/22/f5/18/df711b66eb25b21325c132757d4314db9ac5e8dabeaf196eab\n",
            "Successfully built blinker\n",
            "Installing collected packages: prompt-toolkit, ipython, ipykernel, smmap, gitdb, watchdog, validators, toml, pympler, pydeck, gitpython, blinker, base58, streamlit\n",
            "  Attempting uninstall: prompt-toolkit\n",
            "    Found existing installation: prompt-toolkit 1.0.18\n",
            "    Uninstalling prompt-toolkit-1.0.18:\n",
            "      Successfully uninstalled prompt-toolkit-1.0.18\n",
            "  Attempting uninstall: ipython\n",
            "    Found existing installation: ipython 5.5.0\n",
            "    Uninstalling ipython-5.5.0:\n",
            "      Successfully uninstalled ipython-5.5.0\n",
            "  Attempting uninstall: ipykernel\n",
            "    Found existing installation: ipykernel 4.10.1\n",
            "    Uninstalling ipykernel-4.10.1:\n",
            "      Successfully uninstalled ipykernel-4.10.1\n",
            "\u001b[31mERROR: pip's dependency resolver does not currently take into account all the packages that are installed. This behaviour is the source of the following dependency conflicts.\n",
            "jupyter-console 5.2.0 requires prompt-toolkit<2.0.0,>=1.0.0, but you have prompt-toolkit 3.0.28 which is incompatible.\n",
            "google-colab 1.0.0 requires ipykernel~=4.10, but you have ipykernel 6.9.1 which is incompatible.\n",
            "google-colab 1.0.0 requires ipython~=5.5.0, but you have ipython 7.31.1 which is incompatible.\u001b[0m\n",
            "Successfully installed base58-2.1.1 blinker-1.4 gitdb-4.0.9 gitpython-3.1.27 ipykernel-6.9.1 ipython-7.31.1 prompt-toolkit-3.0.28 pydeck-0.7.1 pympler-1.0.1 smmap-5.0.0 streamlit-1.5.1 toml-0.10.2 validators-0.18.2 watchdog-2.1.6\n"
          ]
        },
        {
          "output_type": "display_data",
          "data": {
            "application/vnd.colab-display-data+json": {
              "pip_warning": {
                "packages": [
                  "IPython",
                  "ipykernel",
                  "prompt_toolkit"
                ]
              }
            }
          },
          "metadata": {}
        }
      ]
    },
    {
      "cell_type": "markdown",
      "source": [
        "We will write our interactive web application to `app.py` file and run it. It gives the `url` to a local host web application where users can input their test values and get prediction."
      ],
      "metadata": {
        "id": "SoXvbINYPc7c"
      }
    },
    {
      "cell_type": "code",
      "source": [
        "%%writefile app.py\n",
        "import streamlit as st\n",
        "import pandas as pd\n",
        "import pickle\n",
        "from sklearn.preprocessing import StandardScaler\n",
        "\n",
        "std_X = StandardScaler()\n",
        "pickled_model = pickle.load(open('svm_model.pkl', 'rb'))\n",
        "st.title('Diabetes Detection System')\n",
        "st.markdown (\n",
        "    \"\"\"\n",
        "    <style>\n",
        "    [data-testid='stSidebar'][aria-expanded='true'] > div:first-child{\n",
        "       width:350px\n",
        "    }\n",
        "    [data-testid='stSidebar'][aria-expanded='true'] > div:first-child{\n",
        "       width:350px\n",
        "       margin-left: -350px\n",
        "    }\n",
        "    </style>\n",
        "\n",
        "\n",
        "    \"\"\",\n",
        "    unsafe_allow_html=True\n",
        ")\n",
        "pregnancies = st.number_input('Pregnancies')\n",
        "glucose = st.number_input('Glucose')\n",
        "bloodpressure = st.number_input('BloodPressure')\n",
        "skinthickness = st.number_input('SkinThickness')\n",
        "insulin = st.number_input('Insulin')\n",
        "BMI = st.number_input('BMI')\n",
        "diabetespf = st.number_input('Diabetes Pedigree Function')\n",
        "age = st.number_input('Age')\n",
        "\n",
        "submitted = st.button('Submit')\n",
        "if submitted:\n",
        "\n",
        "  df = pd.DataFrame({\n",
        "      'Pregnancies': [pregnancies],\n",
        "       'Glucose': [glucose],\n",
        "        'BloodPressure': [bloodpressure],\n",
        "         'SkinThickness': [skinthickness],\n",
        "          'Insulin': [insulin],\n",
        "           'BMI': [BMI],\n",
        "            'DiabetesPedigreeFunction': [diabetespf],\n",
        "             'Age': [age]})\n",
        "  \n",
        "  x = pd.DataFrame(std_X.fit_transform(df))\n",
        "  prediction = pickled_model.predict(x)\n",
        "  if prediction > 0.5:\n",
        "    st.write('You are diabetic')\n",
        "  else:\n",
        "    st.write('You are non-diabetic')\n",
        "\n",
        "\n",
        "\n",
        "\n",
        "\n",
        "\n",
        "\n"
      ],
      "metadata": {
        "colab": {
          "base_uri": "https://localhost:8080/"
        },
        "id": "uuXL9ALMVCpH",
        "outputId": "9dae3a4c-a6d2-4c57-e1d3-4244c4be34f5"
      },
      "execution_count": null,
      "outputs": [
        {
          "output_type": "stream",
          "name": "stdout",
          "text": [
            "Overwriting app.py\n"
          ]
        }
      ]
    },
    {
      "cell_type": "markdown",
      "source": [
        "# Running our app on `colab`\n",
        "The `app.py` file returns a local host web application which we can run on our local browser. Inorder to share the web app with our friends, we will run the `app.py` file through `localtunnel`."
      ],
      "metadata": {
        "id": "X6KAW_MyQS1z"
      }
    },
    {
      "cell_type": "code",
      "source": [
        "# run streamlit using `localtunnel`\n",
        "!streamlit run app.py & npx localtunnel --port 8501"
      ],
      "metadata": {
        "id": "rN4WxYRFWKcb"
      },
      "execution_count": null,
      "outputs": []
    },
    {
      "cell_type": "code",
      "source": [
        ""
      ],
      "metadata": {
        "id": "Cns0qYv4r7_m"
      },
      "execution_count": null,
      "outputs": []
    }
  ]
}